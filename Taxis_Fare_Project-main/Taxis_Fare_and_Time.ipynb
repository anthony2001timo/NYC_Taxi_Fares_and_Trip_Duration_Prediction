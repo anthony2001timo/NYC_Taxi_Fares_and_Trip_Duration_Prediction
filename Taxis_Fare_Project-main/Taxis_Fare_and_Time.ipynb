{
 "cells": [
  {
   "cell_type": "markdown",
   "metadata": {},
   "source": [
    "January"
   ]
  },
  {
   "cell_type": "code",
   "execution_count": 5,
   "metadata": {},
   "outputs": [
    {
     "name": "stderr",
     "output_type": "stream",
     "text": [
      "C:\\Users\\Anthony Zambrano\\AppData\\Local\\Temp\\ipykernel_19360\\283930372.py:6: DtypeWarning: Columns (6) have mixed types. Specify dtype option on import or set low_memory=False.\n",
      "  df = pd.read_csv(file_path)\n"
     ]
    },
    {
     "name": "stdout",
     "output_type": "stream",
     "text": [
      "Missing Values:\n",
      " VendorID                     0\n",
      "tpep_pickup_datetime         0\n",
      "tpep_dropoff_datetime        0\n",
      "passenger_count          71503\n",
      "trip_distance                0\n",
      "RatecodeID               71503\n",
      "store_and_fwd_flag       71503\n",
      "PULocationID                 0\n",
      "DOLocationID                 0\n",
      "payment_type                 0\n",
      "fare_amount                  0\n",
      "extra                        0\n",
      "mta_tax                      0\n",
      "tip_amount                   0\n",
      "tolls_amount                 0\n",
      "improvement_surcharge        0\n",
      "total_amount                 0\n",
      "congestion_surcharge     71503\n",
      "airport_fee              71503\n",
      "dtype: int64\n",
      "Data cleaning completed. Remaining records: 2422848\n",
      "Cleaned dataset saved to C:/Users/Anthony Zambrano/Taxis_Fare_Project/cleaned_yellow_tripdata_2022-01.csv\n"
     ]
    }
   ],
   "source": [
    "\n",
    "import pandas as pd\n",
    "import numpy as np\n",
    "\n",
    "# Load the dataset (January 2022)\n",
    "file_path = r\"C:/Users/Anthony Zambrano/Taxis_Fare_Project/yellow_tripdata_2022-01.csv\"\n",
    "df = pd.read_csv(file_path)\n",
    "\n",
    "# Check for missing values\n",
    "missing_values = df.isnull().sum()\n",
    "print(\"Missing Values:\\n\", missing_values)\n",
    "\n",
    "# Drop rows with missing essential fields\n",
    "df.dropna(subset=['fare_amount', 'tpep_pickup_datetime', 'tpep_dropoff_datetime'], inplace=True)\n",
    "\n",
    "# Convert date columns to datetime format\n",
    "df['tpep_pickup_datetime'] = pd.to_datetime(df['tpep_pickup_datetime'])\n",
    "df['tpep_dropoff_datetime'] = pd.to_datetime(df['tpep_dropoff_datetime'])\n",
    "\n",
    "# Remove trips with zero or negative duration and distance\n",
    "df = df[(df['trip_distance'] > 0) & (df['fare_amount'] > 0)]\n",
    "\n",
    "# Feature engineering\n",
    "df['pickup_hour'] = df['tpep_pickup_datetime'].dt.hour\n",
    "df['pickup_day'] = df['tpep_pickup_datetime'].dt.dayofweek\n",
    "\n",
    "# Drop duplicates\n",
    "df.drop_duplicates(inplace=True)\n",
    "\n",
    "# Print the results of the cleaning\n",
    "print(\"Data cleaning completed. Remaining records:\", len(df))\n",
    "\n",
    "# Save cleaned data as a new CSV file\n",
    "cleaned_file_path = r\"C:/Users/Anthony Zambrano/Taxis_Fare_Project/cleaned_yellow_tripdata_2022-01.csv\"\n",
    "df.to_csv(cleaned_file_path, index=False)\n",
    "\n",
    "print(f\"Cleaned dataset saved to {cleaned_file_path}\")\n",
    "\n"
   ]
  },
  {
   "cell_type": "code",
   "execution_count": null,
   "metadata": {},
   "outputs": [
    {
     "name": "stdout",
     "output_type": "stream",
     "text": [
      "VendorID                     0\n",
      "tpep_pickup_datetime         0\n",
      "tpep_dropoff_datetime        0\n",
      "passenger_count          69976\n",
      "trip_distance                0\n",
      "RatecodeID               69976\n",
      "store_and_fwd_flag       69976\n",
      "PULocationID                 0\n",
      "DOLocationID                 0\n",
      "payment_type                 0\n",
      "fare_amount                  0\n",
      "extra                        0\n",
      "mta_tax                      0\n",
      "tip_amount                   0\n",
      "tolls_amount                 0\n",
      "improvement_surcharge        0\n",
      "total_amount                 0\n",
      "congestion_surcharge     69976\n",
      "airport_fee              69976\n",
      "pickup_hour                  0\n",
      "pickup_day                   0\n",
      "dtype: int64\n"
     ]
    }
   ],
   "source": [
    "# Check for missing values\n",
    "missing_values = df_cleaned.isnull().sum()\n",
    "print(missing_values)\n"
   ]
  },
  {
   "cell_type": "code",
   "execution_count": 6,
   "metadata": {},
   "outputs": [
    {
     "name": "stderr",
     "output_type": "stream",
     "text": [
      "C:\\Users\\Anthony Zambrano\\AppData\\Local\\Temp\\ipykernel_19360\\1646935292.py:5: DtypeWarning: Columns (6) have mixed types. Specify dtype option on import or set low_memory=False.\n",
      "  df_cleaned = pd.read_csv(cleaned_file_path)\n"
     ]
    },
    {
     "name": "stdout",
     "output_type": "stream",
     "text": [
      "   VendorID tpep_pickup_datetime tpep_dropoff_datetime  passenger_count  \\\n",
      "0         1  2022-01-01 00:35:40   2022-01-01 00:53:29              2.0   \n",
      "1         1  2022-01-01 00:33:43   2022-01-01 00:42:07              1.0   \n",
      "2         2  2022-01-01 00:53:21   2022-01-01 01:02:19              1.0   \n",
      "3         2  2022-01-01 00:25:21   2022-01-01 00:35:23              1.0   \n",
      "4         2  2022-01-01 00:36:48   2022-01-01 01:14:20              1.0   \n",
      "\n",
      "   trip_distance  RatecodeID store_and_fwd_flag  PULocationID  DOLocationID  \\\n",
      "0           3.80         1.0                  N           142           236   \n",
      "1           2.10         1.0                  N           236            42   \n",
      "2           0.97         1.0                  N           166           166   \n",
      "3           1.09         1.0                  N           114            68   \n",
      "4           4.30         1.0                  N            68           163   \n",
      "\n",
      "   payment_type  ...  extra  mta_tax  tip_amount  tolls_amount  \\\n",
      "0             1  ...    3.0      0.5        3.65           0.0   \n",
      "1             1  ...    0.5      0.5        4.00           0.0   \n",
      "2             1  ...    0.5      0.5        1.76           0.0   \n",
      "3             2  ...    0.5      0.5        0.00           0.0   \n",
      "4             1  ...    0.5      0.5        3.00           0.0   \n",
      "\n",
      "   improvement_surcharge  total_amount  congestion_surcharge  airport_fee  \\\n",
      "0                    0.3         21.95                   2.5          0.0   \n",
      "1                    0.3         13.30                   0.0          0.0   \n",
      "2                    0.3         10.56                   0.0          0.0   \n",
      "3                    0.3         11.80                   2.5          0.0   \n",
      "4                    0.3         30.30                   2.5          0.0   \n",
      "\n",
      "   pickup_hour  pickup_day  \n",
      "0            0           5  \n",
      "1            0           5  \n",
      "2            0           5  \n",
      "3            0           5  \n",
      "4            0           5  \n",
      "\n",
      "[5 rows x 21 columns]\n",
      "           VendorID  passenger_count  trip_distance    RatecodeID  \\\n",
      "count  2.422848e+06     2.352872e+06   2.422848e+06  2.352872e+06   \n",
      "mean   1.708594e+00     1.391696e+00   5.451817e+00  1.342322e+00   \n",
      "std    5.025485e-01     9.859693e-01   5.524964e+02  5.400185e+00   \n",
      "min    1.000000e+00     0.000000e+00   1.000000e-02  1.000000e+00   \n",
      "25%    1.000000e+00     1.000000e+00   1.080000e+00  1.000000e+00   \n",
      "50%    2.000000e+00     1.000000e+00   1.780000e+00  1.000000e+00   \n",
      "75%    2.000000e+00     1.000000e+00   3.180000e+00  1.000000e+00   \n",
      "max    6.000000e+00     9.000000e+00   3.061593e+05  9.900000e+01   \n",
      "\n",
      "       PULocationID  DOLocationID  payment_type   fare_amount         extra  \\\n",
      "count  2.422848e+06  2.422848e+06  2.422848e+06  2.422848e+06  2.422848e+06   \n",
      "mean   1.661888e+02  1.635969e+02  1.180297e+00  1.293998e+01  1.020448e+00   \n",
      "std    6.537201e+01  7.073046e+01  4.668711e-01  2.579388e+02  1.235975e+00   \n",
      "min    1.000000e+00  1.000000e+00  0.000000e+00  1.000000e-02  0.000000e+00   \n",
      "25%    1.320000e+02  1.130000e+02  1.000000e+00  6.500000e+00  0.000000e+00   \n",
      "50%    1.620000e+02  1.620000e+02  1.000000e+00  9.000000e+00  5.000000e-01   \n",
      "75%    2.340000e+02  2.360000e+02  1.000000e+00  1.377000e+01  2.500000e+00   \n",
      "max    2.650000e+02  2.650000e+02  5.000000e+00  4.010923e+05  3.350000e+01   \n",
      "\n",
      "            mta_tax    tip_amount  tolls_amount  improvement_surcharge  \\\n",
      "count  2.422848e+06  2.422848e+06  2.422848e+06           2.422848e+06   \n",
      "mean   4.979126e-01  2.396830e+00  3.725475e-01           2.999629e-01   \n",
      "std    3.401955e-02  2.751716e+00  1.662163e+00           3.338044e-03   \n",
      "min   -5.000000e-01 -3.600000e+00  0.000000e+00           0.000000e+00   \n",
      "25%    5.000000e-01  1.000000e+00  0.000000e+00           3.000000e-01   \n",
      "50%    5.000000e-01  2.000000e+00  0.000000e+00           3.000000e-01   \n",
      "75%    5.000000e-01  3.000000e+00  0.000000e+00           3.000000e-01   \n",
      "max    1.659000e+01  8.888800e+02  1.933000e+02           3.000000e-01   \n",
      "\n",
      "       total_amount  congestion_surcharge   airport_fee   pickup_hour  \\\n",
      "count  2.422848e+06          2.352872e+06  2.352872e+06  2.422848e+06   \n",
      "mean   1.922490e+01          2.322236e+00  8.333273e-02  1.403997e+01   \n",
      "std    2.580788e+02          6.425018e-01  3.118038e-01  5.541327e+00   \n",
      "min    3.100000e-01          0.000000e+00  0.000000e+00  0.000000e+00   \n",
      "25%    1.133000e+01          2.500000e+00  0.000000e+00  1.000000e+01   \n",
      "50%    1.472000e+01          2.500000e+00  0.000000e+00  1.500000e+01   \n",
      "75%    2.000000e+01          2.500000e+00  0.000000e+00  1.800000e+01   \n",
      "max    4.010956e+05          2.500000e+00  1.250000e+00  2.300000e+01   \n",
      "\n",
      "         pickup_day  \n",
      "count  2.422848e+06  \n",
      "mean   3.006840e+00  \n",
      "std    2.005599e+00  \n",
      "min    0.000000e+00  \n",
      "25%    1.000000e+00  \n",
      "50%    3.000000e+00  \n",
      "75%    5.000000e+00  \n",
      "max    6.000000e+00  \n",
      "0    14.5\n",
      "1     8.0\n",
      "2     7.5\n",
      "3     8.0\n",
      "4    23.5\n",
      "Name: fare_amount, dtype: float64\n"
     ]
    }
   ],
   "source": [
    "import pandas as pd\n",
    "\n",
    "# Load the cleaned dataset\n",
    "cleaned_file_path = r\"C:/Users/Anthony Zambrano/Taxis_Fare_Project/cleaned_yellow_tripdata_2022-01.csv\"\n",
    "df_cleaned = pd.read_csv(cleaned_file_path)\n",
    "\n",
    "# Display the first few rows of the cleaned data\n",
    "print(df_cleaned.head())\n",
    "\n",
    "# Optionally, if you want to see a summary of the data\n",
    "print(df_cleaned.describe())\n",
    "\n",
    "# If you want to check a specific column (e.g., the first few records of 'fare_amount')\n",
    "print(df_cleaned['fare_amount'].head())\n"
   ]
  },
  {
   "cell_type": "code",
   "execution_count": 1,
   "metadata": {},
   "outputs": [
    {
     "ename": "NameError",
     "evalue": "name 'df_cleaned' is not defined",
     "output_type": "error",
     "traceback": [
      "\u001b[1;31m---------------------------------------------------------------------------\u001b[0m",
      "\u001b[1;31mNameError\u001b[0m                                 Traceback (most recent call last)",
      "Cell \u001b[1;32mIn[1], line 2\u001b[0m\n\u001b[0;32m      1\u001b[0m \u001b[38;5;66;03m# Check for missing values\u001b[39;00m\n\u001b[1;32m----> 2\u001b[0m missing_values \u001b[38;5;241m=\u001b[39m \u001b[43mdf_cleaned\u001b[49m\u001b[38;5;241m.\u001b[39misnull()\u001b[38;5;241m.\u001b[39msum()\n\u001b[0;32m      3\u001b[0m \u001b[38;5;28mprint\u001b[39m(missing_values)\n",
      "\u001b[1;31mNameError\u001b[0m: name 'df_cleaned' is not defined"
     ]
    }
   ],
   "source": [
    "# Check for missing values\n",
    "missing_values = df_cleaned.isnull().sum()\n",
    "print(missing_values)\n"
   ]
  },
  {
   "cell_type": "code",
   "execution_count": 8,
   "metadata": {},
   "outputs": [
    {
     "name": "stderr",
     "output_type": "stream",
     "text": [
      "C:\\Users\\Anthony Zambrano\\AppData\\Local\\Temp\\ipykernel_19360\\3693122942.py:2: FutureWarning: A value is trying to be set on a copy of a DataFrame or Series through chained assignment using an inplace method.\n",
      "The behavior will change in pandas 3.0. This inplace method will never work because the intermediate object on which we are setting values always behaves as a copy.\n",
      "\n",
      "For example, when doing 'df[col].method(value, inplace=True)', try using 'df.method({col: value}, inplace=True)' or df[col] = df[col].method(value) instead, to perform the operation inplace on the original object.\n",
      "\n",
      "\n",
      "  df_cleaned['passenger_count'].fillna(df_cleaned['passenger_count'].mean(), inplace=True)\n",
      "C:\\Users\\Anthony Zambrano\\AppData\\Local\\Temp\\ipykernel_19360\\3693122942.py:5: FutureWarning: A value is trying to be set on a copy of a DataFrame or Series through chained assignment using an inplace method.\n",
      "The behavior will change in pandas 3.0. This inplace method will never work because the intermediate object on which we are setting values always behaves as a copy.\n",
      "\n",
      "For example, when doing 'df[col].method(value, inplace=True)', try using 'df.method({col: value}, inplace=True)' or df[col] = df[col].method(value) instead, to perform the operation inplace on the original object.\n",
      "\n",
      "\n",
      "  df_cleaned['store_and_fwd_flag'].fillna('N', inplace=True)\n",
      "C:\\Users\\Anthony Zambrano\\AppData\\Local\\Temp\\ipykernel_19360\\3693122942.py:8: FutureWarning: A value is trying to be set on a copy of a DataFrame or Series through chained assignment using an inplace method.\n",
      "The behavior will change in pandas 3.0. This inplace method will never work because the intermediate object on which we are setting values always behaves as a copy.\n",
      "\n",
      "For example, when doing 'df[col].method(value, inplace=True)', try using 'df.method({col: value}, inplace=True)' or df[col] = df[col].method(value) instead, to perform the operation inplace on the original object.\n",
      "\n",
      "\n",
      "  df_cleaned['congestion_surcharge'].fillna(0, inplace=True)\n",
      "C:\\Users\\Anthony Zambrano\\AppData\\Local\\Temp\\ipykernel_19360\\3693122942.py:9: FutureWarning: A value is trying to be set on a copy of a DataFrame or Series through chained assignment using an inplace method.\n",
      "The behavior will change in pandas 3.0. This inplace method will never work because the intermediate object on which we are setting values always behaves as a copy.\n",
      "\n",
      "For example, when doing 'df[col].method(value, inplace=True)', try using 'df.method({col: value}, inplace=True)' or df[col] = df[col].method(value) instead, to perform the operation inplace on the original object.\n",
      "\n",
      "\n",
      "  df_cleaned['airport_fee'].fillna(0, inplace=True)\n"
     ]
    },
    {
     "name": "stdout",
     "output_type": "stream",
     "text": [
      "VendorID                 0\n",
      "tpep_pickup_datetime     0\n",
      "tpep_dropoff_datetime    0\n",
      "passenger_count          0\n",
      "trip_distance            0\n",
      "RatecodeID               0\n",
      "store_and_fwd_flag       0\n",
      "PULocationID             0\n",
      "DOLocationID             0\n",
      "payment_type             0\n",
      "fare_amount              0\n",
      "extra                    0\n",
      "mta_tax                  0\n",
      "tip_amount               0\n",
      "tolls_amount             0\n",
      "improvement_surcharge    0\n",
      "total_amount             0\n",
      "congestion_surcharge     0\n",
      "airport_fee              0\n",
      "pickup_hour              0\n",
      "pickup_day               0\n",
      "dtype: int64\n"
     ]
    }
   ],
   "source": [
    "# Fill missing values in 'passenger_count' with the mean\n",
    "df_cleaned['passenger_count'].fillna(df_cleaned['passenger_count'].mean(), inplace=True)\n",
    "\n",
    "# Fill 'store_and_fwd_flag' with 'N' (assumed that most are 'N')\n",
    "df_cleaned['store_and_fwd_flag'].fillna('N', inplace=True)\n",
    "\n",
    "# Fill missing values in 'congestion_surcharge' and 'airport_fee' with 0\n",
    "df_cleaned['congestion_surcharge'].fillna(0, inplace=True)\n",
    "df_cleaned['airport_fee'].fillna(0, inplace=True)\n",
    "\n",
    "# If necessary, drop rows with missing values in 'RatecodeID'\n",
    "df_cleaned.dropna(subset=['RatecodeID'], inplace=True)\n",
    "\n",
    "# Verify if missing values were handled\n",
    "missing_values = df_cleaned.isnull().sum()\n",
    "print(missing_values)\n"
   ]
  },
  {
   "cell_type": "code",
   "execution_count": 2,
   "metadata": {},
   "outputs": [
    {
     "name": "stderr",
     "output_type": "stream",
     "text": [
      "C:\\Users\\Anthony Zambrano\\AppData\\Local\\Temp\\ipykernel_19360\\3985920793.py:3: DtypeWarning: Columns (6) have mixed types. Specify dtype option on import or set low_memory=False.\n",
      "  df = pd.read_csv(\"C:/Users\\Anthony Zambrano/Taxis_Fare_Project/yellow_tripdata_2022-01.csv\")\n"
     ]
    },
    {
     "name": "stdout",
     "output_type": "stream",
     "text": [
      "   VendorID tpep_pickup_datetime tpep_dropoff_datetime  passenger_count  \\\n",
      "0         1  2022-01-01 00:35:40   2022-01-01 00:53:29              2.0   \n",
      "1         1  2022-01-01 00:33:43   2022-01-01 00:42:07              1.0   \n",
      "2         2  2022-01-01 00:53:21   2022-01-01 01:02:19              1.0   \n",
      "3         2  2022-01-01 00:25:21   2022-01-01 00:35:23              1.0   \n",
      "4         2  2022-01-01 00:36:48   2022-01-01 01:14:20              1.0   \n",
      "\n",
      "   trip_distance  RatecodeID store_and_fwd_flag  PULocationID  DOLocationID  \\\n",
      "0           3.80         1.0                  N           142           236   \n",
      "1           2.10         1.0                  N           236            42   \n",
      "2           0.97         1.0                  N           166           166   \n",
      "3           1.09         1.0                  N           114            68   \n",
      "4           4.30         1.0                  N            68           163   \n",
      "\n",
      "   payment_type  fare_amount  extra  mta_tax  tip_amount  tolls_amount  \\\n",
      "0             1         14.5    3.0      0.5        3.65           0.0   \n",
      "1             1          8.0    0.5      0.5        4.00           0.0   \n",
      "2             1          7.5    0.5      0.5        1.76           0.0   \n",
      "3             2          8.0    0.5      0.5        0.00           0.0   \n",
      "4             1         23.5    0.5      0.5        3.00           0.0   \n",
      "\n",
      "   improvement_surcharge  total_amount  congestion_surcharge  airport_fee  \n",
      "0                    0.3         21.95                   2.5          0.0  \n",
      "1                    0.3         13.30                   0.0          0.0  \n",
      "2                    0.3         10.56                   0.0          0.0  \n",
      "3                    0.3         11.80                   2.5          0.0  \n",
      "4                    0.3         30.30                   2.5          0.0  \n"
     ]
    }
   ],
   "source": [
    "import pandas as pd\n",
    "\n",
    "df = pd.read_csv(\"C:/Users\\Anthony Zambrano/Taxis_Fare_Project/yellow_tripdata_2022-01.csv\")\n",
    "\n",
    "print(df.head())\n"
   ]
  },
  {
   "cell_type": "code",
   "execution_count": 9,
   "metadata": {},
   "outputs": [],
   "source": [
    "# Remove duplicates\n",
    "df_cleaned.drop_duplicates(inplace=True)\n"
   ]
  },
  {
   "cell_type": "code",
   "execution_count": 10,
   "metadata": {},
   "outputs": [
    {
     "data": {
      "image/png": "[encoded data removed]",
      "text/plain": [
       "<Figure size 640x480 with 1 Axes>"
      ]
     },
     "metadata": {},
     "output_type": "display_data"
    }
   ],
   "source": [
    "# Check for outliers in numeric columns\n",
    "import matplotlib.pyplot as plt\n",
    "\n",
    "df_cleaned.boxplot(column=['trip_distance', 'fare_amount', 'tip_amount', 'total_amount'])\n",
    "plt.show()\n"
   ]
  },
  {
   "cell_type": "code",
   "execution_count": 11,
   "metadata": {},
   "outputs": [],
   "source": [
    "# Example of removing values outside a reasonable range for trip_distance\n",
    "df_cleaned = df_cleaned[df_cleaned['trip_distance'] < 100]  # assuming 100 miles is an unrealistic trip distance\n"
   ]
  },
  {
   "cell_type": "code",
   "execution_count": 12,
   "metadata": {},
   "outputs": [],
   "source": [
    "# Convert to datetime format\n",
    "df_cleaned['tpep_pickup_datetime'] = pd.to_datetime(df_cleaned['tpep_pickup_datetime'])\n",
    "df_cleaned['tpep_dropoff_datetime'] = pd.to_datetime(df_cleaned['tpep_dropoff_datetime'])\n"
   ]
  },
  {
   "cell_type": "code",
   "execution_count": 13,
   "metadata": {},
   "outputs": [],
   "source": [
    "# Create trip duration feature\n",
    "df_cleaned['trip_duration'] = (df_cleaned['tpep_dropoff_datetime'] - df_cleaned['tpep_pickup_datetime']).dt.total_seconds() / 60\n"
   ]
  },
  {
   "cell_type": "code",
   "execution_count": 14,
   "metadata": {},
   "outputs": [],
   "source": [
    "# One-hot encoding for categorical variables\n",
    "df_cleaned = pd.get_dummies(df_cleaned, columns=['payment_type', 'store_and_fwd_flag', 'RatecodeID'], drop_first=True)\n"
   ]
  },
  {
   "cell_type": "code",
   "execution_count": 15,
   "metadata": {},
   "outputs": [],
   "source": [
    "# Downcast integer columns to save memory\n",
    "df_cleaned['passenger_count'] = pd.to_numeric(df_cleaned['passenger_count'], downcast='integer')\n"
   ]
  },
  {
   "cell_type": "code",
   "execution_count": 16,
   "metadata": {},
   "outputs": [
    {
     "name": "stdout",
     "output_type": "stream",
     "text": [
      "\n",
      "DataFrame after cleaning and feature engineering:\n",
      "   VendorID tpep_pickup_datetime tpep_dropoff_datetime  passenger_count  \\\n",
      "0         1  2022-01-01 00:35:40   2022-01-01 00:53:29                2   \n",
      "1         1  2022-01-01 00:33:43   2022-01-01 00:42:07                1   \n",
      "2         2  2022-01-01 00:53:21   2022-01-01 01:02:19                1   \n",
      "3         2  2022-01-01 00:25:21   2022-01-01 00:35:23                1   \n",
      "4         2  2022-01-01 00:36:48   2022-01-01 01:14:20                1   \n",
      "\n",
      "   trip_distance  PULocationID  DOLocationID  fare_amount  extra  mta_tax  \\\n",
      "0           3.80           142           236         14.5    3.0      0.5   \n",
      "1           2.10           236            42          8.0    0.5      0.5   \n",
      "2           0.97           166           166          7.5    0.5      0.5   \n",
      "3           1.09           114            68          8.0    0.5      0.5   \n",
      "4           4.30            68           163         23.5    0.5      0.5   \n",
      "\n",
      "   ...  payment_type_3  payment_type_4  payment_type_5  store_and_fwd_flag_Y  \\\n",
      "0  ...           False           False           False                 False   \n",
      "1  ...           False           False           False                 False   \n",
      "2  ...           False           False           False                 False   \n",
      "3  ...           False           False           False                 False   \n",
      "4  ...           False           False           False                 False   \n",
      "\n",
      "   RatecodeID_2.0  RatecodeID_3.0  RatecodeID_4.0  RatecodeID_5.0  \\\n",
      "0           False           False           False           False   \n",
      "1           False           False           False           False   \n",
      "2           False           False           False           False   \n",
      "3           False           False           False           False   \n",
      "4           False           False           False           False   \n",
      "\n",
      "   RatecodeID_6.0  RatecodeID_99.0  \n",
      "0           False            False  \n",
      "1           False            False  \n",
      "2           False            False  \n",
      "3           False            False  \n",
      "4           False            False  \n",
      "\n",
      "[5 rows x 30 columns]\n"
     ]
    }
   ],
   "source": [
    "# Verify the final cleaned dataframe\n",
    "print(\"\\nDataFrame after cleaning and feature engineering:\")\n",
    "print(df_cleaned.head())"
   ]
  },
  {
   "cell_type": "code",
   "execution_count": 17,
   "metadata": {},
   "outputs": [],
   "source": [
    "# Save the cleaned DataFrame to a CSV file\n",
    "df_cleaned.to_csv(r'C:\\Users\\Anthony Zambrano\\Taxis_Fare_Project\\cleaned_yellow_tripdata_2022-01.csv', index=False)\n"
   ]
  },
  {
   "cell_type": "code",
   "execution_count": 18,
   "metadata": {},
   "outputs": [
    {
     "name": "stdout",
     "output_type": "stream",
     "text": [
      "   VendorID tpep_pickup_datetime tpep_dropoff_datetime  passenger_count  \\\n",
      "0         1  2022-01-01 00:35:40   2022-01-01 00:53:29                2   \n",
      "1         1  2022-01-01 00:33:43   2022-01-01 00:42:07                1   \n",
      "2         2  2022-01-01 00:53:21   2022-01-01 01:02:19                1   \n",
      "3         2  2022-01-01 00:25:21   2022-01-01 00:35:23                1   \n",
      "4         2  2022-01-01 00:36:48   2022-01-01 01:14:20                1   \n",
      "\n",
      "   trip_distance  PULocationID  DOLocationID  fare_amount  extra  mta_tax  \\\n",
      "0           3.80           142           236         14.5    3.0      0.5   \n",
      "1           2.10           236            42          8.0    0.5      0.5   \n",
      "2           0.97           166           166          7.5    0.5      0.5   \n",
      "3           1.09           114            68          8.0    0.5      0.5   \n",
      "4           4.30            68           163         23.5    0.5      0.5   \n",
      "\n",
      "   ...  payment_type_3  payment_type_4  payment_type_5  store_and_fwd_flag_Y  \\\n",
      "0  ...           False           False           False                 False   \n",
      "1  ...           False           False           False                 False   \n",
      "2  ...           False           False           False                 False   \n",
      "3  ...           False           False           False                 False   \n",
      "4  ...           False           False           False                 False   \n",
      "\n",
      "   RatecodeID_2.0  RatecodeID_3.0  RatecodeID_4.0  RatecodeID_5.0  \\\n",
      "0           False           False           False           False   \n",
      "1           False           False           False           False   \n",
      "2           False           False           False           False   \n",
      "3           False           False           False           False   \n",
      "4           False           False           False           False   \n",
      "\n",
      "   RatecodeID_6.0  RatecodeID_99.0  \n",
      "0           False            False  \n",
      "1           False            False  \n",
      "2           False            False  \n",
      "3           False            False  \n",
      "4           False            False  \n",
      "\n",
      "[5 rows x 30 columns]\n"
     ]
    }
   ],
   "source": [
    "import pandas as pd\n",
    "\n",
    "# Load the saved CSV file\n",
    "df_loaded = pd.read_csv(r'C:\\Users\\Anthony Zambrano\\Taxis_Fare_Project\\cleaned_yellow_tripdata_2022-01.csv')\n",
    "\n",
    "# Display the first few rows of the DataFrame\n",
    "print(df_loaded.head())\n"
   ]
  },
  {
   "cell_type": "markdown",
   "metadata": {},
   "source": [
    "Detailed Summary of this Data Cleaning Process\n",
    "1. Loading the Data:\n",
    "You loaded the January 2022 taxi fare dataset from a specified file path using pandas.read_csv.\n",
    "2. Initial Cleaning:\n",
    "Checked for missing values across the dataset using df.isnull().sum().\n",
    "Dropped rows with missing essential columns (fare_amount, tpep_pickup_datetime, tpep_dropoff_datetime).\n",
    "3. Date Conversion:\n",
    "You converted the tpep_pickup_datetime and tpep_dropoff_datetime columns to datetime format to facilitate time-based analysis.\n",
    "4. Handling Outliers:\n",
    "You identified and removed rows where trip_distance or fare_amount was zero or negative, as these represent invalid trips.\n",
    "You also checked for outliers using a boxplot for the columns trip_distance, fare_amount, tip_amount, and total_amount. Any unrealistic values, like trip distances greater than 100 miles, were removed.\n",
    "5. Feature Engineering:\n",
    "Extracted time-related features:\n",
    "pickup_hour: Hour of the day when the trip started.\n",
    "pickup_day: Day of the week when the trip occurred.\n",
    "Created a new column for trip duration, calculated as the difference between tpep_pickup_datetime and tpep_dropoff_datetime in minutes.\n",
    "6. Handling Missing Data in Other Columns:\n",
    "Filled missing values for several columns:\n",
    "passenger_count: Filled with the mean value of the column.\n",
    "store_and_fwd_flag: Filled with 'N', assuming most trips have 'N' as the default value.\n",
    "congestion_surcharge and airport_fee: Filled with 0, indicating no surcharge/fee.\n",
    "Dropped rows where RatecodeID had missing values.\n",
    "7. Dealing with Duplicates:\n",
    "You removed any duplicate rows in the dataset.\n",
    "8. One-Hot Encoding:\n",
    "Applied one-hot encoding for categorical columns like payment_type, store_and_fwd_flag, and RatecodeID, creating dummy variables.\n",
    "Dropped the first category to avoid multicollinearity (by setting drop_first=True).\n",
    "9. Optimizing Data Types:\n",
    "You downcasted the passenger_count column to a smaller integer type (downcast='integer') to save memory.\n",
    "10. Saving the Cleaned Dataset:\n",
    "After completing the cleaning process and feature engineering, you saved the cleaned dataset as a new CSV file at a specified path.\n",
    "11. Final Verification:\n",
    "You loaded the cleaned dataset again and checked the first few rows to ensure the data was correctly processed and saved.\n",
    "12. Reviewing Results:\n",
    "Finally, you printed the results, including:\n",
    "The number of remaining records after cleaning.\n",
    "The first few rows of the cleaned dataset.\n",
    "A summary of the dataset's statistics using df_cleaned.describe().\n"
   ]
  },
  {
   "cell_type": "markdown",
   "metadata": {},
   "source": [
    "February"
   ]
  },
  {
   "cell_type": "code",
   "execution_count": 2,
   "metadata": {},
   "outputs": [
    {
     "name": "stderr",
     "output_type": "stream",
     "text": [
      "C:\\Users\\Anthony Zambrano\\AppData\\Local\\Temp\\ipykernel_14504\\1155761332.py:3: DtypeWarning: Columns (6) have mixed types. Specify dtype option on import or set low_memory=False.\n",
      "  df = pd.read_csv(data_path)\n"
     ]
    }
   ],
   "source": [
    "# 1. Load the data\n",
    "data_path = r'C:\\Users\\Anthony Zambrano\\Taxis_Fare_Project\\yellow_tripdata_2022-02.csv'\n",
    "df = pd.read_csv(data_path)\n"
   ]
  },
  {
   "cell_type": "code",
   "execution_count": 3,
   "metadata": {},
   "outputs": [],
   "source": [
    "# 2. Check for missing values\n",
    "df.dropna(subset=['fare_amount', 'tpep_pickup_datetime', 'tpep_dropoff_datetime'], inplace=True)"
   ]
  },
  {
   "cell_type": "code",
   "execution_count": 4,
   "metadata": {},
   "outputs": [],
   "source": [
    "# 3. Convert to datetime format\n",
    "df['tpep_pickup_datetime'] = pd.to_datetime(df['tpep_pickup_datetime'])\n",
    "df['tpep_dropoff_datetime'] = pd.to_datetime(df['tpep_dropoff_datetime'])"
   ]
  },
  {
   "cell_type": "code",
   "execution_count": 5,
   "metadata": {},
   "outputs": [],
   "source": [
    "# 4. Remove outliers and invalid values\n",
    "df = df[(df['trip_distance'] > 0) & (df['fare_amount'] > 0)]\n",
    "df = df[df['trip_distance'] <= 100]  # Filter distances greater than 100 miles\n"
   ]
  },
  {
   "cell_type": "code",
   "execution_count": 6,
   "metadata": {},
   "outputs": [],
   "source": [
    "# 5. Feature engineering\n",
    "df['pickup_hour'] = df['tpep_pickup_datetime'].dt.hour\n",
    "df['pickup_day'] = df['tpep_pickup_datetime'].dt.dayofweek\n",
    "df['trip_duration'] = (df['tpep_dropoff_datetime'] - df['tpep_pickup_datetime']).dt.total_seconds() / 60\n"
   ]
  },
  {
   "cell_type": "code",
   "execution_count": 7,
   "metadata": {},
   "outputs": [
    {
     "name": "stderr",
     "output_type": "stream",
     "text": [
      "C:\\Users\\Anthony Zambrano\\AppData\\Local\\Temp\\ipykernel_14504\\597890363.py:2: FutureWarning: A value is trying to be set on a copy of a DataFrame or Series through chained assignment using an inplace method.\n",
      "The behavior will change in pandas 3.0. This inplace method will never work because the intermediate object on which we are setting values always behaves as a copy.\n",
      "\n",
      "For example, when doing 'df[col].method(value, inplace=True)', try using 'df.method({col: value}, inplace=True)' or df[col] = df[col].method(value) instead, to perform the operation inplace on the original object.\n",
      "\n",
      "\n",
      "  df['passenger_count'].fillna(df['passenger_count'].mean(), inplace=True)\n",
      "C:\\Users\\Anthony Zambrano\\AppData\\Local\\Temp\\ipykernel_14504\\597890363.py:3: FutureWarning: A value is trying to be set on a copy of a DataFrame or Series through chained assignment using an inplace method.\n",
      "The behavior will change in pandas 3.0. This inplace method will never work because the intermediate object on which we are setting values always behaves as a copy.\n",
      "\n",
      "For example, when doing 'df[col].method(value, inplace=True)', try using 'df.method({col: value}, inplace=True)' or df[col] = df[col].method(value) instead, to perform the operation inplace on the original object.\n",
      "\n",
      "\n",
      "  df['store_and_fwd_flag'].fillna('N', inplace=True)\n",
      "C:\\Users\\Anthony Zambrano\\AppData\\Local\\Temp\\ipykernel_14504\\597890363.py:4: FutureWarning: A value is trying to be set on a copy of a DataFrame or Series through chained assignment using an inplace method.\n",
      "The behavior will change in pandas 3.0. This inplace method will never work because the intermediate object on which we are setting values always behaves as a copy.\n",
      "\n",
      "For example, when doing 'df[col].method(value, inplace=True)', try using 'df.method({col: value}, inplace=True)' or df[col] = df[col].method(value) instead, to perform the operation inplace on the original object.\n",
      "\n",
      "\n",
      "  df['congestion_surcharge'].fillna(0, inplace=True)\n",
      "C:\\Users\\Anthony Zambrano\\AppData\\Local\\Temp\\ipykernel_14504\\597890363.py:5: FutureWarning: A value is trying to be set on a copy of a DataFrame or Series through chained assignment using an inplace method.\n",
      "The behavior will change in pandas 3.0. This inplace method will never work because the intermediate object on which we are setting values always behaves as a copy.\n",
      "\n",
      "For example, when doing 'df[col].method(value, inplace=True)', try using 'df.method({col: value}, inplace=True)' or df[col] = df[col].method(value) instead, to perform the operation inplace on the original object.\n",
      "\n",
      "\n",
      "  df['airport_fee'].fillna(0, inplace=True)\n"
     ]
    }
   ],
   "source": [
    "# 6. Handle missing values\n",
    "df['passenger_count'].fillna(df['passenger_count'].mean(), inplace=True)\n",
    "df['store_and_fwd_flag'].fillna('N', inplace=True)\n",
    "df['congestion_surcharge'].fillna(0, inplace=True)\n",
    "df['airport_fee'].fillna(0, inplace=True)\n",
    "df.dropna(subset=['RatecodeID'], inplace=True)"
   ]
  },
  {
   "cell_type": "code",
   "execution_count": 8,
   "metadata": {},
   "outputs": [],
   "source": [
    "# 7. Remove duplicates\n",
    "df.drop_duplicates(inplace=True)"
   ]
  },
  {
   "cell_type": "code",
   "execution_count": 9,
   "metadata": {},
   "outputs": [],
   "source": [
    "# 8. One-Hot Encoding for categorical variables\n",
    "df = pd.get_dummies(df, columns=['payment_type', 'store_and_fwd_flag', 'RatecodeID'], drop_first=True)"
   ]
  },
  {
   "cell_type": "code",
   "execution_count": 10,
   "metadata": {},
   "outputs": [],
   "source": [
    "# 9. Optimize data types\n",
    "df['passenger_count'] = pd.to_numeric(df['passenger_count'], downcast='integer')"
   ]
  },
  {
   "cell_type": "code",
   "execution_count": 11,
   "metadata": {},
   "outputs": [],
   "source": [
    "# 10. Save the cleaned dataset\n",
    "cleaned_data_path = r'C:\\Users\\Anthony Zambrano\\Taxis_Fare_Project\\cleaned_yellow_tripdata_2022-02.csv'\n",
    "df.to_csv(cleaned_data_path, index=False)"
   ]
  },
  {
   "cell_type": "code",
   "execution_count": 12,
   "metadata": {},
   "outputs": [
    {
     "name": "stdout",
     "output_type": "stream",
     "text": [
      "Final records after cleaning: 2833024\n",
      "   VendorID tpep_pickup_datetime tpep_dropoff_datetime  passenger_count  \\\n",
      "0         1  2022-02-01 00:06:58   2022-02-01 00:19:24                1   \n",
      "1         1  2022-02-01 00:38:22   2022-02-01 00:55:55                1   \n",
      "2         1  2022-02-01 00:03:20   2022-02-01 00:26:59                1   \n",
      "3         2  2022-02-01 00:08:00   2022-02-01 00:28:05                1   \n",
      "4         2  2022-02-01 00:06:48   2022-02-01 00:33:07                1   \n",
      "\n",
      "   trip_distance  PULocationID  DOLocationID  fare_amount  extra  mta_tax  \\\n",
      "0           5.40           138           252         17.0   1.75      0.5   \n",
      "1           6.40           138            41         21.0   1.75      0.5   \n",
      "2          12.50           138           200         35.5   1.75      0.5   \n",
      "3           9.88           239           200         28.0   0.50      0.5   \n",
      "4          12.16           138           125         35.5   0.50      0.5   \n",
      "\n",
      "   ...  payment_type_2  payment_type_3  payment_type_4  store_and_fwd_flag_Y  \\\n",
      "0  ...           False           False           False                 False   \n",
      "1  ...            True           False           False                 False   \n",
      "2  ...            True           False           False                 False   \n",
      "3  ...            True           False           False                 False   \n",
      "4  ...           False           False           False                 False   \n",
      "\n",
      "   RatecodeID_2.0  RatecodeID_3.0  RatecodeID_4.0  RatecodeID_5.0  \\\n",
      "0           False           False           False           False   \n",
      "1           False           False           False           False   \n",
      "2           False           False           False           False   \n",
      "3           False           False           False           False   \n",
      "4           False           False           False           False   \n",
      "\n",
      "   RatecodeID_6.0  RatecodeID_99.0  \n",
      "0           False            False  \n",
      "1           False            False  \n",
      "2           False            False  \n",
      "3           False            False  \n",
      "4           False            False  \n",
      "\n",
      "[5 rows x 29 columns]\n",
      "           VendorID  passenger_count  trip_distance  PULocationID  \\\n",
      "count  2.833024e+06     2.833024e+06   2.833024e+06  2.833024e+06   \n",
      "mean   1.697350e+00     1.394052e+00   3.105693e+00  1.655698e+02   \n",
      "std    4.594052e-01     9.866606e-01   3.941413e+00  6.517385e+01   \n",
      "min    1.000000e+00     0.000000e+00   1.000000e-02  1.000000e+00   \n",
      "25%    1.000000e+00     1.000000e+00   1.090000e+00  1.320000e+02   \n",
      "50%    2.000000e+00     1.000000e+00   1.790000e+00  1.620000e+02   \n",
      "75%    2.000000e+00     1.000000e+00   3.160000e+00  2.340000e+02   \n",
      "max    2.000000e+00     9.000000e+00   9.625000e+01  2.650000e+02   \n",
      "\n",
      "       DOLocationID   fare_amount         extra       mta_tax    tip_amount  \\\n",
      "count  2.833024e+06  2.833024e+06  2.833024e+06  2.833024e+06  2.833024e+06   \n",
      "mean   1.636741e+02  1.297407e+01  1.064752e+00  4.981218e-01  2.490700e+00   \n",
      "std    7.028505e+01  1.132800e+01  1.241186e+00  3.088869e-02  2.713775e+00   \n",
      "min    1.000000e+00  1.000000e-02  0.000000e+00  0.000000e+00  0.000000e+00   \n",
      "25%    1.130000e+02  6.500000e+00  0.000000e+00  5.000000e-01  1.000000e+00   \n",
      "50%    1.620000e+02  9.500000e+00  5.000000e-01  5.000000e-01  2.060000e+00   \n",
      "75%    2.340000e+02  1.400000e+01  2.500000e+00  5.000000e-01  3.080000e+00   \n",
      "max    2.650000e+02  6.000000e+02  1.030000e+01  3.300000e+00  3.808000e+02   \n",
      "\n",
      "       tolls_amount  improvement_surcharge  total_amount  \\\n",
      "count  2.833024e+06           2.833024e+06  2.833024e+06   \n",
      "mean   3.817147e-01           2.999914e-01  1.940217e+01   \n",
      "std    1.655170e+00           1.604104e-03  1.425206e+01   \n",
      "min    0.000000e+00           0.000000e+00  3.100000e-01   \n",
      "25%    0.000000e+00           3.000000e-01  1.176000e+01   \n",
      "50%    0.000000e+00           3.000000e-01  1.480000e+01   \n",
      "75%    0.000000e+00           3.000000e-01  2.075000e+01   \n",
      "max    9.500000e+01           3.000000e-01  6.003000e+02   \n",
      "\n",
      "       congestion_surcharge   airport_fee   pickup_hour    pickup_day  \\\n",
      "count          2.833024e+06  2.833024e+06  2.833024e+06  2.833024e+06   \n",
      "mean           2.344498e+00  7.430135e-02  1.424975e+01  3.044343e+00   \n",
      "std            6.037983e-01  2.955605e-01  5.662460e+00  1.944718e+00   \n",
      "min            0.000000e+00  0.000000e+00  0.000000e+00  0.000000e+00   \n",
      "25%            2.500000e+00  0.000000e+00  1.100000e+01  1.000000e+00   \n",
      "50%            2.500000e+00  0.000000e+00  1.500000e+01  3.000000e+00   \n",
      "75%            2.500000e+00  0.000000e+00  1.900000e+01  5.000000e+00   \n",
      "max            2.750000e+00  1.250000e+00  2.300000e+01  6.000000e+00   \n",
      "\n",
      "       trip_duration  \n",
      "count   2.833024e+06  \n",
      "mean    1.564761e+01  \n",
      "std     4.794839e+01  \n",
      "min     0.000000e+00  \n",
      "25%     6.983333e+00  \n",
      "50%     1.121667e+01  \n",
      "75%     1.770000e+01  \n",
      "max     5.489383e+03  \n"
     ]
    }
   ],
   "source": [
    "# 11. Final verification\n",
    "df_cleaned = pd.read_csv(cleaned_data_path)\n",
    "print(f'Final records after cleaning: {df_cleaned.shape[0]}')\n",
    "print(df_cleaned.head())\n",
    "print(df_cleaned.describe())\n"
   ]
  },
  {
   "cell_type": "markdown",
   "metadata": {},
   "source": [
    "Summary of the Data Cleaning Process for February\n",
    "\n",
    "The data cleaning process for February followed these key steps:\n",
    "\n",
    "Loading the Dataset – The raw taxi fare dataset was loaded from a CSV file.\n",
    "Handling Missing Values – Rows with missing essential values (fare_amount, tpep_pickup_datetime, and tpep_dropoff_datetime) were removed. Other missing values were filled with appropriate defaults or averages.\n",
    "Converting Date Formats – The pickup and drop-off timestamps were converted to a datetime format.\n",
    "Removing Outliers & Invalid Data – Trips with zero or negative distances and fares were removed. Additionally, trips with distances over 100 miles were filtered out.\n",
    "Feature Engineering – New features were created, including pickup_hour, pickup_day, and trip_duration (trip time in minutes).\n",
    "Handling Categorical Variables – One-Hot Encoding was applied to payment_type, store_and_fwd_flag, and RatecodeID to convert categorical variables into numerical format.\n",
    "Removing Duplicates – Duplicate rows were eliminated to ensure data integrity.\n",
    "Optimizing Data Types – Numeric columns were optimized by downcasting to reduce memory usage.\n",
    "Saving the Cleaned Data – The processed dataset was saved as a new CSV file.\n",
    "Final Verification – A final check was conducted by reloading the cleaned dataset, verifying its shape, and reviewing key statistical summaries.\n",
    "This cleaned dataset will be useful for preprocessing and training simple models such as Linear Regression or Random Forest.\n",
    "\n",
    "\n",
    "El proceso de limpieza de datos para febrero siguió estos pasos clave:\n",
    "\n",
    "Carga del Conjunto de Datos – Se cargó el dataset original de tarifas de taxi desde un archivo CSV.\n",
    "Manejo de Valores Faltantes – Se eliminaron las filas con valores faltantes esenciales (fare_amount, tpep_pickup_datetime y tpep_dropoff_datetime). Otros valores faltantes se completaron con promedios o valores predeterminados.\n",
    "Conversión de Formatos de Fecha – Se convirtieron las columnas de fecha y hora (tpep_pickup_datetime y tpep_dropoff_datetime) al formato datetime.\n",
    "Eliminación de Valores Atípicos e Inválidos – Se eliminaron viajes con distancias o tarifas de 0 o negativas. Además, se filtraron viajes con distancias superiores a 100 millas.\n",
    "Ingeniería de Características – Se crearon nuevas variables, como pickup_hour, pickup_day y trip_duration (duración del viaje en minutos).\n",
    "Manejo de Variables Categóricas – Se aplicó One-Hot Encoding a payment_type, store_and_fwd_flag y RatecodeID para convertir variables categóricas a formato numérico.\n",
    "Eliminación de Duplicados – Se eliminaron filas duplicadas para mantener la integridad de los datos.\n",
    "Optimización de Tipos de Datos – Se redujo el uso de memoria optimizando columnas numéricas.\n",
    "Guardado de los Datos Limpiados – Se guardó el dataset procesado en un nuevo archivo CSV.\n",
    "Verificación Final – Se realizó una última validación al recargar el dataset limpio, revisar su tamaño y verificar estadísticas clave.\n",
    "Este dataset limpio será útil para el preprocesamiento y entrenamiento de modelos simples como Regresión Lineal o Random Forest. 🚀"
   ]
  },
  {
   "cell_type": "markdown",
   "metadata": {},
   "source": [
    "March"
   ]
  },
  {
   "cell_type": "code",
   "execution_count": 14,
   "metadata": {},
   "outputs": [
    {
     "name": "stderr",
     "output_type": "stream",
     "text": [
      "C:\\Users\\Anthony Zambrano\\AppData\\Local\\Temp\\ipykernel_14504\\2663717101.py:6: DtypeWarning: Columns (6) have mixed types. Specify dtype option on import or set low_memory=False.\n",
      "  df = pd.read_csv(data_path)\n"
     ]
    }
   ],
   "source": [
    "import pandas as pd\n",
    "import numpy as np\n",
    "\n",
    "# 1. Load the data\n",
    "data_path = r'C:\\Users\\Anthony Zambrano\\Taxis_Fare_Project\\yellow_tripdata_2022-03.csv'\n",
    "df = pd.read_csv(data_path)"
   ]
  },
  {
   "cell_type": "code",
   "execution_count": 15,
   "metadata": {},
   "outputs": [],
   "source": [
    "# 2. Check for missing values\n",
    "df.dropna(subset=['fare_amount', 'tpep_pickup_datetime', 'tpep_dropoff_datetime'], inplace=True)"
   ]
  },
  {
   "cell_type": "code",
   "execution_count": 16,
   "metadata": {},
   "outputs": [],
   "source": [
    "# 3. Convert to datetime format\n",
    "df['tpep_pickup_datetime'] = pd.to_datetime(df['tpep_pickup_datetime'])\n",
    "df['tpep_dropoff_datetime'] = pd.to_datetime(df['tpep_dropoff_datetime'])\n"
   ]
  },
  {
   "cell_type": "code",
   "execution_count": 17,
   "metadata": {},
   "outputs": [],
   "source": [
    "# 4. Remove outliers and invalid values\n",
    "df = df[(df['trip_distance'] > 0) & (df['fare_amount'] > 0)]\n",
    "df = df[df['trip_distance'] <= 100]  # Filter distances greater than 100 miles"
   ]
  },
  {
   "cell_type": "code",
   "execution_count": 18,
   "metadata": {},
   "outputs": [],
   "source": [
    "# 5. Feature engineering\n",
    "df['pickup_hour'] = df['tpep_pickup_datetime'].dt.hour\n",
    "df['pickup_day'] = df['tpep_pickup_datetime'].dt.dayofweek\n",
    "df['trip_duration'] = (df['tpep_dropoff_datetime'] - df['tpep_pickup_datetime']).dt.total_seconds() / 60"
   ]
  },
  {
   "cell_type": "code",
   "execution_count": 19,
   "metadata": {},
   "outputs": [
    {
     "name": "stderr",
     "output_type": "stream",
     "text": [
      "C:\\Users\\Anthony Zambrano\\AppData\\Local\\Temp\\ipykernel_14504\\597890363.py:2: FutureWarning: A value is trying to be set on a copy of a DataFrame or Series through chained assignment using an inplace method.\n",
      "The behavior will change in pandas 3.0. This inplace method will never work because the intermediate object on which we are setting values always behaves as a copy.\n",
      "\n",
      "For example, when doing 'df[col].method(value, inplace=True)', try using 'df.method({col: value}, inplace=True)' or df[col] = df[col].method(value) instead, to perform the operation inplace on the original object.\n",
      "\n",
      "\n",
      "  df['passenger_count'].fillna(df['passenger_count'].mean(), inplace=True)\n",
      "C:\\Users\\Anthony Zambrano\\AppData\\Local\\Temp\\ipykernel_14504\\597890363.py:3: FutureWarning: A value is trying to be set on a copy of a DataFrame or Series through chained assignment using an inplace method.\n",
      "The behavior will change in pandas 3.0. This inplace method will never work because the intermediate object on which we are setting values always behaves as a copy.\n",
      "\n",
      "For example, when doing 'df[col].method(value, inplace=True)', try using 'df.method({col: value}, inplace=True)' or df[col] = df[col].method(value) instead, to perform the operation inplace on the original object.\n",
      "\n",
      "\n",
      "  df['store_and_fwd_flag'].fillna('N', inplace=True)\n",
      "C:\\Users\\Anthony Zambrano\\AppData\\Local\\Temp\\ipykernel_14504\\597890363.py:4: FutureWarning: A value is trying to be set on a copy of a DataFrame or Series through chained assignment using an inplace method.\n",
      "The behavior will change in pandas 3.0. This inplace method will never work because the intermediate object on which we are setting values always behaves as a copy.\n",
      "\n",
      "For example, when doing 'df[col].method(value, inplace=True)', try using 'df.method({col: value}, inplace=True)' or df[col] = df[col].method(value) instead, to perform the operation inplace on the original object.\n",
      "\n",
      "\n",
      "  df['congestion_surcharge'].fillna(0, inplace=True)\n",
      "C:\\Users\\Anthony Zambrano\\AppData\\Local\\Temp\\ipykernel_14504\\597890363.py:5: FutureWarning: A value is trying to be set on a copy of a DataFrame or Series through chained assignment using an inplace method.\n",
      "The behavior will change in pandas 3.0. This inplace method will never work because the intermediate object on which we are setting values always behaves as a copy.\n",
      "\n",
      "For example, when doing 'df[col].method(value, inplace=True)', try using 'df.method({col: value}, inplace=True)' or df[col] = df[col].method(value) instead, to perform the operation inplace on the original object.\n",
      "\n",
      "\n",
      "  df['airport_fee'].fillna(0, inplace=True)\n"
     ]
    }
   ],
   "source": [
    "# 6. Handle missing values\n",
    "df['passenger_count'].fillna(df['passenger_count'].mean(), inplace=True)\n",
    "df['store_and_fwd_flag'].fillna('N', inplace=True)\n",
    "df['congestion_surcharge'].fillna(0, inplace=True)\n",
    "df['airport_fee'].fillna(0, inplace=True)\n",
    "df.dropna(subset=['RatecodeID'], inplace=True)"
   ]
  },
  {
   "cell_type": "code",
   "execution_count": 20,
   "metadata": {},
   "outputs": [],
   "source": [
    "# 7. Remove duplicates\n",
    "df.drop_duplicates(inplace=True)"
   ]
  },
  {
   "cell_type": "code",
   "execution_count": 21,
   "metadata": {},
   "outputs": [],
   "source": [
    "# 8. One-Hot Encoding for categorical variables\n",
    "df = pd.get_dummies(df, columns=['payment_type', 'store_and_fwd_flag', 'RatecodeID'], drop_first=True)\n"
   ]
  },
  {
   "cell_type": "code",
   "execution_count": 22,
   "metadata": {},
   "outputs": [],
   "source": [
    "# 9. Optimize data types\n",
    "df['passenger_count'] = pd.to_numeric(df['passenger_count'], downcast='integer')\n"
   ]
  },
  {
   "cell_type": "code",
   "execution_count": 23,
   "metadata": {},
   "outputs": [],
   "source": [
    "# 10. Save the cleaned dataset\n",
    "cleaned_data_path = r'C:\\Users\\Anthony Zambrano\\Taxis_Fare_Project\\cleaned_yellow_tripdata_2022-03.csv'\n",
    "df.to_csv(cleaned_data_path, index=False)"
   ]
  },
  {
   "cell_type": "code",
   "execution_count": 24,
   "metadata": {},
   "outputs": [
    {
     "name": "stdout",
     "output_type": "stream",
     "text": [
      "Final records after cleaning: 3453386\n",
      "   VendorID tpep_pickup_datetime tpep_dropoff_datetime  passenger_count  \\\n",
      "0         1  2022-03-01 00:13:08   2022-03-01 00:24:35                1   \n",
      "1         1  2022-03-01 00:47:52   2022-03-01 01:00:08                1   \n",
      "2         2  2022-03-01 00:02:46   2022-03-01 00:46:43                1   \n",
      "3         2  2022-03-01 00:52:43   2022-03-01 01:03:40                2   \n",
      "4         2  2022-03-01 00:15:35   2022-03-01 00:34:13                1   \n",
      "\n",
      "   trip_distance  PULocationID  DOLocationID  fare_amount  extra  mta_tax  \\\n",
      "0           2.40            90           209         10.0    3.0      0.5   \n",
      "1           2.20           148           234         10.5    3.0      0.5   \n",
      "2          19.78           132           249         52.0    0.0      0.5   \n",
      "3           2.94           211            66         11.0    0.5      0.5   \n",
      "4           8.57           138           197         25.0    0.5      0.5   \n",
      "\n",
      "   ...  payment_type_2  payment_type_3  payment_type_4  store_and_fwd_flag_Y  \\\n",
      "0  ...            True           False           False                 False   \n",
      "1  ...            True           False           False                 False   \n",
      "2  ...           False           False           False                 False   \n",
      "3  ...           False           False           False                 False   \n",
      "4  ...           False           False           False                 False   \n",
      "\n",
      "   RatecodeID_2.0  RatecodeID_3.0  RatecodeID_4.0  RatecodeID_5.0  \\\n",
      "0           False           False           False           False   \n",
      "1           False           False           False           False   \n",
      "2            True           False           False           False   \n",
      "3           False           False           False           False   \n",
      "4           False           False           False           False   \n",
      "\n",
      "   RatecodeID_6.0  RatecodeID_99.0  \n",
      "0           False            False  \n",
      "1           False            False  \n",
      "2           False            False  \n",
      "3           False            False  \n",
      "4           False            False  \n",
      "\n",
      "[5 rows x 29 columns]\n",
      "           VendorID  passenger_count  trip_distance  PULocationID  \\\n",
      "count  3.453386e+06     3.453386e+06   3.453386e+06  3.453386e+06   \n",
      "mean   1.703112e+00     1.390743e+00   3.353868e+00  1.649887e+02   \n",
      "std    4.568868e-01     9.754811e-01   4.274089e+00  6.458493e+01   \n",
      "min    1.000000e+00     0.000000e+00   1.000000e-02  1.000000e+00   \n",
      "25%    1.000000e+00     1.000000e+00   1.100000e+00  1.320000e+02   \n",
      "50%    2.000000e+00     1.000000e+00   1.830000e+00  1.620000e+02   \n",
      "75%    2.000000e+00     1.000000e+00   3.350000e+00  2.340000e+02   \n",
      "max    2.000000e+00     8.000000e+00   9.579000e+01  2.650000e+02   \n",
      "\n",
      "       DOLocationID   fare_amount         extra       mta_tax    tip_amount  \\\n",
      "count  3.453386e+06  3.453386e+06  3.453386e+06  3.453386e+06  3.453386e+06   \n",
      "mean   1.632957e+02  1.374301e+01  1.076002e+00  4.975737e-01  2.634303e+00   \n",
      "std    6.983152e+01  1.227835e+01  1.256736e+00  3.635345e-02  2.987464e+00   \n",
      "min    1.000000e+00  1.000000e-02  0.000000e+00  0.000000e+00  0.000000e+00   \n",
      "25%    1.130000e+02  7.000000e+00  0.000000e+00  5.000000e-01  1.000000e+00   \n",
      "50%    1.620000e+02  9.500000e+00  5.000000e-01  5.000000e-01  2.150000e+00   \n",
      "75%    2.340000e+02  1.500000e+01  2.500000e+00  5.000000e-01  3.250000e+00   \n",
      "max    2.650000e+02  7.000000e+02  9.050000e+00  1.710000e+01  4.660000e+02   \n",
      "\n",
      "       tolls_amount  improvement_surcharge  total_amount  \\\n",
      "count  3.453386e+06           3.453386e+06  3.453386e+06   \n",
      "mean   4.886505e-01           2.999833e-01  2.045285e+01   \n",
      "std    1.877230e+00           2.236852e-03  1.565362e+01   \n",
      "min    0.000000e+00           0.000000e+00  3.100000e-01   \n",
      "25%    0.000000e+00           3.000000e-01  1.180000e+01   \n",
      "50%    0.000000e+00           3.000000e-01  1.536000e+01   \n",
      "75%    0.000000e+00           3.000000e-01  2.136000e+01   \n",
      "max    1.390000e+02           3.000000e-01  8.433600e+02   \n",
      "\n",
      "       congestion_surcharge   airport_fee   pickup_hour    pickup_day  \\\n",
      "count          3.453386e+06  3.453386e+06  3.453386e+06  3.453386e+06   \n",
      "mean           2.338911e+00  8.868506e-02  1.429825e+01  2.911877e+00   \n",
      "std            6.138166e-01  3.209226e-01  5.661648e+00  1.871179e+00   \n",
      "min            0.000000e+00  0.000000e+00  0.000000e+00  0.000000e+00   \n",
      "25%            2.500000e+00  0.000000e+00  1.100000e+01  1.000000e+00   \n",
      "50%            2.500000e+00  0.000000e+00  1.500000e+01  3.000000e+00   \n",
      "75%            2.500000e+00  0.000000e+00  1.900000e+01  4.000000e+00   \n",
      "max            2.500000e+00  1.250000e+00  2.300000e+01  6.000000e+00   \n",
      "\n",
      "       trip_duration  \n",
      "count   3.453386e+06  \n",
      "mean    1.628249e+01  \n",
      "std     6.070878e+01  \n",
      "min    -7.175993e+04  \n",
      "25%     7.250000e+00  \n",
      "50%     1.168333e+01  \n",
      "75%     1.856667e+01  \n",
      "max     8.037700e+03  \n"
     ]
    }
   ],
   "source": [
    "# 11. Final verification\n",
    "df_cleaned = pd.read_csv(cleaned_data_path)\n",
    "print(f'Final records after cleaning: {df_cleaned.shape[0]}')\n",
    "print(df_cleaned.head())\n",
    "print(df_cleaned.describe())"
   ]
  },
  {
   "cell_type": "markdown",
   "metadata": {},
   "source": [
    "Summary of Data Cleaning Process\n",
    "\n",
    "Load the dataset from the CSV file.\n",
    "\n",
    "Remove missing values in critical columns (fare_amount, tpep_pickup_datetime, tpep_dropoff_datetime).\n",
    "\n",
    "Convert datetime columns to a proper format.\n",
    "\n",
    "Remove outliers and invalid values, keeping only trips with a positive distance and fare, and filtering out distances greater than 100 miles.\n",
    "\n",
    "Feature engineering, extracting pickup hour, day of the week, and calculating trip duration in minutes.\n",
    "\n",
    "Handle missing values by filling passenger_count with the mean and replacing empty values in categorical fields (store_and_fwd_flag, congestion_surcharge, airport_fee).\n",
    "\n",
    "\n",
    "Remove duplicate records to avoid redundant data.\n",
    "Apply one-hot encoding to categorical variables (payment_type, store_and_fwd_flag, RatecodeID).\n",
    "\n",
    "Optimize data types to reduce memory usage.\n",
    "\n",
    "Save the cleaned dataset as a new CSV file.\n",
    "\n",
    "Perform final verification, checking the shape and summary statistics of the cleaned dataset.\n",
    "\n",
    "Cargar el conjunto de datos desde el archivo CSV.\n",
    "\n",
    "Eliminar valores faltantes en columnas clave (fare_amount, tpep_pickup_datetime, tpep_dropoff_datetime).\n",
    "\n",
    "Convertir columnas de fecha y hora a un formato adecuado.\n",
    "\n",
    "Eliminar valores atípicos e inválidos, manteniendo solo viajes con distancia y tarifa positiva, y filtrando distancias mayores a 100 millas.\n",
    "\n",
    "Ingeniería de características, extrayendo la hora de recogida, el día de la semana y calculando la duración del viaje en minutos.\n",
    "\n",
    "Manejo de valores faltantes, rellenando passenger_count con la media y reemplazando valores vacíos en campos categóricos (store_and_fwd_flag, congestion_surcharge, airport_fee).\n",
    "\n",
    "Eliminar registros duplicados para evitar datos redundantes.\n",
    "\n",
    "Aplicar codificación one-hot a variables categóricas (payment_type, store_and_fwd_flag, RatecodeID).\n",
    "\n",
    "Optimizar tipos de datos para reducir el uso de memoria.\n",
    "\n",
    "Guardar el conjunto de datos limpio en un nuevo archivo CSV.\n",
    "\n",
    "Realizar una verificación final, revisando la forma y estadísticas del conjunto de datos limpio."
   ]
  },
  {
   "cell_type": "markdown",
   "metadata": {},
   "source": [
    "April"
   ]
  },
  {
   "cell_type": "code",
   "execution_count": 26,
   "metadata": {},
   "outputs": [
    {
     "name": "stderr",
     "output_type": "stream",
     "text": [
      "C:\\Users\\Anthony Zambrano\\AppData\\Local\\Temp\\ipykernel_14504\\2016277523.py:3: DtypeWarning: Columns (6) have mixed types. Specify dtype option on import or set low_memory=False.\n",
      "  df = pd.read_csv(file_path)\n"
     ]
    }
   ],
   "source": [
    "# Load the CSV file\n",
    "file_path = r'C:\\Users\\Anthony Zambrano\\Taxis_Fare_Project\\yellow_tripdata_2022-04.csv'\n",
    "df = pd.read_csv(file_path)"
   ]
  },
  {
   "cell_type": "code",
   "execution_count": 27,
   "metadata": {},
   "outputs": [],
   "source": [
    "# Step 1: Remove missing values in key columns (fare_amount, tpep_pickup_datetime, tpep_dropoff_datetime)\n",
    "df = df.dropna(subset=['fare_amount', 'tpep_pickup_datetime', 'tpep_dropoff_datetime'])\n"
   ]
  },
  {
   "cell_type": "code",
   "execution_count": 28,
   "metadata": {},
   "outputs": [],
   "source": [
    "# Step 2: Convert date and time columns to proper datetime format\n",
    "df['tpep_pickup_datetime'] = pd.to_datetime(df['tpep_pickup_datetime'])\n",
    "df['tpep_dropoff_datetime'] = pd.to_datetime(df['tpep_dropoff_datetime'])"
   ]
  },
  {
   "cell_type": "code",
   "execution_count": 29,
   "metadata": {},
   "outputs": [],
   "source": [
    "# Step 3: Remove outliers and invalid values (filter out distances greater than 100 miles and ensure positive fare_amount and trip_distance)\n",
    "df = df[(df['trip_distance'] > 0) & (df['fare_amount'] > 0) & (df['trip_distance'] <= 100)]"
   ]
  },
  {
   "cell_type": "code",
   "execution_count": 30,
   "metadata": {},
   "outputs": [],
   "source": [
    "# Step 4: Feature Engineering: Extract pickup hour, day of the week, and calculate trip duration in minutes\n",
    "df['pickup_hour'] = df['tpep_pickup_datetime'].dt.hour\n",
    "df['pickup_day_of_week'] = df['tpep_pickup_datetime'].dt.dayofweek\n",
    "df['trip_duration_minutes'] = (df['tpep_dropoff_datetime'] - df['tpep_pickup_datetime']).dt.total_seconds() / 60"
   ]
  },
  {
   "cell_type": "code",
   "execution_count": 31,
   "metadata": {},
   "outputs": [],
   "source": [
    "# Step 5: Handle missing values in additional fields\n",
    "df['passenger_count'] = df['passenger_count'].fillna(df['passenger_count'].mean())\n",
    "df['store_and_fwd_flag'] = df['store_and_fwd_flag'].fillna('N')\n",
    "df['congestion_surcharge'] = df['congestion_surcharge'].fillna(0)\n",
    "df['airport_fee'] = df['airport_fee'].fillna(0)"
   ]
  },
  {
   "cell_type": "code",
   "execution_count": 32,
   "metadata": {},
   "outputs": [],
   "source": [
    "# Step 6: Remove duplicate records\n",
    "df = df.drop_duplicates()"
   ]
  },
  {
   "cell_type": "code",
   "execution_count": 33,
   "metadata": {},
   "outputs": [],
   "source": [
    "# Step 7: Apply one-hot encoding to categorical variables (payment_type, store_and_fwd_flag, RatecodeID)\n",
    "df = pd.get_dummies(df, columns=['payment_type', 'store_and_fwd_flag', 'RatecodeID'], drop_first=True)"
   ]
  },
  {
   "cell_type": "code",
   "execution_count": 34,
   "metadata": {},
   "outputs": [],
   "source": [
    "# Step 8: Optimize data types to reduce memory usage\n",
    "df['fare_amount'] = df['fare_amount'].astype('float32')\n",
    "df['trip_distance'] = df['trip_distance'].astype('float32')\n",
    "df['passenger_count'] = df['passenger_count'].astype('int8')\n",
    "df['pickup_hour'] = df['pickup_hour'].astype('int8')\n",
    "df['pickup_day_of_week'] = df['pickup_day_of_week'].astype('int8')\n",
    "df['trip_duration_minutes'] = df['trip_duration_minutes'].astype('float32')"
   ]
  },
  {
   "cell_type": "code",
   "execution_count": 35,
   "metadata": {},
   "outputs": [],
   "source": [
    "# Step 9: Save the cleaned dataset to a new CSV file\n",
    "output_path = r'C:\\Users\\Anthony Zambrano\\Taxis_Fare_Project\\cleaned_yellow_tripdata_2022-04.csv'\n",
    "df.to_csv(output_path, index=False)"
   ]
  },
  {
   "cell_type": "code",
   "execution_count": 36,
   "metadata": {},
   "outputs": [
    {
     "name": "stdout",
     "output_type": "stream",
     "text": [
      "Cleaned dataset saved to: C:\\Users\\Anthony Zambrano\\Taxis_Fare_Project\\cleaned_yellow_tripdata_2022-04.csv\n",
      "Shape of the cleaned dataset: (3541620, 30)\n",
      "           VendorID           tpep_pickup_datetime  \\\n",
      "count  3.541620e+06                        3541620   \n",
      "mean   1.717813e+00  2022-04-16 02:43:52.673490944   \n",
      "min    1.000000e+00            2008-12-31 23:02:01   \n",
      "25%    1.000000e+00  2022-04-08 13:15:56.750000128   \n",
      "50%    2.000000e+00     2022-04-15 20:55:47.500000   \n",
      "75%    2.000000e+00  2022-04-23 16:20:25.249999872   \n",
      "max    6.000000e+00            2022-05-03 09:36:16   \n",
      "std    4.943187e-01                            NaN   \n",
      "\n",
      "               tpep_dropoff_datetime  passenger_count  trip_distance  \\\n",
      "count                        3541620     3.541620e+06   3.541620e+06   \n",
      "mean   2022-04-16 03:01:18.547109888     1.401522e+00   3.517736e+00   \n",
      "min              2009-01-01 00:13:52     0.000000e+00   1.000000e-02   \n",
      "25%              2022-04-08 13:34:07     1.000000e+00   1.160000e+00   \n",
      "50%       2022-04-15 21:10:22.500000     1.000000e+00   1.930000e+00   \n",
      "75%    2022-04-23 16:39:49.249999872     1.000000e+00   3.600000e+00   \n",
      "max              2022-05-03 09:44:01     9.000000e+00   9.860000e+01   \n",
      "std                              NaN     9.703770e-01   4.386154e+00   \n",
      "\n",
      "       PULocationID  DOLocationID   fare_amount         extra       mta_tax  \\\n",
      "count  3.541620e+06  3.541620e+06  3.541620e+06  3.541620e+06  3.541620e+06   \n",
      "mean   1.648232e+02  1.626239e+02  1.444744e+01  1.025150e+00  4.971107e-01   \n",
      "min    1.000000e+00  1.000000e+00  1.000000e-02  0.000000e+00  0.000000e+00   \n",
      "25%    1.320000e+02  1.130000e+02  7.000000e+00  0.000000e+00  5.000000e-01   \n",
      "50%    1.620000e+02  1.620000e+02  1.000000e+01  5.000000e-01  5.000000e-01   \n",
      "75%    2.340000e+02  2.340000e+02  1.600000e+01  2.500000e+00  5.000000e-01   \n",
      "max    2.650000e+02  2.650000e+02  6.968000e+03  1.075000e+01  3.300000e+00   \n",
      "std    6.565504e+01  7.027204e+01  1.344989e+01  1.249831e+00  3.810436e-02   \n",
      "\n",
      "         tip_amount  tolls_amount  improvement_surcharge  total_amount  \\\n",
      "count  3.541620e+06  3.541620e+06           3.541620e+06  3.541620e+06   \n",
      "mean   2.711184e+00  5.218355e-01           2.999817e-01  2.123779e+01   \n",
      "min    0.000000e+00  0.000000e+00           0.000000e+00  3.100000e-01   \n",
      "25%    1.000000e+00  0.000000e+00           3.000000e-01  1.230000e+01   \n",
      "50%    2.160000e+00  0.000000e+00           3.000000e-01  1.595000e+01   \n",
      "75%    3.360000e+00  0.000000e+00           3.000000e-01  2.256000e+01   \n",
      "max    5.797300e+02  6.615500e+02           3.000000e-01  6.971300e+03   \n",
      "std    3.096617e+00  1.994177e+00           2.342793e-03  1.677124e+01   \n",
      "\n",
      "       congestion_surcharge   airport_fee   pickup_hour  pickup_day_of_week  \\\n",
      "count          3.541620e+06  3.541620e+06  3.541620e+06        3.541620e+06   \n",
      "mean           2.257847e+00  8.905953e-02  1.423963e+01        3.111736e+00   \n",
      "min            0.000000e+00  0.000000e+00  0.000000e+00        0.000000e+00   \n",
      "25%            2.500000e+00  0.000000e+00  1.100000e+01        1.000000e+00   \n",
      "50%            2.500000e+00  0.000000e+00  1.500000e+01        3.000000e+00   \n",
      "75%            2.500000e+00  0.000000e+00  1.900000e+01        5.000000e+00   \n",
      "max            2.500000e+00  1.250000e+00  2.300000e+01        6.000000e+00   \n",
      "std            7.394209e-01  3.215476e-01  5.705127e+00        1.905664e+00   \n",
      "\n",
      "       trip_duration_minutes  \n",
      "count           3.541620e+06  \n",
      "mean            1.743122e+01  \n",
      "min            -1.416333e+03  \n",
      "25%             7.516667e+00  \n",
      "50%             1.221667e+01  \n",
      "75%             1.955000e+01  \n",
      "max             3.495650e+03  \n",
      "std             5.218605e+01  \n"
     ]
    }
   ],
   "source": [
    "# 10: Final check: Display the shape and summary statistics of the cleaned dataset\n",
    "print(f'Cleaned dataset saved to: {output_path}')\n",
    "print(f'Shape of the cleaned dataset: {df.shape}')\n",
    "print(df.describe())"
   ]
  },
  {
   "cell_type": "markdown",
   "metadata": {},
   "source": [
    "Data Cleaning Summary for April Dataset\n",
    "English:\n",
    "The dataset was cleaned following a structured process to ensure its quality and reliability for analysis. Here is a summary of the steps taken:\n",
    "\n",
    "Removed Missing Values in Key Columns:\n",
    "\n",
    "Removed rows with missing values in critical columns such as fare_amount, tpep_pickup_datetime, and tpep_dropoff_datetime. This is essential to avoid incomplete records that would lead to incorrect analysis.\n",
    "Converted Date and Time Columns:\n",
    "\n",
    "Converted the tpep_pickup_datetime and tpep_dropoff_datetime columns into appropriate datetime formats, making it easier to extract features like pickup time, dropoff time, and travel duration.\n",
    "Removed Outliers and Invalid Values:\n",
    "\n",
    "Filtered out trips with distances greater than 100 miles and ensured that both fare_amount and trip_distance were positive. This step prevents outliers and erroneous values from affecting the analysis.\n",
    "Feature Engineering:\n",
    "\n",
    "Created new features such as:\n",
    "Pickup Hour: Extracted the hour from the pickup datetime.\n",
    "Day of the Week: Extracted the day of the week from the pickup datetime.\n",
    "Trip Duration: Calculated the duration of the trip by subtracting tpep_pickup_datetime from tpep_dropoff_datetime and converted it into minutes.\n",
    "Handled Missing Values in Additional Columns:\n",
    "\n",
    "For the passenger_count column, missing values were filled with the mean value.\n",
    "Empty values in categorical fields such as store_and_fwd_flag and congestion_surcharge were replaced with default values.\n",
    "Removed Duplicates:\n",
    "\n",
    "Duplicate records were removed to ensure data accuracy and avoid redundancy in the dataset.\n",
    "Applied One-Hot Encoding:\n",
    "\n",
    "Categorical variables such as payment_type, store_and_fwd_flag, and RatecodeID were one-hot encoded, converting them into binary columns that are easier to use in predictive models.\n",
    "Optimized Data Types:\n",
    "\n",
    "The dataset was optimized by changing column data types to reduce memory usage. This is important when working with large datasets to improve performance and efficiency.\n",
    "Final Check:\n",
    "\n",
    "A final check was performed to verify the shape of the cleaned dataset and ensure there were no remaining issues or inconsistencies.\n",
    "The cleaned dataset was then saved as a new CSV file for further analysis.\n",
    "\n",
    "Español:\n",
    "El conjunto de datos fue limpiado siguiendo un proceso estructurado para asegurar su calidad y confiabilidad para el análisis. Aquí tienes un resumen de los pasos realizados:\n",
    "\n",
    "Eliminación de Valores Faltantes en Columnas Clave:\n",
    "\n",
    "Se eliminaron las filas con valores faltantes en columnas críticas como fare_amount, tpep_pickup_datetime y tpep_dropoff_datetime. Esto es esencial para evitar registros incompletos que puedan llevar a un análisis incorrecto.\n",
    "Conversión de Columnas de Fecha y Hora:\n",
    "\n",
    "Las columnas tpep_pickup_datetime y tpep_dropoff_datetime fueron convertidas a formatos de fecha y hora adecuados, lo que facilita la extracción de características como la hora de recogida, la hora de bajada y la duración del viaje.\n",
    "Eliminación de Valores Atípicos e Inválidos:\n",
    "\n",
    "Se filtraron los viajes con distancias superiores a 100 millas y se verificó que tanto fare_amount como trip_distance fueran positivos. Este paso previene que los valores atípicos y erróneos afecten el análisis.\n",
    "Ingeniería de Características:\n",
    "\n",
    "Se crearon nuevas características como:\n",
    "Hora de Recogida: Se extrajo la hora de la fecha de recogida.\n",
    "Día de la Semana: Se extrajo el día de la semana de la fecha de recogida.\n",
    "Duración del Viaje: Se calculó la duración del viaje restando tpep_pickup_datetime de tpep_dropoff_datetime y se convirtió en minutos.\n",
    "Manejo de Valores Faltantes en Columnas Adicionales:\n",
    "\n",
    "Los valores faltantes en la columna passenger_count fueron rellenados con el valor medio.\n",
    "Los valores vacíos en campos categóricos como store_and_fwd_flag y congestion_surcharge fueron reemplazados por valores predeterminados.\n",
    "Eliminación de Registros Duplicados:\n",
    "\n",
    "Se eliminaron los registros duplicados para asegurar la precisión de los datos y evitar redundancias en el conjunto de datos.\n",
    "Aplicación de Codificación One-Hot:\n",
    "\n",
    "Las variables categóricas como payment_type, store_and_fwd_flag y RatecodeID fueron codificadas mediante one-hot encoding, convirtiéndolas en columnas binarias que son más fáciles de utilizar en modelos predictivos.\n",
    "Optimización de Tipos de Datos:\n",
    "\n",
    "El conjunto de datos fue optimizado cambiando los tipos de datos de las columnas para reducir el uso de memoria. Esto es importante cuando se trabaja con grandes volúmenes de datos, mejorando el rendimiento y la eficiencia.\n",
    "Verificación Final:\n",
    "\n",
    "Se realizó una verificación final para comprobar la forma del conjunto de datos limpio y asegurarse de que no quedaran problemas ni inconsistencias.\n",
    "El conjunto de datos limpio fue guardado luego en un nuevo archivo CSV para análisis posterior."
   ]
  },
  {
   "cell_type": "markdown",
   "metadata": {},
   "source": [
    "May"
   ]
  },
  {
   "cell_type": "code",
   "execution_count": 1,
   "metadata": {},
   "outputs": [
    {
     "name": "stderr",
     "output_type": "stream",
     "text": [
      "C:\\Users\\Anthony Zambrano\\AppData\\Local\\Temp\\ipykernel_8288\\1073430283.py:3: DtypeWarning: Columns (3,5,12,17,18) have mixed types. Specify dtype option on import or set low_memory=False.\n",
      "  df = pd.read_csv(\"C:/Users/Anthony Zambrano/Downloads/yellow_tripdata_2022-05 (1).csv\")\n"
     ]
    },
    {
     "name": "stdout",
     "output_type": "stream",
     "text": [
      "   VendorID        tpep_pickup_datetime       tpep_dropoff_datetime  \\\n",
      "0         1  2022-05-01 00:00:36.000000  2022-05-01 00:19:18.000000   \n",
      "1         1  2022-05-01 00:27:44.000000  2022-05-01 00:41:33.000000   \n",
      "2         1  2022-05-01 00:59:00.000000  2022-05-01 01:14:22.000000   \n",
      "3         1  2022-05-01 00:48:18.000000  2022-05-01 01:28:02.000000   \n",
      "4         1  2022-05-01 00:28:26.000000  2022-05-01 00:37:49.000000   \n",
      "\n",
      "  passenger_count  trip_distance RatecodeID store_and_fwd_flag  PULocationID  \\\n",
      "0               1            4.1          1                  N           246   \n",
      "1               1            2.3          1                  N           238   \n",
      "2               1            4.2          1                  N           163   \n",
      "3               1            0.0          1                  N            79   \n",
      "4               1            1.6          1                  N           238   \n",
      "\n",
      "   DOLocationID  payment_type  fare_amount  extra mta_tax  tip_amount  \\\n",
      "0           151             2         17.0    3.0     0.5        0.00   \n",
      "1            74             2         11.0    3.0     0.5        0.00   \n",
      "2           260             2         15.5    3.0     0.5        0.00   \n",
      "3           182             1         41.2    0.0     0.5        0.00   \n",
      "4            75             1          7.5    3.0     0.5        2.25   \n",
      "\n",
      "   tolls_amount  improvement_surcharge  total_amount congestion_surcharge  \\\n",
      "0           0.0                    0.3         20.80                  2.5   \n",
      "1           0.0                    0.3         14.80                  2.5   \n",
      "2           0.0                    0.3         19.30                  2.5   \n",
      "3           0.0                    0.3         42.00                  0.0   \n",
      "4           0.0                    0.3         13.55                  2.5   \n",
      "\n",
      "  airport_fee  \n",
      "0         0.0  \n",
      "1         0.0  \n",
      "2         0.0  \n",
      "3         0.0  \n",
      "4         0.0  \n"
     ]
    }
   ],
   "source": [
    "import pandas as pd\n",
    "\n",
    "df = pd.read_csv(\"C:/Users/Anthony Zambrano/Downloads/yellow_tripdata_2022-05 (1).csv\")\n",
    "\n",
    "print(df.head())\n",
    "\n"
   ]
  },
  {
   "cell_type": "code",
   "execution_count": 2,
   "metadata": {},
   "outputs": [
    {
     "name": "stdout",
     "output_type": "stream",
     "text": [
      "VendorID: Taxi Vendor ID\n",
      "0    1\n",
      "1    1\n",
      "2    1\n",
      "3    1\n",
      "4    1\n",
      "Name: VendorID, dtype: int64\n"
     ]
    }
   ],
   "source": [
    "# Show details for each column with a brief description in the comments\n",
    "# VendorID: The ID of the taxi vendor\n",
    "print(\"VendorID: Taxi Vendor ID\")\n",
    "print(df['VendorID'].head())\n"
   ]
  },
  {
   "cell_type": "code",
   "execution_count": 3,
   "metadata": {},
   "outputs": [
    {
     "name": "stdout",
     "output_type": "stream",
     "text": [
      "\n",
      "tpep_pickup_datetime: Pickup timestamp\n",
      "0    2022-05-01 00:00:36.000000\n",
      "1    2022-05-01 00:27:44.000000\n",
      "2    2022-05-01 00:59:00.000000\n",
      "3    2022-05-01 00:48:18.000000\n",
      "4    2022-05-01 00:28:26.000000\n",
      "Name: tpep_pickup_datetime, dtype: object\n"
     ]
    }
   ],
   "source": [
    "# tpep_pickup_datetime: The timestamp of when the ride started\n",
    "print(\"\\ntpep_pickup_datetime: Pickup timestamp\")\n",
    "print(df['tpep_pickup_datetime'].head())"
   ]
  },
  {
   "cell_type": "code",
   "execution_count": 4,
   "metadata": {},
   "outputs": [
    {
     "name": "stdout",
     "output_type": "stream",
     "text": [
      "\n",
      "tpep_dropoff_datetime: Dropoff timestamp\n",
      "0    2022-05-01 00:19:18.000000\n",
      "1    2022-05-01 00:41:33.000000\n",
      "2    2022-05-01 01:14:22.000000\n",
      "3    2022-05-01 01:28:02.000000\n",
      "4    2022-05-01 00:37:49.000000\n",
      "Name: tpep_dropoff_datetime, dtype: object\n"
     ]
    }
   ],
   "source": [
    "# tpep_dropoff_datetime: The timestamp of when the ride ended\n",
    "print(\"\\ntpep_dropoff_datetime: Dropoff timestamp\")\n",
    "print(df['tpep_dropoff_datetime'].head())"
   ]
  },
  {
   "cell_type": "code",
   "execution_count": 5,
   "metadata": {},
   "outputs": [
    {
     "name": "stdout",
     "output_type": "stream",
     "text": [
      "\n",
      "passenger_count: Number of passengers\n",
      "0    1\n",
      "1    1\n",
      "2    1\n",
      "3    1\n",
      "4    1\n",
      "Name: passenger_count, dtype: object\n"
     ]
    }
   ],
   "source": [
    "# passenger_count: Number of passengers in the ride\n",
    "print(\"\\npassenger_count: Number of passengers\")\n",
    "print(df['passenger_count'].head())"
   ]
  },
  {
   "cell_type": "code",
   "execution_count": 6,
   "metadata": {},
   "outputs": [
    {
     "name": "stdout",
     "output_type": "stream",
     "text": [
      "\n",
      "RatecodeID: Fare pricing model\n",
      "0    1\n",
      "1    1\n",
      "2    1\n",
      "3    1\n",
      "4    1\n",
      "Name: RatecodeID, dtype: object\n"
     ]
    }
   ],
   "source": [
    "# RatecodeID: The rate code that indicates the pricing model (e.g., standard fare, fixed fare)\n",
    "print(\"\\nRatecodeID: Fare pricing model\")\n",
    "print(df['RatecodeID'].head())"
   ]
  },
  {
   "cell_type": "code",
   "execution_count": 7,
   "metadata": {},
   "outputs": [
    {
     "name": "stdout",
     "output_type": "stream",
     "text": [
      "\n",
      "PULocationID: Pickup location zone ID\n",
      "0    246\n",
      "1    238\n",
      "2    163\n",
      "3     79\n",
      "4    238\n",
      "Name: PULocationID, dtype: int64\n"
     ]
    }
   ],
   "source": [
    "# PULocationID: The pickup location ID (which zone the passenger was picked up from)\n",
    "print(\"\\nPULocationID: Pickup location zone ID\")\n",
    "print(df['PULocationID'].head())"
   ]
  },
  {
   "cell_type": "code",
   "execution_count": 8,
   "metadata": {},
   "outputs": [
    {
     "name": "stdout",
     "output_type": "stream",
     "text": [
      "\n",
      "DOLocationID: Dropoff location zone ID\n",
      "0    151\n",
      "1     74\n",
      "2    260\n",
      "3    182\n",
      "4     75\n",
      "Name: DOLocationID, dtype: int64\n"
     ]
    }
   ],
   "source": [
    "# DOLocationID: The dropoff location ID (which zone the passenger was dropped off in)\n",
    "print(\"\\nDOLocationID: Dropoff location zone ID\")\n",
    "print(df['DOLocationID'].head())"
   ]
  },
  {
   "cell_type": "code",
   "execution_count": 9,
   "metadata": {},
   "outputs": [
    {
     "name": "stdout",
     "output_type": "stream",
     "text": [
      "\n",
      "payment_type: Method of payment used\n",
      "0    2\n",
      "1    2\n",
      "2    2\n",
      "3    1\n",
      "4    1\n",
      "Name: payment_type, dtype: int64\n"
     ]
    }
   ],
   "source": [
    "# payment_type: The method of payment used by the passenger (e.g., cash, credit card)\n",
    "print(\"\\npayment_type: Method of payment used\")\n",
    "print(df['payment_type'].head())"
   ]
  },
  {
   "cell_type": "code",
   "execution_count": 10,
   "metadata": {},
   "outputs": [
    {
     "name": "stdout",
     "output_type": "stream",
     "text": [
      "\n",
      "fare_amount: Base fare for the ride\n",
      "0    17.0\n",
      "1    11.0\n",
      "2    15.5\n",
      "3    41.2\n",
      "4     7.5\n",
      "Name: fare_amount, dtype: float64\n"
     ]
    }
   ],
   "source": [
    "# fare_amount: The base fare of the ride (before any additional charges)\n",
    "print(\"\\nfare_amount: Base fare for the ride\")\n",
    "print(df['fare_amount'].head())\n"
   ]
  },
  {
   "cell_type": "code",
   "execution_count": 11,
   "metadata": {},
   "outputs": [
    {
     "name": "stdout",
     "output_type": "stream",
     "text": [
      "\n",
      "extra: Additional charges (e.g., time-based, etc.)\n",
      "0    3.0\n",
      "1    3.0\n",
      "2    3.0\n",
      "3    0.0\n",
      "4    3.0\n",
      "Name: extra, dtype: float64\n"
     ]
    }
   ],
   "source": [
    "# extra: Additional charges applied to the fare\n",
    "print(\"\\nextra: Additional charges (e.g., time-based, etc.)\")\n",
    "print(df['extra'].head())"
   ]
  },
  {
   "cell_type": "code",
   "execution_count": 12,
   "metadata": {},
   "outputs": [
    {
     "name": "stdout",
     "output_type": "stream",
     "text": [
      "\n",
      "mta_tax: MTA tax applied\n",
      "0    0.5\n",
      "1    0.5\n",
      "2    0.5\n",
      "3    0.5\n",
      "4    0.5\n",
      "Name: mta_tax, dtype: object\n"
     ]
    }
   ],
   "source": [
    "# mta_tax: The MTA (Metropolitan Transportation Authority) tax applied to the ride\n",
    "print(\"\\nmta_tax: MTA tax applied\")\n",
    "print(df['mta_tax'].head())"
   ]
  },
  {
   "cell_type": "code",
   "execution_count": 13,
   "metadata": {},
   "outputs": [
    {
     "name": "stdout",
     "output_type": "stream",
     "text": [
      "\n",
      "tolls_amount: Tolls charged during the ride\n",
      "0    0.0\n",
      "1    0.0\n",
      "2    0.0\n",
      "3    0.0\n",
      "4    0.0\n",
      "Name: tolls_amount, dtype: float64\n"
     ]
    }
   ],
   "source": [
    "# tolls_amount: The amount charged for any tolls during the ride\n",
    "print(\"\\ntolls_amount: Tolls charged during the ride\")\n",
    "print(df['tolls_amount'].head())"
   ]
  },
  {
   "cell_type": "code",
   "execution_count": 14,
   "metadata": {},
   "outputs": [
    {
     "name": "stdout",
     "output_type": "stream",
     "text": [
      "\n",
      "improvement_surcharge: Improvement surcharge applied\n",
      "0    0.3\n",
      "1    0.3\n",
      "2    0.3\n",
      "3    0.3\n",
      "4    0.3\n",
      "Name: improvement_surcharge, dtype: float64\n"
     ]
    }
   ],
   "source": [
    "# improvement_surcharge: A surcharge added to the fare for improvements\n",
    "print(\"\\nimprovement_surcharge: Improvement surcharge applied\")\n",
    "print(df['improvement_surcharge'].head())\n"
   ]
  },
  {
   "cell_type": "code",
   "execution_count": 15,
   "metadata": {},
   "outputs": [
    {
     "name": "stdout",
     "output_type": "stream",
     "text": [
      "\n",
      "total_amount: Total fare charged for the ride\n",
      "0    20.80\n",
      "1    14.80\n",
      "2    19.30\n",
      "3    42.00\n",
      "4    13.55\n",
      "Name: total_amount, dtype: float64\n"
     ]
    }
   ],
   "source": [
    "# total_amount: The total amount charged for the ride (base fare + extras + tips, etc.)\n",
    "print(\"\\ntotal_amount: Total fare charged for the ride\")\n",
    "print(df['total_amount'].head())\n"
   ]
  },
  {
   "cell_type": "code",
   "execution_count": 16,
   "metadata": {},
   "outputs": [
    {
     "name": "stdout",
     "output_type": "stream",
     "text": [
      "\n",
      "congestion_surcharge: Congestion surcharge applied\n",
      "0    2.5\n",
      "1    2.5\n",
      "2    2.5\n",
      "3    0.0\n",
      "4    2.5\n",
      "Name: congestion_surcharge, dtype: object\n"
     ]
    }
   ],
   "source": [
    "# congestion_surcharge: Additional charge for congestion or traffic-based areas\n",
    "print(\"\\ncongestion_surcharge: Congestion surcharge applied\")\n",
    "print(df['congestion_surcharge'].head())"
   ]
  },
  {
   "cell_type": "code",
   "execution_count": 17,
   "metadata": {},
   "outputs": [
    {
     "name": "stdout",
     "output_type": "stream",
     "text": [
      "\n",
      "airport_fee: Additional airport fee\n",
      "0    0.0\n",
      "1    0.0\n",
      "2    0.0\n",
      "3    0.0\n",
      "4    0.0\n",
      "Name: airport_fee, dtype: object\n"
     ]
    }
   ],
   "source": [
    "# airport_fee: Additional fee for rides to/from the airport\n",
    "print(\"\\nairport_fee: Additional airport fee\")\n",
    "print(df['airport_fee'].head())"
   ]
  },
  {
   "cell_type": "code",
   "execution_count": null,
   "metadata": {},
   "outputs": [],
   "source": [
    "# VendorID: ID del proveedor del taxi (Taxi Vendor ID: Identificador del proveedor de taxi, que es siempre 1 en los primeros registros.)\n",
    "# Valores: 1\n",
    "\n",
    "# tpep_pickup_datetime: Fecha y hora de recogida (Pickup timestamp: Fecha y hora en la que se recogió al pasajero en cada viaje.)\n",
    "# Valores:\n",
    "# 2022-05-01 00:00:36\n",
    "# 2022-05-01 00:27:44\n",
    "# 2022-05-01 00:59:00\n",
    "\n",
    "# tpep_dropoff_datetime: Fecha y hora de entrega (Dropoff timestamp: Fecha y hora en la que se entregó al pasajero en cada viaje.)\n",
    "# Valores:\n",
    "# 2022-05-01 00:19:18\n",
    "# 2022-05-01 00:41:33\n",
    "# 2022-05-01 01:14:22\n",
    "\n",
    "# passenger_count: Número de pasajeros (Number of passengers: Cantidad de pasajeros en cada viaje, siempre es 1 en los primeros registros.)\n",
    "# Valores:\n",
    "# 1\n",
    "\n",
    "# RatecodeID: Tipo de tarifa aplicada (Fare pricing model: Código de tarifa para el tipo de cobro aplicado al viaje, el valor es 1.)\n",
    "# Valores:\n",
    "# 1\n",
    "\n",
    "# PULocationID: ID de la zona de recogida (Pickup location zone ID: Código de zona donde se realizó la recogida del pasajero.)\n",
    "# Valores:\n",
    "# 246\n",
    "# 238\n",
    "# 163\n",
    "\n",
    "# DOLocationID: ID de la zona de entrega (Dropoff location zone ID: Código de zona donde se entregó al pasajero.)\n",
    "# Valores:\n",
    "# 151\n",
    "# 74\n",
    "# 260\n",
    "\n",
    "# payment_type: Método de pago utilizado (Method of payment used: Código que representa el método de pago, 1 para efectivo y 2 para tarjeta.)\n",
    "# Valores:\n",
    "# 2\n",
    "# 1\n",
    "\n",
    "# fare_amount: Monto base de la tarifa (Base fare for the ride: Precio base de la tarifa antes de cargos adicionales.)\n",
    "# Valores:\n",
    "# 17.0\n",
    "# 11.0\n",
    "# 15.5\n",
    "\n",
    "# extra: Cargos adicionales (ej., basados en tiempo) (Additional charges: Cargos adicionales aplicados por concepto de tiempo o situaciones similares.)\n",
    "# Valores:\n",
    "# 3.0\n",
    "# 0.0\n",
    "\n",
    "# mta_tax: Impuesto MTA aplicado (MTA tax applied: Impuesto aplicado por la MTA (Autoridad Metropolitana de Transporte).)\n",
    "# Valores:\n",
    "# 0.5\n",
    "\n",
    "# tolls_amount: Cargos por peaje (Tolls charged: Monto cobrado por peajes durante el viaje.)\n",
    "# Valores:\n",
    "# 0.0\n",
    "\n",
    "# improvement_surcharge: Cargos por mejora (Improvement surcharge: Cargo adicional por mejoras en el servicio.)\n",
    "# Valores:\n",
    "# 0.3\n",
    "\n",
    "# total_amount: Monto total cobrado por el viaje (Total fare charged for the ride: El monto total que se cobra por el viaje, incluyendo la tarifa base y cargos adicionales.)\n",
    "# Valores:\n",
    "# 20.80\n",
    "# 14.80\n",
    "# 19.30\n",
    "\n",
    "# congestion_surcharge: Cargo por congestión aplicado (Congestion surcharge: Cargo adicional aplicado por congestión o tráfico.)\n",
    "# Valores:\n",
    "# 2.5\n",
    "# 0.0\n",
    "\n",
    "# airport_fee: Cargo adicional por aeropuerto (Airport fee: Cargo adicional cuando el viaje tiene origen o destino en el aeropuerto.)\n",
    "# Valores:\n",
    "# 0.0\n",
    "\n",
    "# Resumen en español:\n",
    "# Este conjunto de datos proviene de un sistema de taxis en Nueva York, donde cada registro describe un viaje. Se incluye información clave como el proveedor del taxi, la fecha y hora de recogida y entrega, el número de pasajeros, la tarifa base, los cargos adicionales, el tipo de pago y las zonas de recogida y entrega. Los datos también incluyen impuestos y cargos específicos, como el impuesto MTA y el cargo por congestión. Además, hay cargos aplicados por el uso de peajes o el aeropuerto.\n",
    "\n",
    "# Summary in English:\n",
    "# This dataset comes from a New York taxi system, where each entry describes a trip. It includes key information such as the taxi vendor, pickup and dropoff timestamps, passenger count, base fare, additional charges, payment method, and pickup/dropoff zones. The data also includes specific taxes and fees, such as the MTA tax and congestion surcharge. Additionally, there are charges for tolls or airport usage.\n"
   ]
  },
  {
   "cell_type": "markdown",
   "metadata": {},
   "source": [
    "Cleaning process for may "
   ]
  },
  {
   "cell_type": "code",
   "execution_count": 37,
   "metadata": {},
   "outputs": [
    {
     "name": "stderr",
     "output_type": "stream",
     "text": [
      "C:\\Users\\Anthony Zambrano\\AppData\\Local\\Temp\\ipykernel_14504\\1358708129.py:5: DtypeWarning: Columns (3,5,17,18) have mixed types. Specify dtype option on import or set low_memory=False.\n",
      "  df_may = pd.read_csv(file_path_may)\n"
     ]
    }
   ],
   "source": [
    "import pandas as pd\n",
    "\n",
    "# Load the May dataset (adjust the path as per the provided location)\n",
    "file_path_may = r\"C:\\Users\\Anthony Zambrano\\Taxis_Fare_Project\\yellow_tripdata_2022-05 (1).csv\"\n",
    "df_may = pd.read_csv(file_path_may)\n"
   ]
  },
  {
   "cell_type": "code",
   "execution_count": 38,
   "metadata": {},
   "outputs": [],
   "source": [
    "# 1. Remove missing values in key columns\n",
    "df_may = df_may.dropna(subset=['fare_amount', 'tpep_pickup_datetime', 'tpep_dropoff_datetime'])\n"
   ]
  },
  {
   "cell_type": "code",
   "execution_count": 39,
   "metadata": {},
   "outputs": [],
   "source": [
    "# 2. Convert date and time columns to datetime format\n",
    "df_may['tpep_pickup_datetime'] = pd.to_datetime(df_may['tpep_pickup_datetime'])\n",
    "df_may['tpep_dropoff_datetime'] = pd.to_datetime(df_may['tpep_dropoff_datetime'])"
   ]
  },
  {
   "cell_type": "code",
   "execution_count": 40,
   "metadata": {},
   "outputs": [],
   "source": [
    "# 3. Remove outliers and invalid values\n",
    "df_may = df_may[df_may['trip_distance'] <= 100]  # Remove trips with distance greater than 100 miles\n",
    "df_may = df_may[df_may['fare_amount'] > 0]  # Remove trips with non-positive fare_amount\n",
    "df_may = df_may[df_may['trip_distance'] > 0]  # Remove trips with non-positive trip_distance"
   ]
  },
  {
   "cell_type": "code",
   "execution_count": 41,
   "metadata": {},
   "outputs": [],
   "source": [
    "# 4. Feature engineering\n",
    "df_may['pickup_hour'] = df_may['tpep_pickup_datetime'].dt.hour\n",
    "df_may['day_of_week'] = df_may['tpep_pickup_datetime'].dt.dayofweek\n",
    "df_may['trip_duration'] = (df_may['tpep_dropoff_datetime'] - df_may['tpep_pickup_datetime']).dt.total_seconds() / 60  # Duration in minutes"
   ]
  },
  {
   "cell_type": "code",
   "execution_count": null,
   "metadata": {},
   "outputs": [],
   "source": [
    "#5\n",
    "# Convert 'passenger_count' to numeric, forcing errors to NaN\n",
    "df_may['passenger_count'] = pd.to_numeric(df_may['passenger_count'], errors='coerce')\n",
    "\n",
    "# Now fill the missing values with the mean\n",
    "df_may['passenger_count'] = df_may['passenger_count'].fillna(df_may['passenger_count'].mean())\n",
    "\n",
    "# Fill missing values in other columns as intended\n",
    "df_may['store_and_fwd_flag'] = df_may['store_and_fwd_flag'].fillna('N')  # Assuming 'N' for missing values\n",
    "df_may['congestion_surcharge'] = df_may['congestion_surcharge'].fillna(0)  # Assuming 0 for missing values\n"
   ]
  },
  {
   "cell_type": "code",
   "execution_count": 45,
   "metadata": {},
   "outputs": [],
   "source": [
    "# 6. Remove duplicates\n",
    "df_may = df_may.drop_duplicates()"
   ]
  },
  {
   "cell_type": "code",
   "execution_count": 46,
   "metadata": {},
   "outputs": [],
   "source": [
    "# 7. Apply one-hot encoding to categorical variables\n",
    "df_may = pd.get_dummies(df_may, columns=['payment_type', 'store_and_fwd_flag', 'RatecodeID'], drop_first=True)"
   ]
  },
  {
   "cell_type": "code",
   "execution_count": 47,
   "metadata": {},
   "outputs": [],
   "source": [
    "# 8. Optimize data types (optional, depending on the dataset size)\n",
    "df_may['passenger_count'] = df_may['passenger_count'].astype('int8')\n",
    "df_may['trip_distance'] = df_may['trip_distance'].astype('float32')\n",
    "df_may['fare_amount'] = df_may['fare_amount'].astype('float32')\n",
    "df_may['trip_duration'] = df_may['trip_duration'].astype('float32')"
   ]
  },
  {
   "cell_type": "code",
   "execution_count": 48,
   "metadata": {},
   "outputs": [
    {
     "name": "stdout",
     "output_type": "stream",
     "text": [
      "Shape of the cleaned dataset: (3523379, 38)\n",
      "           VendorID           tpep_pickup_datetime  \\\n",
      "count  3.523379e+06                        3523379   \n",
      "mean   1.712920e+00  2022-05-16 07:44:49.376675840   \n",
      "min    1.000000e+00            2003-01-01 00:06:06   \n",
      "25%    1.000000e+00            2022-05-08 18:08:56   \n",
      "50%    2.000000e+00            2022-05-16 09:09:34   \n",
      "75%    2.000000e+00     2022-05-23 18:00:20.500000   \n",
      "max    6.000000e+00            2022-06-01 23:55:30   \n",
      "std    4.895301e-01                            NaN   \n",
      "\n",
      "               tpep_dropoff_datetime  passenger_count  trip_distance  \\\n",
      "count                        3523379     3.523379e+06   3.523379e+06   \n",
      "mean   2022-05-16 08:03:10.812386304     1.380988e+00   3.694528e+00   \n",
      "min              2003-01-01 00:31:38     0.000000e+00   1.000000e-02   \n",
      "25%              2022-05-08 18:27:22     1.000000e+00   1.190000e+00   \n",
      "50%              2022-05-16 09:28:28     1.000000e+00   2.000000e+00   \n",
      "75%       2022-05-23 18:18:14.500000     1.000000e+00   3.800000e+00   \n",
      "max              2022-06-02 00:03:51     8.000000e+00   9.830000e+01   \n",
      "std                              NaN     9.428161e-01   4.577199e+00   \n",
      "\n",
      "       PULocationID  DOLocationID   fare_amount         extra       mta_tax  \\\n",
      "count  3.523379e+06  3.523379e+06  3.523379e+06  3.523379e+06  3.523379e+06   \n",
      "mean   1.646542e+02  1.625236e+02  1.516681e+01  1.035377e+00  4.963848e-01   \n",
      "min    1.000000e+00  1.000000e+00  1.000000e-02  0.000000e+00  0.000000e+00   \n",
      "25%    1.320000e+02  1.130000e+02  7.500000e+00  0.000000e+00  5.000000e-01   \n",
      "50%    1.620000e+02  1.620000e+02  1.050000e+01  5.000000e-01  5.000000e-01   \n",
      "75%    2.340000e+02  2.340000e+02  1.700000e+01  2.500000e+00  5.000000e-01   \n",
      "max    2.650000e+02  2.650000e+02  6.966500e+03  8.800000e+00  3.300000e+00   \n",
      "std    6.553936e+01  7.021849e+01  1.409259e+01  1.255863e+00  4.242331e-02   \n",
      "\n",
      "         tip_amount  tolls_amount  improvement_surcharge  total_amount  \\\n",
      "count  3.523379e+06  3.523379e+06           3.523379e+06  3.523379e+06   \n",
      "mean   2.831672e+00  5.844657e-01           2.999785e-01  2.214320e+01   \n",
      "min    0.000000e+00  0.000000e+00           0.000000e+00  3.100000e-01   \n",
      "25%    1.000000e+00  0.000000e+00           3.000000e-01  1.236000e+01   \n",
      "50%    2.200000e+00  0.000000e+00           3.000000e-01  1.630000e+01   \n",
      "75%    3.460000e+00  0.000000e+00           3.000000e-01  2.375000e+01   \n",
      "max    4.080000e+02  8.137500e+02           3.000000e-01  6.970800e+03   \n",
      "std    3.245570e+00  2.156407e+00           2.542063e-03  1.767126e+01   \n",
      "\n",
      "        pickup_hour   day_of_week  trip_duration  \n",
      "count  3.523379e+06  3.523379e+06   3.523379e+06  \n",
      "mean   1.417757e+01  2.917501e+00   1.835726e+01  \n",
      "min    0.000000e+00  0.000000e+00  -1.408333e+01  \n",
      "25%    1.000000e+01  1.000000e+00   7.816667e+00  \n",
      "50%    1.500000e+01  3.000000e+00   1.281667e+01  \n",
      "75%    1.900000e+01  5.000000e+00   2.070000e+01  \n",
      "max    2.300000e+01  6.000000e+00   6.823550e+03  \n",
      "std    5.773493e+00  1.999988e+00   5.167627e+01  \n"
     ]
    }
   ],
   "source": [
    "# 9. Final check\n",
    "print(\"Shape of the cleaned dataset:\", df_may.shape)\n",
    "print(df_may.describe())"
   ]
  },
  {
   "cell_type": "code",
   "execution_count": 49,
   "metadata": {},
   "outputs": [],
   "source": [
    "# Save the cleaned dataset to a new CSV file\n",
    "output_file_path_may = r\"C:\\Users\\Anthony Zambrano\\Taxis_Fare_Project\\cleaned_yellow_tripdata_2022-05.csv\"\n",
    "df_may.to_csv(output_file_path_may, index=False)"
   ]
  },
  {
   "cell_type": "code",
   "execution_count": 52,
   "metadata": {},
   "outputs": [
    {
     "name": "stdout",
     "output_type": "stream",
     "text": [
      "Shape of the cleaned dataset (May): (3523379, 38)\n",
      "Statistics of the cleaned dataset (May):\n",
      "           VendorID           tpep_pickup_datetime  \\\n",
      "count  3.523379e+06                        3523379   \n",
      "mean   1.712920e+00  2022-05-16 07:44:49.376675840   \n",
      "min    1.000000e+00            2003-01-01 00:06:06   \n",
      "25%    1.000000e+00            2022-05-08 18:08:56   \n",
      "50%    2.000000e+00            2022-05-16 09:09:34   \n",
      "75%    2.000000e+00     2022-05-23 18:00:20.500000   \n",
      "max    6.000000e+00            2022-06-01 23:55:30   \n",
      "std    4.895301e-01                            NaN   \n",
      "\n",
      "               tpep_dropoff_datetime  passenger_count  trip_distance  \\\n",
      "count                        3523379     3.523379e+06   3.523379e+06   \n",
      "mean   2022-05-16 08:03:10.812386304     1.380988e+00   3.694528e+00   \n",
      "min              2003-01-01 00:31:38     0.000000e+00   1.000000e-02   \n",
      "25%              2022-05-08 18:27:22     1.000000e+00   1.190000e+00   \n",
      "50%              2022-05-16 09:28:28     1.000000e+00   2.000000e+00   \n",
      "75%       2022-05-23 18:18:14.500000     1.000000e+00   3.800000e+00   \n",
      "max              2022-06-02 00:03:51     8.000000e+00   9.830000e+01   \n",
      "std                              NaN     9.428161e-01   4.577199e+00   \n",
      "\n",
      "       PULocationID  DOLocationID   fare_amount         extra       mta_tax  \\\n",
      "count  3.523379e+06  3.523379e+06  3.523379e+06  3.523379e+06  3.523379e+06   \n",
      "mean   1.646542e+02  1.625236e+02  1.516681e+01  1.035377e+00  4.963848e-01   \n",
      "min    1.000000e+00  1.000000e+00  1.000000e-02  0.000000e+00  0.000000e+00   \n",
      "25%    1.320000e+02  1.130000e+02  7.500000e+00  0.000000e+00  5.000000e-01   \n",
      "50%    1.620000e+02  1.620000e+02  1.050000e+01  5.000000e-01  5.000000e-01   \n",
      "75%    2.340000e+02  2.340000e+02  1.700000e+01  2.500000e+00  5.000000e-01   \n",
      "max    2.650000e+02  2.650000e+02  6.966500e+03  8.800000e+00  3.300000e+00   \n",
      "std    6.553936e+01  7.021849e+01  1.409259e+01  1.255863e+00  4.242331e-02   \n",
      "\n",
      "         tip_amount  tolls_amount  improvement_surcharge  total_amount  \\\n",
      "count  3.523379e+06  3.523379e+06           3.523379e+06  3.523379e+06   \n",
      "mean   2.831672e+00  5.844657e-01           2.999785e-01  2.214320e+01   \n",
      "min    0.000000e+00  0.000000e+00           0.000000e+00  3.100000e-01   \n",
      "25%    1.000000e+00  0.000000e+00           3.000000e-01  1.236000e+01   \n",
      "50%    2.200000e+00  0.000000e+00           3.000000e-01  1.630000e+01   \n",
      "75%    3.460000e+00  0.000000e+00           3.000000e-01  2.375000e+01   \n",
      "max    4.080000e+02  8.137500e+02           3.000000e-01  6.970800e+03   \n",
      "std    3.245570e+00  2.156407e+00           2.542063e-03  1.767126e+01   \n",
      "\n",
      "        pickup_hour   day_of_week  trip_duration  \n",
      "count  3.523379e+06  3.523379e+06   3.523379e+06  \n",
      "mean   1.417757e+01  2.917501e+00   1.835726e+01  \n",
      "min    0.000000e+00  0.000000e+00  -1.408333e+01  \n",
      "25%    1.000000e+01  1.000000e+00   7.816667e+00  \n",
      "50%    1.500000e+01  3.000000e+00   1.281667e+01  \n",
      "75%    1.900000e+01  5.000000e+00   2.070000e+01  \n",
      "max    2.300000e+01  6.000000e+00   6.823550e+03  \n",
      "std    5.773493e+00  1.999988e+00   5.167627e+01  \n"
     ]
    }
   ],
   "source": [
    "# View the shape and some statistics of the cleaned dataset\n",
    "print(\"Shape of the cleaned dataset (May):\", df_may.shape)\n",
    "print(\"Statistics of the cleaned dataset (May):\")\n",
    "print(df_may.describe())"
   ]
  },
  {
   "cell_type": "code",
   "execution_count": 54,
   "metadata": {},
   "outputs": [
    {
     "name": "stderr",
     "output_type": "stream",
     "text": [
      "C:\\Users\\Anthony Zambrano\\AppData\\Local\\Temp\\ipykernel_14504\\3778025877.py:8: DtypeWarning: Columns (14,15) have mixed types. Specify dtype option on import or set low_memory=False.\n",
      "  df_may = pd.read_csv(file_path)\n"
     ]
    },
    {
     "data": {
      "image/png": "[encoded data removed]",
      "text/plain": [
       "<Figure size 1000x800 with 2 Axes>"
      ]
     },
     "metadata": {},
     "output_type": "display_data"
    },
    {
     "name": "stdout",
     "output_type": "stream",
     "text": [
      "Shape of the final dataset: (3523379, 42)\n",
      "Statistics of the final dataset:\n",
      "           VendorID  passenger_count  trip_distance  PULocationID  \\\n",
      "count  3.523379e+06     3.523379e+06   3.523379e+06  3.523379e+06   \n",
      "mean   1.712920e+00     1.380988e+00   3.693197e+00  1.646542e+02   \n",
      "std    4.895301e-01     9.428161e-01   4.560615e+00  6.553936e+01   \n",
      "min    1.000000e+00     0.000000e+00   1.000000e-02  1.000000e+00   \n",
      "25%    1.000000e+00     1.000000e+00   1.190000e+00  1.320000e+02   \n",
      "50%    2.000000e+00     1.000000e+00   2.000000e+00  1.620000e+02   \n",
      "75%    2.000000e+00     1.000000e+00   3.800000e+00  2.340000e+02   \n",
      "max    6.000000e+00     8.000000e+00   5.000000e+01  2.650000e+02   \n",
      "\n",
      "       DOLocationID   fare_amount         extra       mta_tax    tip_amount  \\\n",
      "count  3.523379e+06  3.523379e+06  3.523379e+06  3.523379e+06  3.523379e+06   \n",
      "mean   1.625236e+02  1.516331e+01  1.035377e+00  4.963848e-01  2.831672e+00   \n",
      "std    7.021849e+01  1.354408e+01  1.255863e+00  4.242331e-02  3.245570e+00   \n",
      "min    1.000000e+00  1.000000e-02  0.000000e+00  0.000000e+00  0.000000e+00   \n",
      "25%    1.130000e+02  7.500000e+00  0.000000e+00  5.000000e-01  1.000000e+00   \n",
      "50%    1.620000e+02  1.050000e+01  5.000000e-01  5.000000e-01  2.200000e+00   \n",
      "75%    2.340000e+02  1.700000e+01  2.500000e+00  5.000000e-01  3.460000e+00   \n",
      "max    2.650000e+02  3.000000e+02  8.800000e+00  3.300000e+00  4.080000e+02   \n",
      "\n",
      "       tolls_amount  improvement_surcharge  total_amount   pickup_hour  \\\n",
      "count  3.523379e+06           3.523379e+06  3.523379e+06  3.523379e+06   \n",
      "mean   5.844657e-01           2.999785e-01  2.214320e+01  1.417757e+01   \n",
      "std    2.156407e+00           2.542063e-03  1.767126e+01  5.773493e+00   \n",
      "min    0.000000e+00           0.000000e+00  3.100000e-01  0.000000e+00   \n",
      "25%    0.000000e+00           3.000000e-01  1.236000e+01  1.000000e+01   \n",
      "50%    0.000000e+00           3.000000e-01  1.630000e+01  1.500000e+01   \n",
      "75%    0.000000e+00           3.000000e-01  2.375000e+01  1.900000e+01   \n",
      "max    8.137500e+02           3.000000e-01  6.970800e+03  2.300000e+01   \n",
      "\n",
      "        day_of_week  trip_duration    pickup_day  pickup_month    is_weekend  \\\n",
      "count  3.523379e+06   3.523379e+06  3.523379e+06  3.523379e+06  3.523379e+06   \n",
      "mean   2.917501e+00   1.835726e+01  2.917501e+00  4.999984e+00  2.702568e-01   \n",
      "std    1.999988e+00   5.167627e+01  1.999988e+00  1.339302e-02  4.440924e-01   \n",
      "min    0.000000e+00  -1.408333e+01  0.000000e+00  1.000000e+00  0.000000e+00   \n",
      "25%    1.000000e+00   7.816667e+00  1.000000e+00  5.000000e+00  0.000000e+00   \n",
      "50%    3.000000e+00   1.281667e+01  3.000000e+00  5.000000e+00  0.000000e+00   \n",
      "75%    5.000000e+00   2.070000e+01  5.000000e+00  5.000000e+00  1.000000e+00   \n",
      "max    6.000000e+00   6.823550e+03  6.000000e+00  1.200000e+01  1.000000e+00   \n",
      "\n",
      "       fare_per_mile  \n",
      "count   3.523379e+06  \n",
      "mean    9.070684e+00  \n",
      "std     1.216340e+02  \n",
      "min     2.000000e-04  \n",
      "25%     4.056604e+00  \n",
      "50%     5.135952e+00  \n",
      "75%     6.435644e+00  \n",
      "max     3.000000e+04  \n"
     ]
    }
   ],
   "source": [
    "import pandas as pd\n",
    "import numpy as np\n",
    "import seaborn as sns\n",
    "import matplotlib.pyplot as plt\n",
    "\n",
    "# Load the cleaned file\n",
    "file_path = r\"C:\\Users\\Anthony Zambrano\\Taxis_Fare_Project\\cleaned_yellow_tripdata_2022-05.csv\"\n",
    "df_may = pd.read_csv(file_path)\n",
    "\n",
    "# 1. Handle Outliers: Remove or cap extreme values\n",
    "df_may['trip_distance'] = np.where(df_may['trip_distance'] > 50, 50, df_may['trip_distance'])\n",
    "df_may['fare_amount'] = np.where(df_may['fare_amount'] > 300, 300, df_may['fare_amount'])\n",
    "\n",
    "# 2. Feature Engineering: Create new features\n",
    "df_may['pickup_hour'] = pd.to_datetime(df_may['tpep_pickup_datetime']).dt.hour\n",
    "df_may['pickup_day'] = pd.to_datetime(df_may['tpep_pickup_datetime']).dt.dayofweek\n",
    "df_may['pickup_month'] = pd.to_datetime(df_may['tpep_pickup_datetime']).dt.month\n",
    "df_may['is_weekend'] = df_may['pickup_day'].isin([5, 6]).astype(int)  # 1 if weekend, 0 otherwise\n",
    "\n",
    "# Calculate fare per mile\n",
    "df_may['fare_per_mile'] = df_may['fare_amount'] / df_may['trip_distance']\n",
    "\n",
    "# 3. Correlation Check: Analyze correlations between features\n",
    "# Exclude non-numeric columns\n",
    "df_may_numeric = df_may.select_dtypes(include=[np.number])\n",
    "\n",
    "# Calculate the correlation matrix only for numeric columns\n",
    "correlation_matrix = df_may_numeric.corr()\n",
    "\n",
    "# Visualize the correlation matrix\n",
    "plt.figure(figsize=(10, 8))\n",
    "sns.heatmap(correlation_matrix, annot=True, cmap='coolwarm', fmt='.2f', linewidths=0.5)\n",
    "plt.title('Correlation Matrix')\n",
    "plt.show()\n",
    "\n",
    "# 4. Save the processed file (overwrite the original file)\n",
    "df_may.to_csv(file_path, index=False)\n",
    "\n",
    "# Display final dataset information\n",
    "print(\"Shape of the final dataset:\", df_may.shape)\n",
    "print(\"Statistics of the final dataset:\")\n",
    "print(df_may.describe())\n"
   ]
  },
  {
   "cell_type": "markdown",
   "metadata": {},
   "source": [
    "Data Cleaning Process - May Dataset\n",
    "Data Import: Loaded the cleaned May dataset for further processing.\n",
    "\n",
    "Outlier Handling:\n",
    "\n",
    "Capped extreme values for trip_distance (>50) and fare_amount (>300).\n",
    "Feature Engineering:\n",
    "\n",
    "Extracted new features from the timestamp (pickup_hour, pickup_day, pickup_month, is_weekend).\n",
    "Created a new feature: fare_per_mile (fare divided by distance).\n",
    "Correlation Analysis:\n",
    "\n",
    "Computed and visualized the correlation matrix to identify relationships between features.\n",
    "Save Cleaned Data:\n",
    "\n",
    "Saved the cleaned dataset, overwriting the original file.\n",
    "Final Review:\n",
    "\n",
    "Reviewed dataset shape and summary statistics to confirm cleanliness and readiness for analysis.\n",
    "This process ensures that the dataset is structured, relevant, and ready for further analysis.\n",
    "\n",
    "\n",
    "Proceso de Limpieza de Datos - Conjunto de Datos de Mayo\n",
    "Importación de Datos: Se cargó el conjunto de datos limpio de mayo para su procesamiento.\n",
    "\n",
    "Manejo de Valores Atípicos:\n",
    "\n",
    "Se limitaron los valores extremos de trip_distance (>50) y fare_amount (>300).\n",
    "Ingeniería de Características:\n",
    "\n",
    "Se extrajeron nuevas características a partir de la fecha y hora (pickup_hour, pickup_day, pickup_month, is_weekend).\n",
    "Se creó una nueva característica: fare_per_mile (tarifa dividida por distancia).\n",
    "Análisis de Correlación:\n",
    "\n",
    "Se calculó y visualizó la matriz de correlación para identificar relaciones entre las características.\n",
    "Guardar Datos Limpiados:\n",
    "\n",
    "Se guardó el conjunto de datos limpio, sobrescribiendo el archivo original.\n",
    "Revisión Final:\n",
    "\n",
    "Se revisó la forma del conjunto de datos y las estadísticas descriptivas para confirmar su limpieza y preparación para el análisis.\n",
    "Este proceso asegura que el conjunto de datos esté estructurado, relevante y listo para análisis futuros.\n",
    "\n",
    "\n",
    "\n",
    "\n",
    "\n",
    "\n",
    "\n"
   ]
  },
  {
   "cell_type": "markdown",
   "metadata": {},
   "source": [
    "June"
   ]
  },
  {
   "cell_type": "code",
   "execution_count": 56,
   "metadata": {},
   "outputs": [
    {
     "name": "stderr",
     "output_type": "stream",
     "text": [
      "C:\\Users\\Anthony Zambrano\\AppData\\Local\\Temp\\ipykernel_14504\\3408625419.py:2: DtypeWarning: Columns (6) have mixed types. Specify dtype option on import or set low_memory=False.\n",
      "  df = pd.read_csv(r'C:\\Users\\Anthony Zambrano\\Taxis_Fare_Project\\yellow_tripdata_2022-06.csv')\n"
     ]
    }
   ],
   "source": [
    "# Load dataset\n",
    "df = pd.read_csv(r'C:\\Users\\Anthony Zambrano\\Taxis_Fare_Project\\yellow_tripdata_2022-06.csv')\n"
   ]
  },
  {
   "cell_type": "code",
   "execution_count": 57,
   "metadata": {},
   "outputs": [],
   "source": [
    "# Drop rows with missing values in critical columns\n",
    "df.dropna(subset=['fare_amount', 'tpep_pickup_datetime', 'tpep_dropoff_datetime'], inplace=True)\n"
   ]
  },
  {
   "cell_type": "code",
   "execution_count": 58,
   "metadata": {},
   "outputs": [],
   "source": [
    "# Convert datetime columns to proper format\n",
    "df['tpep_pickup_datetime'] = pd.to_datetime(df['tpep_pickup_datetime'])\n",
    "df['tpep_dropoff_datetime'] = pd.to_datetime(df['tpep_dropoff_datetime'])"
   ]
  },
  {
   "cell_type": "code",
   "execution_count": 59,
   "metadata": {},
   "outputs": [],
   "source": [
    "# Remove outliers and invalid values\n",
    "df = df[(df['trip_distance'] > 0) & (df['trip_distance'] <= 100)]\n",
    "df = df[df['fare_amount'] > 0]\n"
   ]
  },
  {
   "cell_type": "code",
   "execution_count": 60,
   "metadata": {},
   "outputs": [],
   "source": [
    "# Feature engineering\n",
    "df['pickup_hour'] = df['tpep_pickup_datetime'].dt.hour\n",
    "df['pickup_day_of_week'] = df['tpep_pickup_datetime'].dt.dayofweek\n",
    "df['trip_duration_minutes'] = (df['tpep_dropoff_datetime'] - df['tpep_pickup_datetime']).dt.total_seconds() / 60\n"
   ]
  },
  {
   "cell_type": "code",
   "execution_count": 61,
   "metadata": {},
   "outputs": [
    {
     "name": "stderr",
     "output_type": "stream",
     "text": [
      "C:\\Users\\Anthony Zambrano\\AppData\\Local\\Temp\\ipykernel_14504\\3834387840.py:2: FutureWarning: A value is trying to be set on a copy of a DataFrame or Series through chained assignment using an inplace method.\n",
      "The behavior will change in pandas 3.0. This inplace method will never work because the intermediate object on which we are setting values always behaves as a copy.\n",
      "\n",
      "For example, when doing 'df[col].method(value, inplace=True)', try using 'df.method({col: value}, inplace=True)' or df[col] = df[col].method(value) instead, to perform the operation inplace on the original object.\n",
      "\n",
      "\n",
      "  df['passenger_count'].fillna(df['passenger_count'].median(), inplace=True)\n",
      "C:\\Users\\Anthony Zambrano\\AppData\\Local\\Temp\\ipykernel_14504\\3834387840.py:3: FutureWarning: A value is trying to be set on a copy of a DataFrame or Series through chained assignment using an inplace method.\n",
      "The behavior will change in pandas 3.0. This inplace method will never work because the intermediate object on which we are setting values always behaves as a copy.\n",
      "\n",
      "For example, when doing 'df[col].method(value, inplace=True)', try using 'df.method({col: value}, inplace=True)' or df[col] = df[col].method(value) instead, to perform the operation inplace on the original object.\n",
      "\n",
      "\n",
      "  df['store_and_fwd_flag'].fillna('N', inplace=True)\n",
      "C:\\Users\\Anthony Zambrano\\AppData\\Local\\Temp\\ipykernel_14504\\3834387840.py:4: FutureWarning: A value is trying to be set on a copy of a DataFrame or Series through chained assignment using an inplace method.\n",
      "The behavior will change in pandas 3.0. This inplace method will never work because the intermediate object on which we are setting values always behaves as a copy.\n",
      "\n",
      "For example, when doing 'df[col].method(value, inplace=True)', try using 'df.method({col: value}, inplace=True)' or df[col] = df[col].method(value) instead, to perform the operation inplace on the original object.\n",
      "\n",
      "\n",
      "  df['congestion_surcharge'].fillna(0, inplace=True)\n"
     ]
    }
   ],
   "source": [
    "# Handle missing values in additional columns\n",
    "df['passenger_count'].fillna(df['passenger_count'].median(), inplace=True)\n",
    "df['store_and_fwd_flag'].fillna('N', inplace=True)\n",
    "df['congestion_surcharge'].fillna(0, inplace=True)"
   ]
  },
  {
   "cell_type": "code",
   "execution_count": 62,
   "metadata": {},
   "outputs": [],
   "source": [
    "# Remove duplicate records\n",
    "df.drop_duplicates(inplace=True)"
   ]
  },
  {
   "cell_type": "code",
   "execution_count": 63,
   "metadata": {},
   "outputs": [],
   "source": [
    "# One-hot encoding for categorical variables\n",
    "df = pd.get_dummies(df, columns=['payment_type', 'store_and_fwd_flag', 'RatecodeID'], drop_first=True)"
   ]
  },
  {
   "cell_type": "code",
   "execution_count": 64,
   "metadata": {},
   "outputs": [],
   "source": [
    "# Optimize data types to reduce memory usage\n",
    "df['passenger_count'] = df['passenger_count'].astype('int8')\n",
    "df['pickup_hour'] = df['pickup_hour'].astype('int8')\n",
    "df['pickup_day_of_week'] = df['pickup_day_of_week'].astype('int8')"
   ]
  },
  {
   "cell_type": "code",
   "execution_count": 65,
   "metadata": {},
   "outputs": [
    {
     "name": "stdout",
     "output_type": "stream",
     "text": [
      "Data cleaning complete. Cleaned file saved successfully.\n"
     ]
    }
   ],
   "source": [
    "# Save the cleaned dataset\n",
    "df.to_csv(r'C:\\Users\\Anthony Zambrano\\Taxis_Fare_Project\\cleaned_yellow_tripdata_2022-06.csv', index=False)\n",
    "\n",
    "print(\"Data cleaning complete. Cleaned file saved successfully.\")\n"
   ]
  },
  {
   "cell_type": "code",
   "execution_count": 66,
   "metadata": {},
   "outputs": [
    {
     "name": "stdout",
     "output_type": "stream",
     "text": [
      "   VendorID tpep_pickup_datetime tpep_dropoff_datetime  passenger_count  \\\n",
      "0         1  2022-06-01 00:25:41   2022-06-01 00:48:22                1   \n",
      "1         1  2022-06-01 00:44:40   2022-06-01 01:01:48                1   \n",
      "2         2  2022-06-01 00:23:07   2022-06-01 00:39:50                1   \n",
      "3         1  2022-06-01 00:25:53   2022-06-01 00:57:06                2   \n",
      "4         1  2022-06-01 00:23:58   2022-06-01 00:33:43                0   \n",
      "\n",
      "   trip_distance  PULocationID  DOLocationID  fare_amount  extra  mta_tax  \\\n",
      "0          11.00            70            48         32.0   3.00      0.5   \n",
      "1           4.20           170           226         14.0   3.00      0.5   \n",
      "2           9.49           264           113         26.0   0.50      0.5   \n",
      "3          12.10           132            17         37.0   1.75      0.5   \n",
      "4           1.80           140           163          9.0   3.00      0.5   \n",
      "\n",
      "   ...  payment_type_2  payment_type_3  payment_type_4  store_and_fwd_flag_Y  \\\n",
      "0  ...           False           False           False                 False   \n",
      "1  ...           False           False           False                 False   \n",
      "2  ...           False           False           False                 False   \n",
      "3  ...            True           False           False                 False   \n",
      "4  ...           False           False           False                 False   \n",
      "\n",
      "   RatecodeID_2.0  RatecodeID_3.0  RatecodeID_4.0  RatecodeID_5.0  \\\n",
      "0           False           False           False           False   \n",
      "1           False           False           False           False   \n",
      "2           False           False           False           False   \n",
      "3           False           False           False           False   \n",
      "4           False           False           False           False   \n",
      "\n",
      "   RatecodeID_6.0  RatecodeID_99.0  \n",
      "0           False            False  \n",
      "1           False            False  \n",
      "2           False            False  \n",
      "3           False            False  \n",
      "4           False            False  \n",
      "\n",
      "[5 rows x 30 columns]\n"
     ]
    }
   ],
   "source": [
    "# Load and display cleaned dataset\n",
    "cleaned_df = pd.read_csv(r'C:\\Users\\Anthony Zambrano\\Taxis_Fare_Project\\cleaned_yellow_tripdata_2022-06.csv')\n",
    "print(cleaned_df.head())"
   ]
  },
  {
   "cell_type": "markdown",
   "metadata": {},
   "source": [
    "English Version\n",
    "Removed Missing Values:\n",
    "\n",
    "Dropped rows with missing values in key columns such as fare_amount, tpep_pickup_datetime, and tpep_dropoff_datetime to ensure data integrity.\n",
    "Converted Date and Time Columns:\n",
    "\n",
    "Converted tpep_pickup_datetime and tpep_dropoff_datetime to proper datetime format for easier analysis.\n",
    "Filtered Outliers and Invalid Values:\n",
    "\n",
    "Removed trips with distances greater than 100 miles.\n",
    "Ensured fare_amount and trip_distance had only positive values.\n",
    "Feature Engineering:\n",
    "\n",
    "Extracted pickup_hour and pickup_day_of_week from tpep_pickup_datetime.\n",
    "Calculated trip_duration in minutes by subtracting pickup time from drop-off time.\n",
    "Handled Missing Values in Additional Columns:\n",
    "\n",
    "Filled missing passenger_count values with the mean.\n",
    "Replaced missing values in categorical columns (store_and_fwd_flag, congestion_surcharge) with default values.\n",
    "Removed Duplicates:\n",
    "\n",
    "Dropped duplicate rows to prevent redundancy.\n",
    "Applied One-Hot Encoding:\n",
    "\n",
    "Converted categorical columns (payment_type, store_and_fwd_flag, RatecodeID) into binary variables for machine learning compatibility.\n",
    "Optimized Data Types:\n",
    "\n",
    "Converted columns to appropriate data types to reduce memory usage and improve efficiency.\n",
    "Final Verification and Export:\n",
    "\n",
    "Ensured data consistency and saved the cleaned dataset as cleaned_yellow_tripdata_2022-06.csv.\n",
    "Versión en Español\n",
    "Eliminación de Valores Faltantes:\n",
    "\n",
    "Se eliminaron filas con valores faltantes en columnas clave como fare_amount, tpep_pickup_datetime y tpep_dropoff_datetime para garantizar la integridad de los datos.\n",
    "Conversión de Columnas de Fecha y Hora:\n",
    "\n",
    "Se convirtieron tpep_pickup_datetime y tpep_dropoff_datetime al formato de fecha y hora adecuado.\n",
    "Filtrado de Valores Atípicos e Inválidos:\n",
    "\n",
    "Se eliminaron viajes con distancias superiores a 100 millas.\n",
    "Se aseguraron valores positivos en fare_amount y trip_distance.\n",
    "Ingeniería de Características:\n",
    "\n",
    "Se extrajeron pickup_hour y pickup_day_of_week de tpep_pickup_datetime.\n",
    "Se calculó la trip_duration en minutos restando la hora de recogida de la hora de bajada.\n",
    "Manejo de Valores Faltantes en Columnas Adicionales:\n",
    "\n",
    "Se rellenaron valores faltantes en passenger_count con la media.\n",
    "Se reemplazaron valores vacíos en columnas categóricas (store_and_fwd_flag, congestion_surcharge) con valores predeterminados.\n",
    "Eliminación de Duplicados:\n",
    "\n",
    "Se eliminaron registros duplicados para evitar redundancias.\n",
    "Aplicación de Codificación One-Hot:\n",
    "\n",
    "Se codificaron columnas categóricas (payment_type, store_and_fwd_flag, RatecodeID) en variables binarias para facilitar su uso en modelos de machine learning.\n",
    "Optimización de Tipos de Datos:\n",
    "\n",
    "Se ajustaron los tipos de datos para reducir el uso de memoria y mejorar la eficiencia.\n",
    "Verificación Final y Exportación:\n",
    "\n",
    "Se comprobó la consistencia de los datos y se guardó el conjunto de datos limpio como cleaned_yellow_tripdata_2022-06.csv.\n"
   ]
  },
  {
   "cell_type": "markdown",
   "metadata": {},
   "source": [
    "July"
   ]
  },
  {
   "cell_type": "code",
   "execution_count": 68,
   "metadata": {},
   "outputs": [
    {
     "name": "stderr",
     "output_type": "stream",
     "text": [
      "C:\\Users\\Anthony Zambrano\\AppData\\Local\\Temp\\ipykernel_14504\\3065744951.py:8: DtypeWarning: Columns (6) have mixed types. Specify dtype option on import or set low_memory=False.\n",
      "  df = pd.read_csv(csv_file)\n"
     ]
    }
   ],
   "source": [
    "import pandas as pd\n",
    "import numpy as np\n",
    "\n",
    "# File path for the CSV file\n",
    "csv_file = r\"C:\\Users\\Anthony Zambrano\\Taxis_Fare_Project\\y_trip_data-2022csv\\yellow_tripdata_2022-07.csv\"\n",
    "\n",
    "# Load the CSV file\n",
    "df = pd.read_csv(csv_file)"
   ]
  },
  {
   "cell_type": "code",
   "execution_count": 69,
   "metadata": {},
   "outputs": [],
   "source": [
    "# Drop rows with missing values in key columns\n",
    "df.dropna(subset=['fare_amount', 'tpep_pickup_datetime', 'tpep_dropoff_datetime'], inplace=True)\n"
   ]
  },
  {
   "cell_type": "code",
   "execution_count": 70,
   "metadata": {},
   "outputs": [],
   "source": [
    "# Convert datetime columns to proper format\n",
    "df['tpep_pickup_datetime'] = pd.to_datetime(df['tpep_pickup_datetime'])\n",
    "df['tpep_dropoff_datetime'] = pd.to_datetime(df['tpep_dropoff_datetime'])"
   ]
  },
  {
   "cell_type": "code",
   "execution_count": 71,
   "metadata": {},
   "outputs": [],
   "source": [
    "# Remove trips with distance greater than 100 miles\n",
    "df = df[df['trip_distance'] <= 100]"
   ]
  },
  {
   "cell_type": "code",
   "execution_count": 72,
   "metadata": {},
   "outputs": [],
   "source": [
    "# Ensure positive values for fare_amount and trip_distance\n",
    "df = df[(df['fare_amount'] > 0) & (df['trip_distance'] > 0)]"
   ]
  },
  {
   "cell_type": "code",
   "execution_count": 74,
   "metadata": {},
   "outputs": [],
   "source": [
    "# Feature Engineering: Extract hour and day of the week\n",
    "df['pickup_hour'] = df['tpep_pickup_datetime'].dt.hour\n",
    "df['pickup_day_of_week'] = df['tpep_pickup_datetime'].dt.dayofweek  # Fixed typo\n"
   ]
  },
  {
   "cell_type": "code",
   "execution_count": 75,
   "metadata": {},
   "outputs": [],
   "source": [
    "# Compute trip duration in minutes\n",
    "df['trip_duration'] = (df['tpep_dropoff_datetime'] - df['tpep_pickup_datetime']).dt.total_seconds() / 60\n"
   ]
  },
  {
   "cell_type": "code",
   "execution_count": 76,
   "metadata": {},
   "outputs": [
    {
     "name": "stderr",
     "output_type": "stream",
     "text": [
      "C:\\Users\\Anthony Zambrano\\AppData\\Local\\Temp\\ipykernel_14504\\166691257.py:2: FutureWarning: A value is trying to be set on a copy of a DataFrame or Series through chained assignment using an inplace method.\n",
      "The behavior will change in pandas 3.0. This inplace method will never work because the intermediate object on which we are setting values always behaves as a copy.\n",
      "\n",
      "For example, when doing 'df[col].method(value, inplace=True)', try using 'df.method({col: value}, inplace=True)' or df[col] = df[col].method(value) instead, to perform the operation inplace on the original object.\n",
      "\n",
      "\n",
      "  df['passenger_count'].fillna(df['passenger_count'].mean(), inplace=True)\n"
     ]
    }
   ],
   "source": [
    "# Fill missing values in passenger_count with the mean\n",
    "df['passenger_count'].fillna(df['passenger_count'].mean(), inplace=True)"
   ]
  },
  {
   "cell_type": "code",
   "execution_count": 77,
   "metadata": {},
   "outputs": [
    {
     "name": "stderr",
     "output_type": "stream",
     "text": [
      "C:\\Users\\Anthony Zambrano\\AppData\\Local\\Temp\\ipykernel_14504\\669190260.py:2: FutureWarning: A value is trying to be set on a copy of a DataFrame or Series through chained assignment using an inplace method.\n",
      "The behavior will change in pandas 3.0. This inplace method will never work because the intermediate object on which we are setting values always behaves as a copy.\n",
      "\n",
      "For example, when doing 'df[col].method(value, inplace=True)', try using 'df.method({col: value}, inplace=True)' or df[col] = df[col].method(value) instead, to perform the operation inplace on the original object.\n",
      "\n",
      "\n",
      "  df['store_and_fwd_flag'].fillna('N', inplace=True)\n",
      "C:\\Users\\Anthony Zambrano\\AppData\\Local\\Temp\\ipykernel_14504\\669190260.py:3: FutureWarning: A value is trying to be set on a copy of a DataFrame or Series through chained assignment using an inplace method.\n",
      "The behavior will change in pandas 3.0. This inplace method will never work because the intermediate object on which we are setting values always behaves as a copy.\n",
      "\n",
      "For example, when doing 'df[col].method(value, inplace=True)', try using 'df.method({col: value}, inplace=True)' or df[col] = df[col].method(value) instead, to perform the operation inplace on the original object.\n",
      "\n",
      "\n",
      "  df['congestion_surcharge'].fillna(0, inplace=True)\n"
     ]
    }
   ],
   "source": [
    "# Replace empty values in categorical columns\n",
    "df['store_and_fwd_flag'].fillna('N', inplace=True)\n",
    "df['congestion_surcharge'].fillna(0, inplace=True)\n"
   ]
  },
  {
   "cell_type": "code",
   "execution_count": 78,
   "metadata": {},
   "outputs": [],
   "source": [
    "# Remove duplicate records\n",
    "df.drop_duplicates(inplace=True)"
   ]
  },
  {
   "cell_type": "code",
   "execution_count": 79,
   "metadata": {},
   "outputs": [],
   "source": [
    "# One-Hot Encoding for categorical columns\n",
    "df = pd.get_dummies(df, columns=['payment_type', 'store_and_fwd_flag', 'RatecodeID'])"
   ]
  },
  {
   "cell_type": "code",
   "execution_count": 80,
   "metadata": {},
   "outputs": [],
   "source": [
    "# Optimize data types to reduce memory usage\n",
    "df['passenger_count'] = df['passenger_count'].astype('int8')\n",
    "df['pickup_hour'] = df['pickup_hour'].astype('int8')\n",
    "df['pickup_day_of_week'] = df['pickup_day_of_week'].astype('int8')\n",
    "df['trip_duration'] = df['trip_duration'].astype('float32')"
   ]
  },
  {
   "cell_type": "code",
   "execution_count": 81,
   "metadata": {},
   "outputs": [],
   "source": [
    "# Output CSV file path\n",
    "cleaned_csv_file = r\"C:\\Users\\Anthony Zambrano\\Taxis_Fare_Project\\y_trip_data-2022csv\\cleaned_yellow_tripdata_2022-07.csv\"\n",
    "\n",
    "# Save the cleaned data to a new CSV file\n",
    "df.to_csv(cleaned_csv_file, index=False)"
   ]
  },
  {
   "cell_type": "code",
   "execution_count": 82,
   "metadata": {},
   "outputs": [
    {
     "name": "stdout",
     "output_type": "stream",
     "text": [
      "Cleaned data saved at: C:\\Users\\Anthony Zambrano\\Taxis_Fare_Project\\y_trip_data-2022csv\\cleaned_yellow_tripdata_2022-07.csv\n",
      "Sample of cleaned data:\n",
      "   VendorID tpep_pickup_datetime tpep_dropoff_datetime  passenger_count  \\\n",
      "0         1  2022-07-01 00:20:06   2022-07-01 00:39:13                1   \n",
      "1         2  2022-07-01 00:29:11   2022-07-01 00:38:00                1   \n",
      "2         1  2022-07-01 00:03:56   2022-07-01 00:11:49                1   \n",
      "3         1  2022-07-01 00:18:36   2022-07-01 00:52:44                1   \n",
      "4         1  2022-07-01 00:15:50   2022-07-01 00:22:21                1   \n",
      "\n",
      "   trip_distance  PULocationID  DOLocationID  fare_amount  extra  mta_tax  \\\n",
      "0          10.10            70            33         28.5    0.5      0.5   \n",
      "1           1.67           162            48          8.0    0.5      0.5   \n",
      "2           0.90            48           142          6.0    3.0      0.5   \n",
      "3          14.80            70           265         44.0    0.5      0.5   \n",
      "4           1.20           161           234          6.5    3.0      0.5   \n",
      "\n",
      "   ...  payment_type_4  store_and_fwd_flag_N  store_and_fwd_flag_Y  \\\n",
      "0  ...           False                  True                 False   \n",
      "1  ...           False                  True                 False   \n",
      "2  ...           False                  True                 False   \n",
      "3  ...           False                  True                 False   \n",
      "4  ...           False                  True                 False   \n",
      "\n",
      "   RatecodeID_1.0  RatecodeID_2.0  RatecodeID_3.0  RatecodeID_4.0  \\\n",
      "0            True           False           False           False   \n",
      "1            True           False           False           False   \n",
      "2            True           False           False           False   \n",
      "3            True           False           False           False   \n",
      "4            True           False           False           False   \n",
      "\n",
      "   RatecodeID_5.0  RatecodeID_6.0  RatecodeID_99.0  \n",
      "0           False           False            False  \n",
      "1           False           False            False  \n",
      "2           False           False            False  \n",
      "3           False           False            False  \n",
      "4           False           False            False  \n",
      "\n",
      "[5 rows x 33 columns]\n",
      "\n",
      "Summary of dataset:\n",
      "<class 'pandas.core.frame.DataFrame'>\n",
      "Index: 3109406 entries, 0 to 3174393\n",
      "Data columns (total 33 columns):\n",
      " #   Column                 Dtype         \n",
      "---  ------                 -----         \n",
      " 0   VendorID               int64         \n",
      " 1   tpep_pickup_datetime   datetime64[ns]\n",
      " 2   tpep_dropoff_datetime  datetime64[ns]\n",
      " 3   passenger_count        int8          \n",
      " 4   trip_distance          float64       \n",
      " 5   PULocationID           int64         \n",
      " 6   DOLocationID           int64         \n",
      " 7   fare_amount            float64       \n",
      " 8   extra                  float64       \n",
      " 9   mta_tax                float64       \n",
      " 10  tip_amount             float64       \n",
      " 11  tolls_amount           float64       \n",
      " 12  improvement_surcharge  float64       \n",
      " 13  total_amount           float64       \n",
      " 14  congestion_surcharge   float64       \n",
      " 15  airport_fee            float64       \n",
      " 16  pickup_hour            int8          \n",
      " 17  pickup_day_of_week     int8          \n",
      " 18  trip_duration          float32       \n",
      " 19  payment_type_0         bool          \n",
      " 20  payment_type_1         bool          \n",
      " 21  payment_type_2         bool          \n",
      " 22  payment_type_3         bool          \n",
      " 23  payment_type_4         bool          \n",
      " 24  store_and_fwd_flag_N   bool          \n",
      " 25  store_and_fwd_flag_Y   bool          \n",
      " 26  RatecodeID_1.0         bool          \n",
      " 27  RatecodeID_2.0         bool          \n",
      " 28  RatecodeID_3.0         bool          \n",
      " 29  RatecodeID_4.0         bool          \n",
      " 30  RatecodeID_5.0         bool          \n",
      " 31  RatecodeID_6.0         bool          \n",
      " 32  RatecodeID_99.0        bool          \n",
      "dtypes: bool(14), datetime64[ns](2), float32(1), float64(10), int64(3), int8(3)\n",
      "memory usage: 441.8 MB\n",
      "None\n"
     ]
    }
   ],
   "source": [
    "# Display sample data to verify\n",
    "print(f\"Cleaned data saved at: {cleaned_csv_file}\")\n",
    "print(\"Sample of cleaned data:\")\n",
    "print(df.head())\n",
    "print(\"\\nSummary of dataset:\")\n",
    "print(df.info())"
   ]
  },
  {
   "cell_type": "code",
   "execution_count": 83,
   "metadata": {},
   "outputs": [
    {
     "name": "stdout",
     "output_type": "stream",
     "text": [
      "Summary Statistics for trip_distance, fare_amount, and trip_duration:\n",
      "       trip_distance   fare_amount  trip_duration\n",
      "count   3.109406e+06  3.109406e+06   3.109406e+06\n",
      "mean    3.669742e+00  1.471909e+01   1.695162e+01\n",
      "std     4.590747e+00  1.351024e+01   4.911858e+01\n",
      "min     1.000000e-02  1.000000e-02  -9.833333e-01\n",
      "25%     1.180000e+00  7.000000e+00   7.450000e+00\n",
      "50%     1.990000e+00  1.000000e+01   1.206667e+01\n",
      "75%     3.750000e+00  1.600000e+01   1.925000e+01\n",
      "max     9.959000e+01  7.000000e+02   5.634050e+03\n"
     ]
    }
   ],
   "source": [
    "# Summary statistics for key numerical columns\n",
    "print(\"Summary Statistics for trip_distance, fare_amount, and trip_duration:\")\n",
    "print(df[['trip_distance', 'fare_amount', 'trip_duration']].describe())\n"
   ]
  },
  {
   "cell_type": "code",
   "execution_count": 84,
   "metadata": {},
   "outputs": [
    {
     "name": "stdout",
     "output_type": "stream",
     "text": [
      "Cleaned data summary:\n",
      "       trip_distance   fare_amount  trip_duration\n",
      "count   3.099916e+06  3.099916e+06   3.099916e+06\n",
      "mean    3.677917e+00  1.468634e+01   1.698345e+01\n",
      "std     4.591814e+00  1.341940e+01   4.879229e+01\n",
      "min     1.000000e-01  1.000000e+00   0.000000e+00\n",
      "25%     1.190000e+00  7.000000e+00   7.500000e+00\n",
      "50%     1.990000e+00  1.000000e+01   1.210000e+01\n",
      "75%     3.760000e+00  1.600000e+01   1.928333e+01\n",
      "max     9.959000e+01  7.000000e+02   1.439967e+03\n"
     ]
    }
   ],
   "source": [
    "# Remove extremely small trip distances (less than 0.1 miles)\n",
    "df = df[df['trip_distance'] >= 0.1]\n",
    "\n",
    "# Remove extremely low fare amounts (less than 1 dollar)\n",
    "df = df[df['fare_amount'] >= 1]\n",
    "\n",
    "# Remove negative or extremely high trip durations (greater than 24 hours)\n",
    "df = df[df['trip_duration'] >= 0]  # Remove negative durations\n",
    "df = df[df['trip_duration'] <= 1440]  # Remove durations greater than 24 hours (1440 minutes)\n",
    "\n",
    "# Verify the result after filtering\n",
    "print(\"Cleaned data summary:\")\n",
    "print(df[['trip_distance', 'fare_amount', 'trip_duration']].describe())\n"
   ]
  },
  {
   "cell_type": "code",
   "execution_count": 85,
   "metadata": {},
   "outputs": [
    {
     "name": "stdout",
     "output_type": "stream",
     "text": [
      "Cleaned data saved at: C:\\Users\\Anthony Zambrano\\Taxis_Fare_Project\\c_y_trip_data-2022csv\\cleaned_yellow_tripdata_2022-07.csv\n"
     ]
    }
   ],
   "source": [
    "\n",
    "# Save the cleaned dataframe to the new CSV file\n",
    "cleaned_csv_file = r'C:\\Users\\Anthony Zambrano\\Taxis_Fare_Project\\c_y_trip_data-2022csv\\cleaned_yellow_tripdata_2022-07.csv'\n",
    "df.to_csv(cleaned_csv_file, index=False)\n",
    "\n",
    "print(f\"Cleaned data saved at: {cleaned_csv_file}\")\n"
   ]
  },
  {
   "cell_type": "code",
   "execution_count": 86,
   "metadata": {},
   "outputs": [
    {
     "name": "stdout",
     "output_type": "stream",
     "text": [
      "Sample of cleaned data after saving:\n",
      "   VendorID tpep_pickup_datetime tpep_dropoff_datetime  passenger_count  \\\n",
      "0         1  2022-07-01 00:20:06   2022-07-01 00:39:13                1   \n",
      "1         2  2022-07-01 00:29:11   2022-07-01 00:38:00                1   \n",
      "2         1  2022-07-01 00:03:56   2022-07-01 00:11:49                1   \n",
      "3         1  2022-07-01 00:18:36   2022-07-01 00:52:44                1   \n",
      "4         1  2022-07-01 00:15:50   2022-07-01 00:22:21                1   \n",
      "\n",
      "   trip_distance  PULocationID  DOLocationID  fare_amount  extra  mta_tax  \\\n",
      "0          10.10            70            33         28.5    0.5      0.5   \n",
      "1           1.67           162            48          8.0    0.5      0.5   \n",
      "2           0.90            48           142          6.0    3.0      0.5   \n",
      "3          14.80            70           265         44.0    0.5      0.5   \n",
      "4           1.20           161           234          6.5    3.0      0.5   \n",
      "\n",
      "   ...  payment_type_4  store_and_fwd_flag_N  store_and_fwd_flag_Y  \\\n",
      "0  ...           False                  True                 False   \n",
      "1  ...           False                  True                 False   \n",
      "2  ...           False                  True                 False   \n",
      "3  ...           False                  True                 False   \n",
      "4  ...           False                  True                 False   \n",
      "\n",
      "   RatecodeID_1.0  RatecodeID_2.0  RatecodeID_3.0  RatecodeID_4.0  \\\n",
      "0            True           False           False           False   \n",
      "1            True           False           False           False   \n",
      "2            True           False           False           False   \n",
      "3            True           False           False           False   \n",
      "4            True           False           False           False   \n",
      "\n",
      "   RatecodeID_5.0  RatecodeID_6.0  RatecodeID_99.0  \n",
      "0           False           False            False  \n",
      "1           False           False            False  \n",
      "2           False           False            False  \n",
      "3           False           False            False  \n",
      "4           False           False            False  \n",
      "\n",
      "[5 rows x 33 columns]\n",
      "\n",
      "Summary of cleaned data:\n",
      "       trip_distance   fare_amount  trip_duration\n",
      "count   3.099916e+06  3.099916e+06   3.099916e+06\n",
      "mean    3.677917e+00  1.468634e+01   1.698344e+01\n",
      "std     4.591814e+00  1.341940e+01   4.879229e+01\n",
      "min     1.000000e-01  1.000000e+00   0.000000e+00\n",
      "25%     1.190000e+00  7.000000e+00   7.500000e+00\n",
      "50%     1.990000e+00  1.000000e+01   1.210000e+01\n",
      "75%     3.760000e+00  1.600000e+01   1.928333e+01\n",
      "max     9.959000e+01  7.000000e+02   1.439967e+03\n"
     ]
    }
   ],
   "source": [
    "# Load the cleaned data from the saved CSV\n",
    "df_cleaned = pd.read_csv(cleaned_csv_file)\n",
    "\n",
    "# Display the first few rows of the cleaned data\n",
    "print(\"Sample of cleaned data after saving:\")\n",
    "print(df_cleaned.head())\n",
    "\n",
    "# Show summary statistics for the relevant columns\n",
    "print(\"\\nSummary of cleaned data:\")\n",
    "print(df_cleaned[['trip_distance', 'fare_amount', 'trip_duration']].describe())\n"
   ]
  },
  {
   "cell_type": "markdown",
   "metadata": {},
   "source": [
    "Summary of Data Cleaning Steps\n",
    "In English:\n",
    "Removal of Missing Values:\n",
    "\n",
    "Rows with missing values in critical columns like fare_amount, tpep_pickup_datetime, and tpep_dropoff_datetime were removed to ensure data integrity.\n",
    "Conversion of Date and Time Columns:\n",
    "\n",
    "The columns tpep_pickup_datetime and tpep_dropoff_datetime were converted to appropriate date-time formats for consistency.\n",
    "Outlier and Invalid Value Filtering:\n",
    "\n",
    "Trips with a distance greater than 100 miles were removed as they were considered unrealistic.\n",
    "Ensured that fare_amount and trip_distance had positive values to maintain valid data.\n",
    "Feature Engineering:\n",
    "\n",
    "Extracted pickup_hour and pickup_day_of_week from tpep_pickup_datetime for additional insights.\n",
    "Calculated trip_duration in minutes by subtracting pickup time from drop-off time.\n",
    "Handling Missing Values in Additional Columns:\n",
    "\n",
    "Filled missing values in passenger_count with the mean value to prevent data gaps.\n",
    "Replaced empty values in categorical columns like store_and_fwd_flag and congestion_surcharge with default values.\n",
    "Removal of Duplicates:\n",
    "\n",
    "Removed duplicate rows to avoid redundancy and ensure data quality.\n",
    "\n",
    "One-Hot Encoding:\n",
    "Applied one-hot encoding to categorical columns (payment_type, store_and_fwd_flag, RatecodeID) to prepare them for machine learning models.\n",
    "\n",
    "Optimization of Data Types:\n",
    "Optimized the data types to reduce memory usage and improve processing efficiency.\n",
    "\n",
    "Final Verification and Export:\n",
    "Verified the consistency of the cleaned data and saved the final dataset as cleaned_yellow_tripdata_2022-07.csv.\n",
    "\n",
    "En Español:\n",
    "\n",
    "Eliminación de Valores Faltantes:\n",
    "Se eliminaron las filas con valores faltantes en columnas clave como fare_amount, tpep_pickup_datetime y tpep_dropoff_datetime para asegurar la integridad de los datos.\n",
    "\n",
    "Conversión de Columnas de Fecha y Hora:\n",
    "Las columnas tpep_pickup_datetime y tpep_dropoff_datetime fueron convertidas a formatos de fecha y hora apropiados para garantizar consistencia.\n",
    "\n",
    "Filtrado de Valores Atípicos e Inválidos:\n",
    "Se eliminaron los viajes con distancias superiores a 100 millas, ya que se consideraron poco realistas.\n",
    "Se aseguró que fare_amount y trip_distance tuvieran valores positivos para mantener la validez de los datos.\n",
    "\n",
    "Ingeniería de Características:\n",
    "Se extrajeron pickup_hour y pickup_day_of_week de tpep_pickup_datetime para obtener información adicional.\n",
    "Se calculó trip_duration en minutos restando la hora de recogida de la hora de bajada.\n",
    "\n",
    "Manejo de Valores Faltantes en Columnas Adicionales:\n",
    "Se rellenaron los valores faltantes en passenger_count con el valor promedio para evitar huecos en los datos.\n",
    "Se reemplazaron los valores vacíos en columnas categóricas como store_and_fwd_flag y congestion_surcharge con valores predeterminados.\n",
    "\n",
    "Eliminación de Duplicados:\n",
    "Se eliminaron filas duplicadas para evitar redundancias y asegurar la calidad de los datos.\n",
    "\n",
    "Codificación One-Hot:\n",
    "Se aplicó codificación one-hot a las columnas categóricas (payment_type, store_and_fwd_flag, RatecodeID) para prepararlas para modelos de machine learning.\n",
    "\n",
    "Optimización de Tipos de Datos:\n",
    "Se optimizaron los tipos de datos para reducir el uso de memoria y mejorar la eficiencia del procesamiento.\n",
    "\n",
    "Verificación Final y Exportación:\n",
    "Se verificó la consistencia de los datos limpios y se guardó el conjunto de datos final como cleaned_yellow_tripdata_2022-07.csv."
   ]
  },
  {
   "cell_type": "markdown",
   "metadata": {},
   "source": [
    "August"
   ]
  },
  {
   "cell_type": "code",
   "execution_count": null,
   "metadata": {},
   "outputs": [],
   "source": [
    "import pandas as pd\n",
    "\n",
    "# Load the parquet file\n",
    "file_path_parquet = r'C:\\Users\\Anthony Zambrano\\Taxis_Fare_Project\\y_trip_data-2022csv\\yellow_tripdata_2022-08.parquet'\n",
    "df = pd.read_parquet(file_path_parquet)"
   ]
  },
  {
   "cell_type": "code",
   "execution_count": 88,
   "metadata": {},
   "outputs": [
    {
     "name": "stdout",
     "output_type": "stream",
     "text": [
      "Initial data preview:\n",
      "   VendorID tpep_pickup_datetime tpep_dropoff_datetime  passenger_count  \\\n",
      "0         1  2022-08-01 00:17:39   2022-08-01 00:19:58              1.0   \n",
      "1         1  2022-08-01 00:26:06   2022-08-01 00:31:55              1.0   \n",
      "2         1  2022-08-01 00:45:49   2022-08-01 00:59:29              1.0   \n",
      "3         1  2022-08-01 00:05:49   2022-08-01 00:25:42              1.0   \n",
      "4         1  2022-08-01 00:36:29   2022-08-01 00:51:29              1.0   \n",
      "\n",
      "   trip_distance  RatecodeID store_and_fwd_flag  PULocationID  DOLocationID  \\\n",
      "0            0.4         1.0                  N           114           148   \n",
      "1            1.4         1.0                  N            79           137   \n",
      "2            5.2         1.0                  N            79            74   \n",
      "3            9.4         1.0                  N           138           113   \n",
      "4            1.7         1.0                  N           137            68   \n",
      "\n",
      "   payment_type  fare_amount  extra  mta_tax  tip_amount  tolls_amount  \\\n",
      "0             1          3.5    3.0      0.5        1.80          0.00   \n",
      "1             1          6.5    3.0      0.5        2.05          0.00   \n",
      "2             1         16.0    3.0      0.5        3.95          0.00   \n",
      "3             1         28.0    3.0      0.5        7.65          6.55   \n",
      "4             1         11.0    3.0      0.5        1.00          0.00   \n",
      "\n",
      "   improvement_surcharge  total_amount  congestion_surcharge  airport_fee  \n",
      "0                    0.3          9.10                   2.5          0.0  \n",
      "1                    0.3         12.35                   2.5          0.0  \n",
      "2                    0.3         23.75                   2.5          0.0  \n",
      "3                    0.3         46.00                   2.5          0.0  \n",
      "4                    0.3         15.80                   2.5          0.0  \n"
     ]
    }
   ],
   "source": [
    "# Display the first few rows to understand the structure of the data\n",
    "print(\"Initial data preview:\")\n",
    "print(df.head())"
   ]
  },
  {
   "cell_type": "code",
   "execution_count": 89,
   "metadata": {},
   "outputs": [],
   "source": [
    "# 1. Handling missing values\n",
    "# Eliminate rows with missing values in key columns\n",
    "df.dropna(subset=['fare_amount', 'tpep_pickup_datetime', 'tpep_dropoff_datetime'], inplace=True)"
   ]
  },
  {
   "cell_type": "code",
   "execution_count": 90,
   "metadata": {},
   "outputs": [],
   "source": [
    "# 2. Convert date-time columns to datetime format\n",
    "df['tpep_pickup_datetime'] = pd.to_datetime(df['tpep_pickup_datetime'], errors='coerce')\n",
    "df['tpep_dropoff_datetime'] = pd.to_datetime(df['tpep_dropoff_datetime'], errors='coerce')"
   ]
  },
  {
   "cell_type": "code",
   "execution_count": 91,
   "metadata": {},
   "outputs": [],
   "source": [
    "# 3. Filter out outliers and invalid values\n",
    "# Remove trips with unrealistic distances (> 100 miles) or fare amounts <= 0\n",
    "df = df[(df['trip_distance'] <= 100) & (df['trip_distance'] > 0) & (df['fare_amount'] > 0)]\n"
   ]
  },
  {
   "cell_type": "code",
   "execution_count": 92,
   "metadata": {},
   "outputs": [],
   "source": [
    "# 4. Feature engineering\n",
    "# Calculate trip_duration in minutes\n",
    "df['trip_duration'] = (df['tpep_dropoff_datetime'] - df['tpep_pickup_datetime']).dt.total_seconds() / 60\n",
    "# Remove rows with negative or zero trip duration\n",
    "df = df[df['trip_duration'] > 0]"
   ]
  },
  {
   "cell_type": "code",
   "execution_count": 93,
   "metadata": {},
   "outputs": [],
   "source": [
    "# Extract pickup hour and day of the week\n",
    "df['pickup_hour'] = df['tpep_pickup_datetime'].dt.hour\n",
    "df['pickup_day_of_week'] = df['tpep_pickup_datetime'].dt.dayofweek"
   ]
  },
  {
   "cell_type": "code",
   "execution_count": 94,
   "metadata": {},
   "outputs": [
    {
     "name": "stderr",
     "output_type": "stream",
     "text": [
      "C:\\Users\\Anthony Zambrano\\AppData\\Local\\Temp\\ipykernel_14504\\3248672294.py:3: FutureWarning: A value is trying to be set on a copy of a DataFrame or Series through chained assignment using an inplace method.\n",
      "The behavior will change in pandas 3.0. This inplace method will never work because the intermediate object on which we are setting values always behaves as a copy.\n",
      "\n",
      "For example, when doing 'df[col].method(value, inplace=True)', try using 'df.method({col: value}, inplace=True)' or df[col] = df[col].method(value) instead, to perform the operation inplace on the original object.\n",
      "\n",
      "\n",
      "  df['passenger_count'].fillna(df['passenger_count'].mean(), inplace=True)\n",
      "C:\\Users\\Anthony Zambrano\\AppData\\Local\\Temp\\ipykernel_14504\\3248672294.py:5: FutureWarning: A value is trying to be set on a copy of a DataFrame or Series through chained assignment using an inplace method.\n",
      "The behavior will change in pandas 3.0. This inplace method will never work because the intermediate object on which we are setting values always behaves as a copy.\n",
      "\n",
      "For example, when doing 'df[col].method(value, inplace=True)', try using 'df.method({col: value}, inplace=True)' or df[col] = df[col].method(value) instead, to perform the operation inplace on the original object.\n",
      "\n",
      "\n",
      "  df['store_and_fwd_flag'].fillna('N', inplace=True)\n"
     ]
    }
   ],
   "source": [
    "# 5. Handle missing values in other columns\n",
    "# Fill missing values in passenger_count with the mean\n",
    "df['passenger_count'].fillna(df['passenger_count'].mean(), inplace=True)\n",
    "# Replace missing values in categorical columns with default values\n",
    "df['store_and_fwd_flag'].fillna('N', inplace=True)"
   ]
  },
  {
   "cell_type": "code",
   "execution_count": 95,
   "metadata": {},
   "outputs": [],
   "source": [
    "# 6. Remove duplicates\n",
    "df.drop_duplicates(inplace=True)\n"
   ]
  },
  {
   "cell_type": "code",
   "execution_count": 96,
   "metadata": {},
   "outputs": [],
   "source": [
    "# 7. One-Hot Encoding for categorical columns\n",
    "df = pd.get_dummies(df, columns=['payment_type', 'store_and_fwd_flag', 'RatecodeID'], drop_first=True)"
   ]
  },
  {
   "cell_type": "code",
   "execution_count": 97,
   "metadata": {},
   "outputs": [],
   "source": [
    "# 8. Optimize data types to reduce memory usage\n",
    "df['fare_amount'] = df['fare_amount'].astype('float32')\n",
    "df['trip_distance'] = df['trip_distance'].astype('float32')\n",
    "df['trip_duration'] = df['trip_duration'].astype('float32')\n",
    "df['passenger_count'] = df['passenger_count'].astype('float32')"
   ]
  },
  {
   "cell_type": "code",
   "execution_count": 98,
   "metadata": {},
   "outputs": [],
   "source": [
    "# 9. Save the cleaned data to a new CSV file\n",
    "cleaned_csv_file = r'C:\\Users\\Anthony Zambrano\\Taxis_Fare_Project\\c_y_trip_data-2022csv\\cleaned_yellow_tripdata_2022-08.csv'\n",
    "df.to_csv(cleaned_csv_file, index=False)"
   ]
  },
  {
   "cell_type": "code",
   "execution_count": 99,
   "metadata": {},
   "outputs": [
    {
     "name": "stdout",
     "output_type": "stream",
     "text": [
      "\n",
      "Cleaned data saved at: C:\\Users\\Anthony Zambrano\\Taxis_Fare_Project\\c_y_trip_data-2022csv\\cleaned_yellow_tripdata_2022-08.csv\n",
      "Sample of cleaned data:\n",
      "   VendorID tpep_pickup_datetime tpep_dropoff_datetime  passenger_count  \\\n",
      "0         1  2022-08-01 00:17:39   2022-08-01 00:19:58              1.0   \n",
      "1         1  2022-08-01 00:26:06   2022-08-01 00:31:55              1.0   \n",
      "2         1  2022-08-01 00:45:49   2022-08-01 00:59:29              1.0   \n",
      "3         1  2022-08-01 00:05:49   2022-08-01 00:25:42              1.0   \n",
      "4         1  2022-08-01 00:36:29   2022-08-01 00:51:29              1.0   \n",
      "\n",
      "   trip_distance  PULocationID  DOLocationID  fare_amount  extra  mta_tax  \\\n",
      "0            0.4           114           148          3.5    3.0      0.5   \n",
      "1            1.4            79           137          6.5    3.0      0.5   \n",
      "2            5.2            79            74         16.0    3.0      0.5   \n",
      "3            9.4           138           113         28.0    3.0      0.5   \n",
      "4            1.7           137            68         11.0    3.0      0.5   \n",
      "\n",
      "   ...  payment_type_2  payment_type_3  payment_type_4  store_and_fwd_flag_Y  \\\n",
      "0  ...           False           False           False                 False   \n",
      "1  ...           False           False           False                 False   \n",
      "2  ...           False           False           False                 False   \n",
      "3  ...           False           False           False                 False   \n",
      "4  ...           False           False           False                 False   \n",
      "\n",
      "   RatecodeID_2.0  RatecodeID_3.0  RatecodeID_4.0  RatecodeID_5.0  \\\n",
      "0           False           False           False           False   \n",
      "1           False           False           False           False   \n",
      "2           False           False           False           False   \n",
      "3           False           False           False           False   \n",
      "4           False           False           False           False   \n",
      "\n",
      "   RatecodeID_6.0  RatecodeID_99.0  \n",
      "0           False            False  \n",
      "1           False            False  \n",
      "2           False            False  \n",
      "3           False            False  \n",
      "4           False            False  \n",
      "\n",
      "[5 rows x 30 columns]\n"
     ]
    }
   ],
   "source": [
    "# Display a sample of cleaned data\n",
    "print(f\"\\nCleaned data saved at: {cleaned_csv_file}\")\n",
    "print(\"Sample of cleaned data:\")\n",
    "print(df.head())\n"
   ]
  },
  {
   "cell_type": "code",
   "execution_count": 100,
   "metadata": {},
   "outputs": [
    {
     "name": "stdout",
     "output_type": "stream",
     "text": [
      "\n",
      "Summary of cleaned dataset:\n",
      "           VendorID        tpep_pickup_datetime       tpep_dropoff_datetime  \\\n",
      "count  3.082338e+06                     3082338                     3082338   \n",
      "mean   1.724424e+00  2022-08-16 12:02:07.426840  2022-08-16 12:19:15.159295   \n",
      "min    1.000000e+00         2001-01-01 00:27:45         2001-01-01 00:34:17   \n",
      "25%    1.000000e+00  2022-08-08 17:11:46.250000  2022-08-08 17:28:27.250000   \n",
      "50%    2.000000e+00  2022-08-16 15:23:04.500000         2022-08-16 15:41:11   \n",
      "75%    2.000000e+00  2022-08-24 11:35:16.500000  2022-08-24 11:52:03.750000   \n",
      "max    6.000000e+00         2022-09-01 00:04:50         2022-09-02 10:02:33   \n",
      "std    4.676025e-01                         NaN                         NaN   \n",
      "\n",
      "       passenger_count  trip_distance  PULocationID  DOLocationID  \\\n",
      "count     3.082338e+06   3.082338e+06  3.082338e+06  3.082338e+06   \n",
      "mean      1.424491e+00   3.705363e+00  1.634560e+02  1.608698e+02   \n",
      "min       0.000000e+00   1.000000e-02  1.000000e+00  1.000000e+00   \n",
      "25%       1.000000e+00   1.180000e+00  1.320000e+02  1.120000e+02   \n",
      "50%       1.000000e+00   1.980000e+00  1.610000e+02  1.620000e+02   \n",
      "75%       1.424491e+00   3.770000e+00  2.330000e+02  2.330000e+02   \n",
      "max       9.000000e+00   9.920000e+01  2.650000e+02  2.650000e+02   \n",
      "std       9.700436e-01   4.649665e+00  6.467899e+01  7.002186e+01   \n",
      "\n",
      "        fare_amount         extra       mta_tax    tip_amount  tolls_amount  \\\n",
      "count  3.082338e+06  3.082338e+06  3.082338e+06  3.082338e+06  3.082338e+06   \n",
      "mean   1.480321e+01  1.007573e+00  4.964290e-01  2.677753e+00  5.653095e-01   \n",
      "min    1.000000e-02  0.000000e+00  0.000000e+00  0.000000e+00  0.000000e+00   \n",
      "25%    7.000000e+00  0.000000e+00  5.000000e-01  0.000000e+00  0.000000e+00   \n",
      "50%    1.000000e+01  5.000000e-01  5.000000e-01  2.150000e+00  0.000000e+00   \n",
      "75%    1.600000e+01  2.500000e+00  5.000000e-01  3.280000e+00  0.000000e+00   \n",
      "max    1.136500e+03  9.050000e+00  3.300000e+00  3.350000e+02  1.394500e+02   \n",
      "std    1.368777e+01  1.237437e+00  4.245846e-02  3.164991e+00  2.051712e+00   \n",
      "\n",
      "       improvement_surcharge  total_amount  congestion_surcharge  \\\n",
      "count           3.082338e+06  3.082338e+06          2.996695e+06   \n",
      "mean            2.999717e-01  2.162224e+01          2.306002e+00   \n",
      "min             0.000000e+00  3.100000e-01          0.000000e+00   \n",
      "25%             3.000000e-01  1.230000e+01          2.500000e+00   \n",
      "50%             3.000000e-01  1.595000e+01          2.500000e+00   \n",
      "75%             3.000000e-01  2.280000e+01          2.500000e+00   \n",
      "max             3.000000e-01  1.139800e+03          2.750000e+00   \n",
      "std             2.914789e-03  1.717974e+01          6.688502e-01   \n",
      "\n",
      "        airport_fee  trip_duration   pickup_hour  pickup_day_of_week  \n",
      "count  2.996695e+06   3.082338e+06  3.082338e+06        3.082338e+06  \n",
      "mean   1.100660e-01   1.712887e+01  1.419266e+01        2.778483e+00  \n",
      "min    0.000000e+00   1.666667e-02  0.000000e+00        0.000000e+00  \n",
      "25%    0.000000e+00   7.500000e+00  1.000000e+01        1.000000e+00  \n",
      "50%    0.000000e+00   1.213333e+01  1.500000e+01        3.000000e+00  \n",
      "75%    0.000000e+00   1.945000e+01  1.900000e+01        4.000000e+00  \n",
      "max    1.250000e+00   7.198467e+03  2.300000e+01        6.000000e+00  \n",
      "std    3.542145e-01   4.863273e+01  5.758079e+00        1.941885e+00  \n",
      "<class 'pandas.core.frame.DataFrame'>\n",
      "Index: 3082338 entries, 0 to 3152675\n",
      "Data columns (total 30 columns):\n",
      " #   Column                 Dtype         \n",
      "---  ------                 -----         \n",
      " 0   VendorID               int64         \n",
      " 1   tpep_pickup_datetime   datetime64[us]\n",
      " 2   tpep_dropoff_datetime  datetime64[us]\n",
      " 3   passenger_count        float32       \n",
      " 4   trip_distance          float32       \n",
      " 5   PULocationID           int64         \n",
      " 6   DOLocationID           int64         \n",
      " 7   fare_amount            float32       \n",
      " 8   extra                  float64       \n",
      " 9   mta_tax                float64       \n",
      " 10  tip_amount             float64       \n",
      " 11  tolls_amount           float64       \n",
      " 12  improvement_surcharge  float64       \n",
      " 13  total_amount           float64       \n",
      " 14  congestion_surcharge   float64       \n",
      " 15  airport_fee            float64       \n",
      " 16  trip_duration          float32       \n",
      " 17  pickup_hour            int32         \n",
      " 18  pickup_day_of_week     int32         \n",
      " 19  payment_type_1         bool          \n",
      " 20  payment_type_2         bool          \n",
      " 21  payment_type_3         bool          \n",
      " 22  payment_type_4         bool          \n",
      " 23  store_and_fwd_flag_Y   bool          \n",
      " 24  RatecodeID_2.0         bool          \n",
      " 25  RatecodeID_3.0         bool          \n",
      " 26  RatecodeID_4.0         bool          \n",
      " 27  RatecodeID_5.0         bool          \n",
      " 28  RatecodeID_6.0         bool          \n",
      " 29  RatecodeID_99.0        bool          \n",
      "dtypes: bool(11), datetime64[us](2), float32(4), float64(8), int32(2), int64(3)\n",
      "memory usage: 432.1 MB\n",
      "None\n"
     ]
    }
   ],
   "source": [
    "# Summary of the cleaned dataset\n",
    "print(\"\\nSummary of cleaned dataset:\")\n",
    "print(df.describe())\n",
    "print(df.info())"
   ]
  },
  {
   "cell_type": "markdown",
   "metadata": {},
   "source": [
    "📝 Data Cleaning Summary (August 2022) - English\n",
    "Missing Value Removal:\n",
    "\n",
    "Dropped rows with missing values in key columns like fare_amount, tpep_pickup_datetime, and tpep_dropoff_datetime to ensure data integrity.\n",
    "Date-Time Conversion:\n",
    "\n",
    "Converted tpep_pickup_datetime and tpep_dropoff_datetime to datetime format for consistency and easier analysis.\n",
    "Filtering Outliers & Invalid Values:\n",
    "\n",
    "Removed trips with distances over 100 miles, considering them unrealistic.\n",
    "Ensured fare_amount and trip_distance had positive values.\n",
    "Feature Engineering:\n",
    "\n",
    "Extracted pickup_hour and pickup_day_of_week from tpep_pickup_datetime for additional insights.\n",
    "Calculated trip duration (minutes) by subtracting tpep_pickup_datetime from tpep_dropoff_datetime.\n",
    "Handling Missing Values in Additional Columns:\n",
    "\n",
    "Filled missing values in passenger_count with the average value to avoid gaps in the dataset.\n",
    "Replaced missing values in categorical columns (store_and_fwd_flag, congestion_surcharge) with default values.\n",
    "Duplicate Removal:\n",
    "\n",
    "Identified and dropped duplicate rows to eliminate redundancies and ensure data quality.\n",
    "One-Hot Encoding:\n",
    "\n",
    "Applied one-hot encoding to categorical columns (payment_type, store_and_fwd_flag, RatecodeID) for machine learning compatibility.\n",
    "Data Type Optimization:\n",
    "\n",
    "Adjusted data types to reduce memory usage and improve processing efficiency.\n",
    "Final Check & Export:\n",
    "\n",
    "Verified the cleaned dataset's consistency and saved the final dataset as:\n",
    "✅ cleaned_yellow_tripdata_2022-08.csv\n",
    "📝 Resumen de la Limpieza de Datos (Agosto 2022) - Español\n",
    "Eliminación de Valores Faltantes:\n",
    "\n",
    "Se eliminaron filas con valores faltantes en columnas clave como fare_amount, tpep_pickup_datetime y tpep_dropoff_datetime para garantizar la integridad de los datos.\n",
    "Conversión de Fechas y Horas:\n",
    "\n",
    "Se convirtieron tpep_pickup_datetime y tpep_dropoff_datetime a formato de fecha y hora para mantener la coherencia.\n",
    "Filtrado de Valores Atípicos e Inválidos:\n",
    "\n",
    "Se eliminaron viajes con distancias superiores a 100 millas, ya que se consideran poco realistas.\n",
    "Se verificó que fare_amount y trip_distance tuvieran valores positivos.\n",
    "Ingeniería de Características:\n",
    "\n",
    "Se extrajeron pickup_hour y pickup_day_of_week de tpep_pickup_datetime para obtener más información.\n",
    "Se calculó la duración del viaje (en minutos) restando tpep_pickup_datetime de tpep_dropoff_datetime.\n",
    "Manejo de Valores Faltantes en Columnas Adicionales:\n",
    "\n",
    "Se rellenaron los valores faltantes en passenger_count con el valor promedio para evitar datos incompletos.\n",
    "Se reemplazaron los valores vacíos en columnas categóricas (store_and_fwd_flag, congestion_surcharge) con valores predeterminados.\n",
    "Eliminación de Duplicados:\n",
    "\n",
    "Se identificaron y eliminaron filas duplicadas para mejorar la calidad de los datos.\n",
    "Codificación One-Hot:\n",
    "\n",
    "Se aplicó codificación one-hot a columnas categóricas (payment_type, store_and_fwd_flag, RatecodeID) para hacerlas compatibles con modelos de machine learning.\n",
    "Optimización de Tipos de Datos:\n",
    "\n",
    "Se ajustaron los tipos de datos para reducir el uso de memoria y mejorar la eficiencia del procesamiento.\n",
    "Verificación Final y Exportación:\n",
    "\n",
    "Se verificó la consistencia del conjunto de datos limpio y se guardó como:\n",
    "✅ cleaned_yellow_tripdata_2022-08.csv\n"
   ]
  },
  {
   "cell_type": "markdown",
   "metadata": {},
   "source": [
    "September\n"
   ]
  },
  {
   "cell_type": "code",
   "execution_count": 103,
   "metadata": {},
   "outputs": [
    {
     "name": "stderr",
     "output_type": "stream",
     "text": [
      "C:\\Users\\Anthony Zambrano\\AppData\\Local\\Temp\\ipykernel_14504\\2731238885.py:4: DtypeWarning: Columns (6) have mixed types. Specify dtype option on import or set low_memory=False.\n",
      "  df = pd.read_csv(r\"C:\\Users\\Anthony Zambrano\\Taxis_Fare_Project\\y_trip_data-2022csv\\yellow_tripdata_2022-09.csv\")\n"
     ]
    }
   ],
   "source": [
    "import pandas as pd\n",
    "\n",
    "# Load September data\n",
    "df = pd.read_csv(r\"C:\\Users\\Anthony Zambrano\\Taxis_Fare_Project\\y_trip_data-2022csv\\yellow_tripdata_2022-09.csv\")\n"
   ]
  },
  {
   "cell_type": "code",
   "execution_count": 104,
   "metadata": {},
   "outputs": [],
   "source": [
    "# Step 1: Remove missing values in key columns\n",
    "df.dropna(subset=[\"fare_amount\", \"tpep_pickup_datetime\", \"tpep_dropoff_datetime\"], inplace=True)\n"
   ]
  },
  {
   "cell_type": "code",
   "execution_count": 105,
   "metadata": {},
   "outputs": [],
   "source": [
    "# Step 2: Convert datetime columns\n",
    "df[\"tpep_pickup_datetime\"] = pd.to_datetime(df[\"tpep_pickup_datetime\"])\n",
    "df[\"tpep_dropoff_datetime\"] = pd.to_datetime(df[\"tpep_dropoff_datetime\"])"
   ]
  },
  {
   "cell_type": "code",
   "execution_count": 106,
   "metadata": {},
   "outputs": [],
   "source": [
    "# Step 3: Remove outliers and invalid values\n",
    "df = df[(df[\"trip_distance\"] > 0) & (df[\"trip_distance\"] <= 100)]  # Distance constraint\n",
    "df = df[df[\"fare_amount\"] > 0]  # Ensure fares are positive\n"
   ]
  },
  {
   "cell_type": "code",
   "execution_count": 107,
   "metadata": {},
   "outputs": [],
   "source": [
    "# Step 4: Feature engineering\n",
    "df[\"pickup_hour\"] = df[\"tpep_pickup_datetime\"].dt.hour\n",
    "df[\"pickup_day_of_week\"] = df[\"tpep_pickup_datetime\"].dt.dayofweek\n",
    "df[\"trip_duration\"] = (df[\"tpep_dropoff_datetime\"] - df[\"tpep_pickup_datetime\"]).dt.total_seconds() / 60"
   ]
  },
  {
   "cell_type": "code",
   "execution_count": 108,
   "metadata": {},
   "outputs": [
    {
     "name": "stderr",
     "output_type": "stream",
     "text": [
      "C:\\Users\\Anthony Zambrano\\AppData\\Local\\Temp\\ipykernel_14504\\3850688972.py:2: FutureWarning: A value is trying to be set on a copy of a DataFrame or Series through chained assignment using an inplace method.\n",
      "The behavior will change in pandas 3.0. This inplace method will never work because the intermediate object on which we are setting values always behaves as a copy.\n",
      "\n",
      "For example, when doing 'df[col].method(value, inplace=True)', try using 'df.method({col: value}, inplace=True)' or df[col] = df[col].method(value) instead, to perform the operation inplace on the original object.\n",
      "\n",
      "\n",
      "  df[\"passenger_count\"].fillna(df[\"passenger_count\"].median(), inplace=True)\n"
     ]
    }
   ],
   "source": [
    "# Step 5: Handle missing values in other columns\n",
    "df[\"passenger_count\"].fillna(df[\"passenger_count\"].median(), inplace=True)\n",
    "df.fillna({\"store_and_fwd_flag\": \"N\", \"congestion_surcharge\": 0}, inplace=True)"
   ]
  },
  {
   "cell_type": "code",
   "execution_count": 109,
   "metadata": {},
   "outputs": [],
   "source": [
    "# Step 6: Remove duplicate rows\n",
    "df.drop_duplicates(inplace=True)"
   ]
  },
  {
   "cell_type": "code",
   "execution_count": 110,
   "metadata": {},
   "outputs": [],
   "source": [
    "# Step 7: One-Hot Encoding for categorical columns\n",
    "df = pd.get_dummies(df, columns=[\"payment_type\", \"store_and_fwd_flag\", \"RatecodeID\"], dtype=bool)"
   ]
  },
  {
   "cell_type": "code",
   "execution_count": 111,
   "metadata": {},
   "outputs": [],
   "source": [
    "# Step 8: Optimize data types\n",
    "df[\"passenger_count\"] = df[\"passenger_count\"].astype(\"int32\")\n",
    "df[\"trip_distance\"] = df[\"trip_distance\"].astype(\"float32\")\n",
    "df[\"fare_amount\"] = df[\"fare_amount\"].astype(\"float32\")\n",
    "df[\"tip_amount\"] = df[\"tip_amount\"].astype(\"float32\")\n"
   ]
  },
  {
   "cell_type": "code",
   "execution_count": 113,
   "metadata": {},
   "outputs": [
    {
     "name": "stdout",
     "output_type": "stream",
     "text": [
      "✅ Data cleaning for September 2022 completed successfully!\n"
     ]
    }
   ],
   "source": [
    "# Step 9: Save cleaned dataset\n",
    "df.to_csv(r\"C:\\Users\\Anthony Zambrano\\Taxis_Fare_Project\\c_y_trip_data-2022csv\\cleaned_yellow_tripdata_2022-09.csv\", index=False)\n",
    "\n",
    "print(\"✅ Data cleaning for September 2022 completed successfully!\")\n"
   ]
  },
  {
   "cell_type": "code",
   "execution_count": 114,
   "metadata": {},
   "outputs": [
    {
     "name": "stdout",
     "output_type": "stream",
     "text": [
      "📊 Dataset Info:\n",
      "<class 'pandas.core.frame.DataFrame'>\n",
      "RangeIndex: 3112621 entries, 0 to 3112620\n",
      "Data columns (total 33 columns):\n",
      " #   Column                 Dtype  \n",
      "---  ------                 -----  \n",
      " 0   VendorID               int64  \n",
      " 1   tpep_pickup_datetime   object \n",
      " 2   tpep_dropoff_datetime  object \n",
      " 3   passenger_count        int64  \n",
      " 4   trip_distance          float64\n",
      " 5   PULocationID           int64  \n",
      " 6   DOLocationID           int64  \n",
      " 7   fare_amount            float64\n",
      " 8   extra                  float64\n",
      " 9   mta_tax                float64\n",
      " 10  tip_amount             float64\n",
      " 11  tolls_amount           float64\n",
      " 12  improvement_surcharge  float64\n",
      " 13  total_amount           float64\n",
      " 14  congestion_surcharge   float64\n",
      " 15  airport_fee            float64\n",
      " 16  pickup_hour            int64  \n",
      " 17  pickup_day_of_week     int64  \n",
      " 18  trip_duration          float64\n",
      " 19  payment_type_0         bool   \n",
      " 20  payment_type_1         bool   \n",
      " 21  payment_type_2         bool   \n",
      " 22  payment_type_3         bool   \n",
      " 23  payment_type_4         bool   \n",
      " 24  store_and_fwd_flag_N   bool   \n",
      " 25  store_and_fwd_flag_Y   bool   \n",
      " 26  RatecodeID_1.0         bool   \n",
      " 27  RatecodeID_2.0         bool   \n",
      " 28  RatecodeID_3.0         bool   \n",
      " 29  RatecodeID_4.0         bool   \n",
      " 30  RatecodeID_5.0         bool   \n",
      " 31  RatecodeID_6.0         bool   \n",
      " 32  RatecodeID_99.0        bool   \n",
      "dtypes: bool(14), float64(11), int64(6), object(2)\n",
      "memory usage: 492.8+ MB\n",
      "None\n",
      "\n",
      "🔍 First 5 rows:\n",
      "   VendorID tpep_pickup_datetime tpep_dropoff_datetime  passenger_count  \\\n",
      "0         1  2022-09-01 00:28:12   2022-09-01 00:36:22                1   \n",
      "1         1  2022-09-01 00:51:58   2022-09-01 01:14:43                1   \n",
      "2         1  2022-09-01 00:08:29   2022-09-01 00:26:29                1   \n",
      "3         2  2022-09-01 00:02:24   2022-09-01 00:09:39                1   \n",
      "4         2  2022-09-01 00:47:25   2022-09-01 00:56:09                1   \n",
      "\n",
      "   trip_distance  PULocationID  DOLocationID  fare_amount  extra  mta_tax  \\\n",
      "0           2.10           100           239          9.0    3.0      0.5   \n",
      "1           8.70           161           243         27.5    3.0      0.5   \n",
      "2           8.30           138           233         25.0    3.0      0.5   \n",
      "3           1.32           238           166          7.5    0.5      0.5   \n",
      "4           2.94           161           226         10.5    0.5      0.5   \n",
      "\n",
      "   ...  payment_type_4  store_and_fwd_flag_N  store_and_fwd_flag_Y  \\\n",
      "0  ...           False                  True                 False   \n",
      "1  ...           False                  True                 False   \n",
      "2  ...           False                  True                 False   \n",
      "3  ...           False                  True                 False   \n",
      "4  ...           False                  True                 False   \n",
      "\n",
      "   RatecodeID_1.0  RatecodeID_2.0  RatecodeID_3.0  RatecodeID_4.0  \\\n",
      "0            True           False           False           False   \n",
      "1            True           False           False           False   \n",
      "2            True           False           False           False   \n",
      "3            True           False           False           False   \n",
      "4            True           False           False           False   \n",
      "\n",
      "   RatecodeID_5.0  RatecodeID_6.0  RatecodeID_99.0  \n",
      "0           False           False            False  \n",
      "1           False           False            False  \n",
      "2           False           False            False  \n",
      "3           False           False            False  \n",
      "4           False           False            False  \n",
      "\n",
      "[5 rows x 33 columns]\n",
      "\n",
      "📈 Summary Statistics:\n",
      "           VendorID  passenger_count  trip_distance  PULocationID  \\\n",
      "count  3.112621e+06     3.112621e+06   3.112621e+06  3.112621e+06   \n",
      "mean   1.715817e+00     1.374359e+00   3.754221e+00  1.644946e+02   \n",
      "std    4.510289e-01     9.263599e-01   4.686383e+00  6.547179e+01   \n",
      "min    1.000000e+00     0.000000e+00   1.000000e-02  1.000000e+00   \n",
      "25%    1.000000e+00     1.000000e+00   1.180000e+00  1.320000e+02   \n",
      "50%    2.000000e+00     1.000000e+00   1.990000e+00  1.620000e+02   \n",
      "75%    2.000000e+00     1.000000e+00   3.830000e+00  2.340000e+02   \n",
      "max    5.000000e+00     8.000000e+00   9.920000e+01  2.650000e+02   \n",
      "\n",
      "       DOLocationID   fare_amount         extra       mta_tax    tip_amount  \\\n",
      "count  3.112621e+06  3.112621e+06  3.112621e+06  3.112621e+06  3.112621e+06   \n",
      "mean   1.621345e+02  1.562997e+01  1.022575e+00  4.963212e-01  2.898664e+00   \n",
      "std    7.030598e+01  1.072857e+02  1.248888e+00  4.890297e-02  3.337523e+00   \n",
      "min    1.000000e+00  1.000000e-02  0.000000e+00 -5.000000e-01  0.000000e+00   \n",
      "25%    1.130000e+02  7.500000e+00  0.000000e+00  5.000000e-01  1.000000e+00   \n",
      "50%    1.620000e+02  1.100000e+01  5.000000e-01  5.000000e-01  2.260000e+00   \n",
      "75%    2.340000e+02  1.750000e+01  2.500000e+00  5.000000e-01  3.560000e+00   \n",
      "max    2.650000e+02  1.874450e+05  2.550000e+01  3.300000e+00  7.112200e+02   \n",
      "\n",
      "       tolls_amount  improvement_surcharge  total_amount  \\\n",
      "count  3.112621e+06           3.112621e+06  3.112621e+06   \n",
      "mean   6.072639e-01           2.999208e-01  2.272586e+01   \n",
      "std    2.114633e+00           4.874575e-03  1.078364e+02   \n",
      "min    0.000000e+00           0.000000e+00  3.100000e-01   \n",
      "25%    0.000000e+00           3.000000e-01  1.243000e+01   \n",
      "50%    0.000000e+00           3.000000e-01  1.656000e+01   \n",
      "75%    0.000000e+00           3.000000e-01  2.436000e+01   \n",
      "max    1.533700e+02           3.000000e-01  1.874483e+05   \n",
      "\n",
      "       congestion_surcharge   airport_fee   pickup_hour  pickup_day_of_week  \\\n",
      "count          3.112621e+06  3.002096e+06  3.112621e+06        3.112621e+06   \n",
      "mean           2.234746e+00  1.096401e-01  1.416706e+01        2.912019e+00   \n",
      "std            7.699189e-01  3.535947e-01  5.845590e+00        1.820995e+00   \n",
      "min            0.000000e+00  0.000000e+00  0.000000e+00        0.000000e+00   \n",
      "25%            2.500000e+00  0.000000e+00  1.000000e+01        1.000000e+00   \n",
      "50%            2.500000e+00  0.000000e+00  1.500000e+01        3.000000e+00   \n",
      "75%            2.500000e+00  0.000000e+00  1.900000e+01        4.000000e+00   \n",
      "max            2.750000e+00  1.250000e+00  2.300000e+01        6.000000e+00   \n",
      "\n",
      "       trip_duration  \n",
      "count   3.112621e+06  \n",
      "mean    1.886749e+01  \n",
      "std     4.764021e+01  \n",
      "min    -2.215000e+01  \n",
      "25%     8.083333e+00  \n",
      "50%     1.336667e+01  \n",
      "75%     2.188333e+01  \n",
      "max     9.747050e+03  \n"
     ]
    }
   ],
   "source": [
    "import pandas as pd\n",
    "\n",
    "# Load cleaned dataset\n",
    "cleaned_df = pd.read_csv(r\"C:\\Users\\Anthony Zambrano\\Taxis_Fare_Project\\c_y_trip_data-2022csv\\cleaned_yellow_tripdata_2022-09.csv\")\n",
    "\n",
    "# Display basic information\n",
    "print(\"📊 Dataset Info:\")\n",
    "print(cleaned_df.info())\n",
    "\n",
    "# Show the first 5 rows\n",
    "print(\"\\n🔍 First 5 rows:\")\n",
    "print(cleaned_df.head())\n",
    "\n",
    "# Summary statistics\n",
    "print(\"\\n📈 Summary Statistics:\")\n",
    "print(cleaned_df.describe())\n"
   ]
  },
  {
   "cell_type": "code",
   "execution_count": 115,
   "metadata": {},
   "outputs": [
    {
     "data": {
      "text/html": [
       "<div>\n",
       "<style scoped>\n",
       "    .dataframe tbody tr th:only-of-type {\n",
       "        vertical-align: middle;\n",
       "    }\n",
       "\n",
       "    .dataframe tbody tr th {\n",
       "        vertical-align: top;\n",
       "    }\n",
       "\n",
       "    .dataframe thead th {\n",
       "        text-align: right;\n",
       "    }\n",
       "</style>\n",
       "<table border=\"1\" class=\"dataframe\">\n",
       "  <thead>\n",
       "    <tr style=\"text-align: right;\">\n",
       "      <th></th>\n",
       "      <th>VendorID</th>\n",
       "      <th>tpep_pickup_datetime</th>\n",
       "      <th>tpep_dropoff_datetime</th>\n",
       "      <th>passenger_count</th>\n",
       "      <th>trip_distance</th>\n",
       "      <th>PULocationID</th>\n",
       "      <th>DOLocationID</th>\n",
       "      <th>fare_amount</th>\n",
       "      <th>extra</th>\n",
       "      <th>mta_tax</th>\n",
       "      <th>...</th>\n",
       "      <th>payment_type_4</th>\n",
       "      <th>store_and_fwd_flag_N</th>\n",
       "      <th>store_and_fwd_flag_Y</th>\n",
       "      <th>RatecodeID_1.0</th>\n",
       "      <th>RatecodeID_2.0</th>\n",
       "      <th>RatecodeID_3.0</th>\n",
       "      <th>RatecodeID_4.0</th>\n",
       "      <th>RatecodeID_5.0</th>\n",
       "      <th>RatecodeID_6.0</th>\n",
       "      <th>RatecodeID_99.0</th>\n",
       "    </tr>\n",
       "  </thead>\n",
       "  <tbody>\n",
       "    <tr>\n",
       "      <th>0</th>\n",
       "      <td>1</td>\n",
       "      <td>2022-09-01 00:28:12</td>\n",
       "      <td>2022-09-01 00:36:22</td>\n",
       "      <td>1</td>\n",
       "      <td>2.10</td>\n",
       "      <td>100</td>\n",
       "      <td>239</td>\n",
       "      <td>9.0</td>\n",
       "      <td>3.0</td>\n",
       "      <td>0.5</td>\n",
       "      <td>...</td>\n",
       "      <td>False</td>\n",
       "      <td>True</td>\n",
       "      <td>False</td>\n",
       "      <td>True</td>\n",
       "      <td>False</td>\n",
       "      <td>False</td>\n",
       "      <td>False</td>\n",
       "      <td>False</td>\n",
       "      <td>False</td>\n",
       "      <td>False</td>\n",
       "    </tr>\n",
       "    <tr>\n",
       "      <th>1</th>\n",
       "      <td>1</td>\n",
       "      <td>2022-09-01 00:51:58</td>\n",
       "      <td>2022-09-01 01:14:43</td>\n",
       "      <td>1</td>\n",
       "      <td>8.70</td>\n",
       "      <td>161</td>\n",
       "      <td>243</td>\n",
       "      <td>27.5</td>\n",
       "      <td>3.0</td>\n",
       "      <td>0.5</td>\n",
       "      <td>...</td>\n",
       "      <td>False</td>\n",
       "      <td>True</td>\n",
       "      <td>False</td>\n",
       "      <td>True</td>\n",
       "      <td>False</td>\n",
       "      <td>False</td>\n",
       "      <td>False</td>\n",
       "      <td>False</td>\n",
       "      <td>False</td>\n",
       "      <td>False</td>\n",
       "    </tr>\n",
       "    <tr>\n",
       "      <th>2</th>\n",
       "      <td>1</td>\n",
       "      <td>2022-09-01 00:08:29</td>\n",
       "      <td>2022-09-01 00:26:29</td>\n",
       "      <td>1</td>\n",
       "      <td>8.30</td>\n",
       "      <td>138</td>\n",
       "      <td>233</td>\n",
       "      <td>25.0</td>\n",
       "      <td>3.0</td>\n",
       "      <td>0.5</td>\n",
       "      <td>...</td>\n",
       "      <td>False</td>\n",
       "      <td>True</td>\n",
       "      <td>False</td>\n",
       "      <td>True</td>\n",
       "      <td>False</td>\n",
       "      <td>False</td>\n",
       "      <td>False</td>\n",
       "      <td>False</td>\n",
       "      <td>False</td>\n",
       "      <td>False</td>\n",
       "    </tr>\n",
       "    <tr>\n",
       "      <th>3</th>\n",
       "      <td>2</td>\n",
       "      <td>2022-09-01 00:02:24</td>\n",
       "      <td>2022-09-01 00:09:39</td>\n",
       "      <td>1</td>\n",
       "      <td>1.32</td>\n",
       "      <td>238</td>\n",
       "      <td>166</td>\n",
       "      <td>7.5</td>\n",
       "      <td>0.5</td>\n",
       "      <td>0.5</td>\n",
       "      <td>...</td>\n",
       "      <td>False</td>\n",
       "      <td>True</td>\n",
       "      <td>False</td>\n",
       "      <td>True</td>\n",
       "      <td>False</td>\n",
       "      <td>False</td>\n",
       "      <td>False</td>\n",
       "      <td>False</td>\n",
       "      <td>False</td>\n",
       "      <td>False</td>\n",
       "    </tr>\n",
       "    <tr>\n",
       "      <th>4</th>\n",
       "      <td>2</td>\n",
       "      <td>2022-09-01 00:47:25</td>\n",
       "      <td>2022-09-01 00:56:09</td>\n",
       "      <td>1</td>\n",
       "      <td>2.94</td>\n",
       "      <td>161</td>\n",
       "      <td>226</td>\n",
       "      <td>10.5</td>\n",
       "      <td>0.5</td>\n",
       "      <td>0.5</td>\n",
       "      <td>...</td>\n",
       "      <td>False</td>\n",
       "      <td>True</td>\n",
       "      <td>False</td>\n",
       "      <td>True</td>\n",
       "      <td>False</td>\n",
       "      <td>False</td>\n",
       "      <td>False</td>\n",
       "      <td>False</td>\n",
       "      <td>False</td>\n",
       "      <td>False</td>\n",
       "    </tr>\n",
       "  </tbody>\n",
       "</table>\n",
       "<p>5 rows × 33 columns</p>\n",
       "</div>"
      ],
      "text/plain": [
       "   VendorID tpep_pickup_datetime tpep_dropoff_datetime  passenger_count  \\\n",
       "0         1  2022-09-01 00:28:12   2022-09-01 00:36:22                1   \n",
       "1         1  2022-09-01 00:51:58   2022-09-01 01:14:43                1   \n",
       "2         1  2022-09-01 00:08:29   2022-09-01 00:26:29                1   \n",
       "3         2  2022-09-01 00:02:24   2022-09-01 00:09:39                1   \n",
       "4         2  2022-09-01 00:47:25   2022-09-01 00:56:09                1   \n",
       "\n",
       "   trip_distance  PULocationID  DOLocationID  fare_amount  extra  mta_tax  \\\n",
       "0           2.10           100           239          9.0    3.0      0.5   \n",
       "1           8.70           161           243         27.5    3.0      0.5   \n",
       "2           8.30           138           233         25.0    3.0      0.5   \n",
       "3           1.32           238           166          7.5    0.5      0.5   \n",
       "4           2.94           161           226         10.5    0.5      0.5   \n",
       "\n",
       "   ...  payment_type_4  store_and_fwd_flag_N  store_and_fwd_flag_Y  \\\n",
       "0  ...           False                  True                 False   \n",
       "1  ...           False                  True                 False   \n",
       "2  ...           False                  True                 False   \n",
       "3  ...           False                  True                 False   \n",
       "4  ...           False                  True                 False   \n",
       "\n",
       "   RatecodeID_1.0  RatecodeID_2.0  RatecodeID_3.0  RatecodeID_4.0  \\\n",
       "0            True           False           False           False   \n",
       "1            True           False           False           False   \n",
       "2            True           False           False           False   \n",
       "3            True           False           False           False   \n",
       "4            True           False           False           False   \n",
       "\n",
       "   RatecodeID_5.0  RatecodeID_6.0  RatecodeID_99.0  \n",
       "0           False           False            False  \n",
       "1           False           False            False  \n",
       "2           False           False            False  \n",
       "3           False           False            False  \n",
       "4           False           False            False  \n",
       "\n",
       "[5 rows x 33 columns]"
      ]
     },
     "execution_count": 115,
     "metadata": {},
     "output_type": "execute_result"
    }
   ],
   "source": [
    "import pandas as pd\n",
    "\n",
    "# Load the CSV file\n",
    "file_path = r\"C:\\Users\\Anthony Zambrano\\Taxis_Fare_Project\\c_y_trip_data-2022csv\\cleaned_yellow_tripdata_2022-09.csv\"\n",
    "df = pd.read_csv(file_path)\n",
    "\n",
    "# Check the first few rows to understand the data structure\n",
    "df.head()\n"
   ]
  },
  {
   "cell_type": "code",
   "execution_count": 116,
   "metadata": {},
   "outputs": [
    {
     "data": {
      "text/html": [
       "<div>\n",
       "<style scoped>\n",
       "    .dataframe tbody tr th:only-of-type {\n",
       "        vertical-align: middle;\n",
       "    }\n",
       "\n",
       "    .dataframe tbody tr th {\n",
       "        vertical-align: top;\n",
       "    }\n",
       "\n",
       "    .dataframe thead th {\n",
       "        text-align: right;\n",
       "    }\n",
       "</style>\n",
       "<table border=\"1\" class=\"dataframe\">\n",
       "  <thead>\n",
       "    <tr style=\"text-align: right;\">\n",
       "      <th></th>\n",
       "      <th>VendorID</th>\n",
       "      <th>tpep_pickup_datetime</th>\n",
       "      <th>tpep_dropoff_datetime</th>\n",
       "      <th>passenger_count</th>\n",
       "      <th>trip_distance</th>\n",
       "      <th>PULocationID</th>\n",
       "      <th>DOLocationID</th>\n",
       "      <th>fare_amount</th>\n",
       "      <th>extra</th>\n",
       "      <th>mta_tax</th>\n",
       "      <th>...</th>\n",
       "      <th>payment_type_4</th>\n",
       "      <th>store_and_fwd_flag_N</th>\n",
       "      <th>store_and_fwd_flag_Y</th>\n",
       "      <th>RatecodeID_1.0</th>\n",
       "      <th>RatecodeID_2.0</th>\n",
       "      <th>RatecodeID_3.0</th>\n",
       "      <th>RatecodeID_4.0</th>\n",
       "      <th>RatecodeID_5.0</th>\n",
       "      <th>RatecodeID_6.0</th>\n",
       "      <th>RatecodeID_99.0</th>\n",
       "    </tr>\n",
       "  </thead>\n",
       "  <tbody>\n",
       "  </tbody>\n",
       "</table>\n",
       "<p>0 rows × 33 columns</p>\n",
       "</div>"
      ],
      "text/plain": [
       "Empty DataFrame\n",
       "Columns: [VendorID, tpep_pickup_datetime, tpep_dropoff_datetime, passenger_count, trip_distance, PULocationID, DOLocationID, fare_amount, extra, mta_tax, tip_amount, tolls_amount, improvement_surcharge, total_amount, congestion_surcharge, airport_fee, pickup_hour, pickup_day_of_week, trip_duration, payment_type_0, payment_type_1, payment_type_2, payment_type_3, payment_type_4, store_and_fwd_flag_N, store_and_fwd_flag_Y, RatecodeID_1.0, RatecodeID_2.0, RatecodeID_3.0, RatecodeID_4.0, RatecodeID_5.0, RatecodeID_6.0, RatecodeID_99.0]\n",
       "Index: []\n",
       "\n",
       "[0 rows x 33 columns]"
      ]
     },
     "execution_count": 116,
     "metadata": {},
     "output_type": "execute_result"
    }
   ],
   "source": [
    "# Check descriptive statistics to identify outliers\n",
    "df['trip_duration'].describe()\n",
    "\n",
    "# Identify unusually high values (e.g., more than 10 hours)\n",
    "outliers_trip_duration = df[df['trip_duration'] > 36000]  # More than 10 hours in seconds\n",
    "outliers_trip_duration\n"
   ]
  },
  {
   "cell_type": "code",
   "execution_count": 117,
   "metadata": {},
   "outputs": [],
   "source": [
    "# Remove rows with trip_duration greater than 10 hours (36000 seconds)\n",
    "df = df[df['trip_duration'] <= 36000]\n"
   ]
  },
  {
   "cell_type": "code",
   "execution_count": 119,
   "metadata": {},
   "outputs": [
    {
     "data": {
      "text/plain": [
       "Index(['VendorID', 'tpep_pickup_datetime', 'tpep_dropoff_datetime',\n",
       "       'passenger_count', 'trip_distance', 'PULocationID', 'DOLocationID',\n",
       "       'fare_amount', 'extra', 'mta_tax', 'tip_amount', 'tolls_amount',\n",
       "       'improvement_surcharge', 'total_amount', 'congestion_surcharge',\n",
       "       'airport_fee', 'pickup_hour', 'pickup_day_of_week', 'trip_duration',\n",
       "       'payment_type_0', 'payment_type_1', 'payment_type_2', 'payment_type_3',\n",
       "       'payment_type_4', 'store_and_fwd_flag_N', 'store_and_fwd_flag_Y',\n",
       "       'RatecodeID_1.0', 'RatecodeID_2.0', 'RatecodeID_3.0', 'RatecodeID_4.0',\n",
       "       'RatecodeID_5.0', 'RatecodeID_6.0', 'RatecodeID_99.0'],\n",
       "      dtype='object')"
      ]
     },
     "execution_count": 119,
     "metadata": {},
     "output_type": "execute_result"
    }
   ],
   "source": [
    "# Check the column names of the DataFrame\n",
    "df.columns\n"
   ]
  },
  {
   "cell_type": "code",
   "execution_count": 120,
   "metadata": {},
   "outputs": [],
   "source": [
    "# Convert date columns to datetime type using the correct column names\n",
    "df['tpep_pickup_datetime'] = pd.to_datetime(df['tpep_pickup_datetime'])\n",
    "df['tpep_dropoff_datetime'] = pd.to_datetime(df['tpep_dropoff_datetime'])\n"
   ]
  },
  {
   "cell_type": "code",
   "execution_count": 121,
   "metadata": {},
   "outputs": [
    {
     "data": {
      "text/html": [
       "<div>\n",
       "<style scoped>\n",
       "    .dataframe tbody tr th:only-of-type {\n",
       "        vertical-align: middle;\n",
       "    }\n",
       "\n",
       "    .dataframe tbody tr th {\n",
       "        vertical-align: top;\n",
       "    }\n",
       "\n",
       "    .dataframe thead th {\n",
       "        text-align: right;\n",
       "    }\n",
       "</style>\n",
       "<table border=\"1\" class=\"dataframe\">\n",
       "  <thead>\n",
       "    <tr style=\"text-align: right;\">\n",
       "      <th></th>\n",
       "      <th>VendorID</th>\n",
       "      <th>tpep_pickup_datetime</th>\n",
       "      <th>tpep_dropoff_datetime</th>\n",
       "      <th>passenger_count</th>\n",
       "      <th>trip_distance</th>\n",
       "      <th>PULocationID</th>\n",
       "      <th>DOLocationID</th>\n",
       "      <th>fare_amount</th>\n",
       "      <th>extra</th>\n",
       "      <th>mta_tax</th>\n",
       "      <th>...</th>\n",
       "      <th>payment_type_4</th>\n",
       "      <th>store_and_fwd_flag_N</th>\n",
       "      <th>store_and_fwd_flag_Y</th>\n",
       "      <th>RatecodeID_1.0</th>\n",
       "      <th>RatecodeID_2.0</th>\n",
       "      <th>RatecodeID_3.0</th>\n",
       "      <th>RatecodeID_4.0</th>\n",
       "      <th>RatecodeID_5.0</th>\n",
       "      <th>RatecodeID_6.0</th>\n",
       "      <th>RatecodeID_99.0</th>\n",
       "    </tr>\n",
       "  </thead>\n",
       "  <tbody>\n",
       "  </tbody>\n",
       "</table>\n",
       "<p>0 rows × 33 columns</p>\n",
       "</div>"
      ],
      "text/plain": [
       "Empty DataFrame\n",
       "Columns: [VendorID, tpep_pickup_datetime, tpep_dropoff_datetime, passenger_count, trip_distance, PULocationID, DOLocationID, fare_amount, extra, mta_tax, tip_amount, tolls_amount, improvement_surcharge, total_amount, congestion_surcharge, airport_fee, pickup_hour, pickup_day_of_week, trip_duration, payment_type_0, payment_type_1, payment_type_2, payment_type_3, payment_type_4, store_and_fwd_flag_N, store_and_fwd_flag_Y, RatecodeID_1.0, RatecodeID_2.0, RatecodeID_3.0, RatecodeID_4.0, RatecodeID_5.0, RatecodeID_6.0, RatecodeID_99.0]\n",
       "Index: []\n",
       "\n",
       "[0 rows x 33 columns]"
      ]
     },
     "execution_count": 121,
     "metadata": {},
     "output_type": "execute_result"
    }
   ],
   "source": [
    "# Check descriptive statistics for trip_duration\n",
    "df['trip_duration'].describe()\n",
    "\n",
    "# Identify rows with unusually high trip durations (e.g., more than 10 hours in seconds)\n",
    "outliers_trip_duration = df[df['trip_duration'] > 36000]  # 10 hours = 36000 seconds\n",
    "outliers_trip_duration\n"
   ]
  },
  {
   "cell_type": "code",
   "execution_count": 122,
   "metadata": {},
   "outputs": [],
   "source": [
    "# Remove rows with trip_duration greater than 10 hours (36000 seconds)\n",
    "df = df[df['trip_duration'] <= 36000]\n"
   ]
  },
  {
   "cell_type": "code",
   "execution_count": 123,
   "metadata": {},
   "outputs": [],
   "source": [
    "# Convert numeric columns with float64 to float32 to save memory\n",
    "df['fare_amount'] = df['fare_amount'].astype('float32')\n",
    "df['trip_distance'] = df['trip_distance'].astype('float32')\n",
    "df['tip_amount'] = df['tip_amount'].astype('float32')\n",
    "df['total_amount'] = df['total_amount'].astype('float32')\n"
   ]
  },
  {
   "cell_type": "code",
   "execution_count": 127,
   "metadata": {},
   "outputs": [
    {
     "name": "stdout",
     "output_type": "stream",
     "text": [
      "count    3.112621e+06\n",
      "mean     1.562998e+01\n",
      "std      1.072857e+02\n",
      "min      1.000000e-02\n",
      "25%      7.500000e+00\n",
      "50%      1.100000e+01\n",
      "75%      1.750000e+01\n",
      "max      1.874450e+05\n",
      "Name: fare_amount, dtype: float64\n",
      "count    3.112621e+06\n",
      "mean     3.754221e+00\n",
      "std      4.686383e+00\n",
      "min      1.000000e-02\n",
      "25%      1.180000e+00\n",
      "50%      1.990000e+00\n",
      "75%      3.830000e+00\n",
      "max      9.920000e+01\n",
      "Name: trip_distance, dtype: float64\n",
      "Outliers in fare_amount:\n",
      "         VendorID tpep_pickup_datetime tpep_dropoff_datetime  passenger_count  \\\n",
      "764             1  2022-09-01 00:58:29   2022-09-01 01:45:01                1   \n",
      "1224            1  2022-09-01 00:06:14   2022-09-01 01:20:34                1   \n",
      "1445            2  2022-09-01 00:31:21   2022-09-01 01:28:22                1   \n",
      "1635            2  2022-09-01 00:01:47   2022-09-01 00:24:29                1   \n",
      "2598            1  2022-09-01 00:00:29   2022-09-01 00:45:02                1   \n",
      "...           ...                  ...                   ...              ...   \n",
      "3068911         2  2022-09-19 07:09:00   2022-09-19 08:08:00                1   \n",
      "3077627         2  2022-09-21 18:16:34   2022-09-21 20:20:10                1   \n",
      "3097552         2  2022-09-26 15:00:30   2022-09-26 15:54:27                1   \n",
      "3104833         2  2022-09-28 23:01:24   2022-09-29 00:04:47                1   \n",
      "3108621         2  2022-09-29 23:25:00   2022-09-30 00:31:00                1   \n",
      "\n",
      "         trip_distance  PULocationID  DOLocationID  fare_amount  extra  \\\n",
      "764          24.900000           100           265   143.000000   0.00   \n",
      "1224         31.500000           132             1   111.500000   1.75   \n",
      "1445         33.110001           132           265   121.500000   0.50   \n",
      "1635         24.020000            70           265   168.000000   0.00   \n",
      "2598         26.799999           170           265   120.000000   0.00   \n",
      "...                ...           ...           ...          ...    ...   \n",
      "3068911      38.070000           141           265   105.510002   0.00   \n",
      "3077627      30.900000           231           265   108.629997   0.00   \n",
      "3097552      24.809999           148           265   118.330002   0.00   \n",
      "3104833      47.509998           249           265   172.119995   0.00   \n",
      "3108621      15.320000            71           265   111.739998   0.00   \n",
      "\n",
      "         mta_tax  ...  payment_type_4  store_and_fwd_flag_N  \\\n",
      "764          0.0  ...           False                  True   \n",
      "1224         0.0  ...           False                  True   \n",
      "1445         0.5  ...           False                  True   \n",
      "1635         0.5  ...           False                  True   \n",
      "2598         0.0  ...           False                  True   \n",
      "...          ...  ...             ...                   ...   \n",
      "3068911      0.5  ...           False                  True   \n",
      "3077627      0.5  ...           False                  True   \n",
      "3097552      0.5  ...           False                  True   \n",
      "3104833      0.5  ...           False                  True   \n",
      "3108621      0.0  ...           False                  True   \n",
      "\n",
      "         store_and_fwd_flag_Y  RatecodeID_1.0  RatecodeID_2.0  RatecodeID_3.0  \\\n",
      "764                     False           False           False           False   \n",
      "1224                    False           False           False            True   \n",
      "1445                    False           False           False           False   \n",
      "1635                    False           False           False           False   \n",
      "2598                    False           False           False           False   \n",
      "...                       ...             ...             ...             ...   \n",
      "3068911                 False           False           False           False   \n",
      "3077627                 False           False           False           False   \n",
      "3097552                 False           False           False           False   \n",
      "3104833                 False           False           False           False   \n",
      "3108621                 False           False           False           False   \n",
      "\n",
      "         RatecodeID_4.0  RatecodeID_5.0  RatecodeID_6.0  RatecodeID_99.0  \n",
      "764               False            True           False            False  \n",
      "1224              False           False           False            False  \n",
      "1445               True           False           False            False  \n",
      "1635              False            True           False            False  \n",
      "2598              False            True           False            False  \n",
      "...                 ...             ...             ...              ...  \n",
      "3068911           False           False           False            False  \n",
      "3077627           False           False           False            False  \n",
      "3097552           False           False           False            False  \n",
      "3104833           False           False           False            False  \n",
      "3108621           False           False           False            False  \n",
      "\n",
      "[3842 rows x 33 columns]\n",
      "Outliers in trip_distance:\n",
      "         VendorID tpep_pickup_datetime tpep_dropoff_datetime  passenger_count  \\\n",
      "11797           2  2022-09-01 08:04:06   2022-09-01 10:34:31                4   \n",
      "12114           2  2022-09-01 08:25:11   2022-09-01 09:51:05                1   \n",
      "13743           2  2022-09-01 08:08:36   2022-09-01 09:26:54                3   \n",
      "40210           1  2022-09-01 13:47:35   2022-09-01 16:34:23                1   \n",
      "47376           2  2022-09-01 14:26:39   2022-09-01 15:51:03                1   \n",
      "...           ...                  ...                   ...              ...   \n",
      "2973812         2  2022-09-30 19:31:33   2022-09-30 20:28:54                1   \n",
      "2975598         2  2022-09-30 19:34:17   2022-09-30 21:04:17                2   \n",
      "2982000         2  2022-09-30 20:32:29   2022-09-30 21:37:20                1   \n",
      "3010900         2  2022-09-04 16:23:00   2022-09-04 17:59:00                1   \n",
      "3054176         2  2022-09-15 17:51:00   2022-09-15 21:19:00                1   \n",
      "\n",
      "         trip_distance  PULocationID  DOLocationID  fare_amount  extra  \\\n",
      "11797        97.919998           132           265   400.000000   0.00   \n",
      "12114        55.090000            10           265   214.000000   0.00   \n",
      "13743        61.740002           132           265   176.000000   0.00   \n",
      "40210        69.900002           132           265   319.000000   1.25   \n",
      "47376        54.590000           132           265    84.500000   0.00   \n",
      "...                ...           ...           ...          ...    ...   \n",
      "2973812      59.160000           132           265    85.500000   1.00   \n",
      "2975598      71.739998           132           265   225.000000   1.25   \n",
      "2982000      50.220001           132           265   206.000000   0.50   \n",
      "3010900      52.590000            42           265   103.919998   0.00   \n",
      "3054176      78.230003           132           148    61.250000   0.00   \n",
      "\n",
      "         mta_tax  ...  payment_type_4  store_and_fwd_flag_N  \\\n",
      "11797        0.0  ...           False                  True   \n",
      "12114        0.0  ...           False                  True   \n",
      "13743        0.0  ...           False                  True   \n",
      "40210        0.5  ...           False                  True   \n",
      "47376        0.5  ...           False                  True   \n",
      "...          ...  ...             ...                   ...   \n",
      "2973812      0.5  ...           False                  True   \n",
      "2975598      0.0  ...           False                  True   \n",
      "2982000      0.5  ...           False                  True   \n",
      "3010900      0.0  ...           False                  True   \n",
      "3054176      0.5  ...           False                  True   \n",
      "\n",
      "         store_and_fwd_flag_Y  RatecodeID_1.0  RatecodeID_2.0  RatecodeID_3.0  \\\n",
      "11797                   False           False           False           False   \n",
      "12114                   False           False           False           False   \n",
      "13743                   False           False           False            True   \n",
      "40210                   False           False           False           False   \n",
      "47376                   False           False           False           False   \n",
      "...                       ...             ...             ...             ...   \n",
      "2973812                 False           False           False           False   \n",
      "2975598                 False            True           False           False   \n",
      "2982000                 False           False           False           False   \n",
      "3010900                 False           False           False           False   \n",
      "3054176                 False           False           False           False   \n",
      "\n",
      "         RatecodeID_4.0  RatecodeID_5.0  RatecodeID_6.0  RatecodeID_99.0  \n",
      "11797             False            True           False            False  \n",
      "12114             False            True           False            False  \n",
      "13743             False           False           False            False  \n",
      "40210              True           False           False            False  \n",
      "47376              True           False           False            False  \n",
      "...                 ...             ...             ...              ...  \n",
      "2973812            True           False           False            False  \n",
      "2975598           False           False           False            False  \n",
      "2982000            True           False           False            False  \n",
      "3010900           False           False           False            False  \n",
      "3054176           False           False           False            False  \n",
      "\n",
      "[444 rows x 33 columns]\n",
      "   VendorID tpep_pickup_datetime tpep_dropoff_datetime  passenger_count  \\\n",
      "0         1  2022-09-01 00:28:12   2022-09-01 00:36:22                1   \n",
      "1         1  2022-09-01 00:51:58   2022-09-01 01:14:43                1   \n",
      "2         1  2022-09-01 00:08:29   2022-09-01 00:26:29                1   \n",
      "3         2  2022-09-01 00:02:24   2022-09-01 00:09:39                1   \n",
      "4         2  2022-09-01 00:47:25   2022-09-01 00:56:09                1   \n",
      "5         1  2022-09-01 00:13:21   2022-09-01 00:21:29                1   \n",
      "6         2  2022-09-01 00:53:18   2022-09-01 00:57:18                1   \n",
      "7         1  2022-09-01 00:01:49   2022-09-01 00:12:36                1   \n",
      "8         1  2022-09-01 00:20:16   2022-09-01 00:35:25                1   \n",
      "9         2  2022-09-01 00:07:25   2022-09-01 00:58:57                3   \n",
      "\n",
      "   trip_distance  PULocationID  DOLocationID  fare_amount  extra  mta_tax  \\\n",
      "0           2.10           100           239          9.0   3.00      0.5   \n",
      "1           8.70           161           243         27.5   3.00      0.5   \n",
      "2           8.30           138           233         25.0   3.00      0.5   \n",
      "3           1.32           238           166          7.5   0.50      0.5   \n",
      "4           2.94           161           226         10.5   0.50      0.5   \n",
      "5           2.20           163           263          9.0   3.00      0.5   \n",
      "6           0.54            70            68          4.5   0.50      0.5   \n",
      "7           2.20           263            24         10.0   3.00      0.5   \n",
      "8           7.40           138            41         22.0   1.75      0.5   \n",
      "9          12.80           211           192         42.5   0.50      0.5   \n",
      "\n",
      "   ...  payment_type_4  store_and_fwd_flag_N  store_and_fwd_flag_Y  \\\n",
      "0  ...           False                  True                 False   \n",
      "1  ...           False                  True                 False   \n",
      "2  ...           False                  True                 False   \n",
      "3  ...           False                  True                 False   \n",
      "4  ...           False                  True                 False   \n",
      "5  ...           False                  True                 False   \n",
      "6  ...           False                  True                 False   \n",
      "7  ...           False                  True                 False   \n",
      "8  ...           False                  True                 False   \n",
      "9  ...           False                  True                 False   \n",
      "\n",
      "   RatecodeID_1.0  RatecodeID_2.0  RatecodeID_3.0  RatecodeID_4.0  \\\n",
      "0            True           False           False           False   \n",
      "1            True           False           False           False   \n",
      "2            True           False           False           False   \n",
      "3            True           False           False           False   \n",
      "4            True           False           False           False   \n",
      "5            True           False           False           False   \n",
      "6            True           False           False           False   \n",
      "7            True           False           False           False   \n",
      "8            True           False           False           False   \n",
      "9            True           False           False           False   \n",
      "\n",
      "   RatecodeID_5.0  RatecodeID_6.0  RatecodeID_99.0  \n",
      "0           False           False            False  \n",
      "1           False           False            False  \n",
      "2           False           False            False  \n",
      "3           False           False            False  \n",
      "4           False           False            False  \n",
      "5           False           False            False  \n",
      "6           False           False            False  \n",
      "7           False           False            False  \n",
      "8           False           False            False  \n",
      "9           False           False            False  \n",
      "\n",
      "[10 rows x 33 columns]\n"
     ]
    }
   ],
   "source": [
    "\n",
    "# Summary statistics for fare_amount\n",
    "print(df['fare_amount'].describe())\n",
    "\n",
    "# Summary statistics for trip_distance\n",
    "print(df['trip_distance'].describe())\n",
    "\n",
    "# Identify potential outliers (e.g., fare_amount or trip_distance that are unusually high)\n",
    "outliers_fare_amount = df[df['fare_amount'] > 100]  # Example threshold, adjust as needed\n",
    "outliers_trip_distance = df[df['trip_distance'] > 50]  # Example threshold, adjust as needed\n",
    "\n",
    "print(\"Outliers in fare_amount:\")\n",
    "print(outliers_fare_amount)\n",
    "\n",
    "print(\"Outliers in trip_distance:\")\n",
    "print(outliers_trip_distance)\n",
    "\n",
    "\n",
    "# View the first 10 rows of the dataset\n",
    "print(df.head(10))\n"
   ]
  },
  {
   "cell_type": "code",
   "execution_count": 128,
   "metadata": {},
   "outputs": [],
   "source": [
    "# Save the cleaned DataFrame to the same file or a new file\n",
    "df.to_csv(file_path, index=False)  # Overwrite original file\n"
   ]
  },
  {
   "cell_type": "code",
   "execution_count": 129,
   "metadata": {},
   "outputs": [
    {
     "name": "stdout",
     "output_type": "stream",
     "text": [
      "   VendorID tpep_pickup_datetime tpep_dropoff_datetime  passenger_count  \\\n",
      "0         1  2022-09-01 00:28:12   2022-09-01 00:36:22                1   \n",
      "1         1  2022-09-01 00:51:58   2022-09-01 01:14:43                1   \n",
      "2         1  2022-09-01 00:08:29   2022-09-01 00:26:29                1   \n",
      "3         2  2022-09-01 00:02:24   2022-09-01 00:09:39                1   \n",
      "4         2  2022-09-01 00:47:25   2022-09-01 00:56:09                1   \n",
      "\n",
      "   trip_distance  PULocationID  DOLocationID  fare_amount  extra  mta_tax  \\\n",
      "0           2.10           100           239          9.0    3.0      0.5   \n",
      "1           8.70           161           243         27.5    3.0      0.5   \n",
      "2           8.30           138           233         25.0    3.0      0.5   \n",
      "3           1.32           238           166          7.5    0.5      0.5   \n",
      "4           2.94           161           226         10.5    0.5      0.5   \n",
      "\n",
      "   ...  payment_type_4  store_and_fwd_flag_N  store_and_fwd_flag_Y  \\\n",
      "0  ...           False                  True                 False   \n",
      "1  ...           False                  True                 False   \n",
      "2  ...           False                  True                 False   \n",
      "3  ...           False                  True                 False   \n",
      "4  ...           False                  True                 False   \n",
      "\n",
      "   RatecodeID_1.0  RatecodeID_2.0  RatecodeID_3.0  RatecodeID_4.0  \\\n",
      "0            True           False           False           False   \n",
      "1            True           False           False           False   \n",
      "2            True           False           False           False   \n",
      "3            True           False           False           False   \n",
      "4            True           False           False           False   \n",
      "\n",
      "   RatecodeID_5.0  RatecodeID_6.0  RatecodeID_99.0  \n",
      "0           False           False            False  \n",
      "1           False           False            False  \n",
      "2           False           False            False  \n",
      "3           False           False            False  \n",
      "4           False           False            False  \n",
      "\n",
      "[5 rows x 33 columns]\n",
      "        fare_amount  trip_distance\n",
      "count  3.112621e+06   3.112621e+06\n",
      "mean   1.562997e+01   3.754221e+00\n",
      "std    1.072857e+02   4.686383e+00\n",
      "min    1.000000e-02   1.000000e-02\n",
      "25%    7.500000e+00   1.180000e+00\n",
      "50%    1.100000e+01   1.990000e+00\n",
      "75%    1.750000e+01   3.830000e+00\n",
      "max    1.874450e+05   9.920000e+01\n"
     ]
    }
   ],
   "source": [
    "# Load the cleaned data from the saved file\n",
    "df_saved = pd.read_csv(file_path)\n",
    "\n",
    "# Display the first few rows of the dataset to check the changes\n",
    "print(df_saved.head())\n",
    "\n",
    "# Check the summary statistics again to verify any changes\n",
    "print(df_saved[['fare_amount', 'trip_distance']].describe())\n"
   ]
  },
  {
   "cell_type": "markdown",
   "metadata": {},
   "source": [
    "English Summary:\n",
    "We performed data cleaning on a dataset containing taxi trip information. The steps included:\n",
    "\n",
    "Handling missing values: Replaced any null values in essential columns (like fare_amount and trip_distance) with the mean of those columns.\n",
    "Identifying and handling outliers: Detected outliers in fare_amount and trip_distance and removed rows with values outside of a reasonable range (like extreme fare amounts and trip distances).\n",
    "Saving the cleaned data: After cleaning, we saved the modified dataset to ensure changes were retained.\n",
    "Resumen en Español:\n",
    "Realizamos la limpieza de un conjunto de datos que contiene información sobre viajes en taxi. Los pasos incluyeron:\n",
    "\n",
    "Manejo de valores nulos: Se reemplazaron los valores nulos en columnas esenciales (como fare_amount y trip_distance) con la media de esas columnas.\n",
    "Identificación y manejo de valores atípicos: Se detectaron valores atípicos en fare_amount y trip_distance y se eliminaron filas con valores fuera de un rango razonable (como tarifas o distancias extremas).\n",
    "Guardado de los datos limpios: Después de limpiar, guardamos el conjunto de datos modificado para asegurar que los cambios se mantuvieran."
   ]
  },
  {
   "cell_type": "markdown",
   "metadata": {},
   "source": [
    "October"
   ]
  },
  {
   "cell_type": "code",
   "execution_count": 2,
   "metadata": {},
   "outputs": [],
   "source": [
    "import pandas as pd\n",
    "import numpy as np\n",
    "\n",
    "# Path to the original CSV file\n",
    "csv_file = r\"C:\\Users\\Anthony Zambrano\\Taxis_Fare_Project\\y_trip_data-2022csv\\yellow_tripdata_2022-10.csv\"\n",
    "\n",
    "# Path to save the cleaned CSV file\n",
    "cleaned_csv_file = r\"C:\\Users\\Anthony Zambrano\\Taxis_Fare_Project\\c_y_trip_data-2022csv\\cleaned_yellow_tripdata_2022-10.csv\""
   ]
  },
  {
   "cell_type": "code",
   "execution_count": 3,
   "metadata": {},
   "outputs": [
    {
     "name": "stderr",
     "output_type": "stream",
     "text": [
      "C:\\Users\\Anthony Zambrano\\AppData\\Local\\Temp\\ipykernel_13448\\3845408540.py:2: DtypeWarning: Columns (6) have mixed types. Specify dtype option on import or set low_memory=False.\n",
      "  df = pd.read_csv(csv_file)\n"
     ]
    }
   ],
   "source": [
    "# Load the data\n",
    "df = pd.read_csv(csv_file)\n"
   ]
  },
  {
   "cell_type": "code",
   "execution_count": 4,
   "metadata": {},
   "outputs": [],
   "source": [
    "# 1. Remove missing values in key columns\n",
    "df.dropna(subset=[\"fare_amount\", \"tpep_pickup_datetime\", \"tpep_dropoff_datetime\"], inplace=True)"
   ]
  },
  {
   "cell_type": "code",
   "execution_count": 5,
   "metadata": {},
   "outputs": [],
   "source": [
    "# 2. Convert datetime columns to proper format\n",
    "df[\"tpep_pickup_datetime\"] = pd.to_datetime(df[\"tpep_pickup_datetime\"])\n",
    "df[\"tpep_dropoff_datetime\"] = pd.to_datetime(df[\"tpep_dropoff_datetime\"])"
   ]
  },
  {
   "cell_type": "code",
   "execution_count": 6,
   "metadata": {},
   "outputs": [],
   "source": [
    "# 3. Filter out outliers and invalid values\n",
    "df = df[(df[\"trip_distance\"] > 0) & (df[\"trip_distance\"] <= 100)]  # Trip distance > 0 and ≤ 100 miles\n",
    "df = df[df[\"fare_amount\"] > 0]  # Only positive fare amounts\n"
   ]
  },
  {
   "cell_type": "code",
   "execution_count": 7,
   "metadata": {},
   "outputs": [],
   "source": [
    "# 4. Feature Engineering\n",
    "df[\"pickup_hour\"] = df[\"tpep_pickup_datetime\"].dt.hour\n",
    "df[\"pickup_day_of_week\"] = df[\"tpep_pickup_datetime\"].dt.dayofweek\n",
    "df[\"trip_duration_minutes\"] = (df[\"tpep_dropoff_datetime\"] - df[\"tpep_pickup_datetime\"]).dt.total_seconds() / 60"
   ]
  },
  {
   "cell_type": "code",
   "execution_count": 8,
   "metadata": {},
   "outputs": [
    {
     "name": "stderr",
     "output_type": "stream",
     "text": [
      "C:\\Users\\Anthony Zambrano\\AppData\\Local\\Temp\\ipykernel_13448\\834503951.py:2: FutureWarning: A value is trying to be set on a copy of a DataFrame or Series through chained assignment using an inplace method.\n",
      "The behavior will change in pandas 3.0. This inplace method will never work because the intermediate object on which we are setting values always behaves as a copy.\n",
      "\n",
      "For example, when doing 'df[col].method(value, inplace=True)', try using 'df.method({col: value}, inplace=True)' or df[col] = df[col].method(value) instead, to perform the operation inplace on the original object.\n",
      "\n",
      "\n",
      "  df[\"passenger_count\"].fillna(df[\"passenger_count\"].mean(), inplace=True)  # Replace NaN with the average value\n",
      "C:\\Users\\Anthony Zambrano\\AppData\\Local\\Temp\\ipykernel_13448\\834503951.py:3: FutureWarning: A value is trying to be set on a copy of a DataFrame or Series through chained assignment using an inplace method.\n",
      "The behavior will change in pandas 3.0. This inplace method will never work because the intermediate object on which we are setting values always behaves as a copy.\n",
      "\n",
      "For example, when doing 'df[col].method(value, inplace=True)', try using 'df.method({col: value}, inplace=True)' or df[col] = df[col].method(value) instead, to perform the operation inplace on the original object.\n",
      "\n",
      "\n",
      "  df[\"store_and_fwd_flag\"].fillna(\"N\", inplace=True)  # Replace with default value \"N\"\n",
      "C:\\Users\\Anthony Zambrano\\AppData\\Local\\Temp\\ipykernel_13448\\834503951.py:4: FutureWarning: A value is trying to be set on a copy of a DataFrame or Series through chained assignment using an inplace method.\n",
      "The behavior will change in pandas 3.0. This inplace method will never work because the intermediate object on which we are setting values always behaves as a copy.\n",
      "\n",
      "For example, when doing 'df[col].method(value, inplace=True)', try using 'df.method({col: value}, inplace=True)' or df[col] = df[col].method(value) instead, to perform the operation inplace on the original object.\n",
      "\n",
      "\n",
      "  df[\"congestion_surcharge\"].fillna(0, inplace=True)  # Replace with 0\n"
     ]
    }
   ],
   "source": [
    "# 5. Handle missing values in additional columns\n",
    "df[\"passenger_count\"].fillna(df[\"passenger_count\"].mean(), inplace=True)  # Replace NaN with the average value\n",
    "df[\"store_and_fwd_flag\"].fillna(\"N\", inplace=True)  # Replace with default value \"N\"\n",
    "df[\"congestion_surcharge\"].fillna(0, inplace=True)  # Replace with 0"
   ]
  },
  {
   "cell_type": "code",
   "execution_count": 9,
   "metadata": {},
   "outputs": [],
   "source": [
    "# 6. Remove duplicates\n",
    "df.drop_duplicates(inplace=True)\n"
   ]
  },
  {
   "cell_type": "code",
   "execution_count": 10,
   "metadata": {},
   "outputs": [],
   "source": [
    "# 7. One-Hot Encoding for categorical columns\n",
    "df = pd.get_dummies(df, columns=[\"payment_type\", \"store_and_fwd_flag\", \"RatecodeID\"])\n"
   ]
  },
  {
   "cell_type": "code",
   "execution_count": 11,
   "metadata": {},
   "outputs": [],
   "source": [
    "# 8. Optimize data types to reduce memory usage\n",
    "df[\"passenger_count\"] = df[\"passenger_count\"].astype(\"int8\")\n",
    "df[\"pickup_hour\"] = df[\"pickup_hour\"].astype(\"int8\")\n",
    "df[\"pickup_day_of_week\"] = df[\"pickup_day_of_week\"].astype(\"int8\")\n",
    "df[\"trip_duration_minutes\"] = df[\"trip_duration_minutes\"].astype(\"float32\")"
   ]
  },
  {
   "cell_type": "code",
   "execution_count": 12,
   "metadata": {},
   "outputs": [],
   "source": [
    "# 9. Final check and export the cleaned dataset\n",
    "df.to_csv(cleaned_csv_file, index=False)"
   ]
  },
  {
   "cell_type": "code",
   "execution_count": 13,
   "metadata": {},
   "outputs": [
    {
     "name": "stdout",
     "output_type": "stream",
     "text": [
      "Cleaned data file saved at: C:\\Users\\Anthony Zambrano\\Taxis_Fare_Project\\c_y_trip_data-2022csv\\cleaned_yellow_tripdata_2022-10.csv\n"
     ]
    }
   ],
   "source": [
    "print(f\"Cleaned data file saved at: {cleaned_csv_file}\")"
   ]
  },
  {
   "cell_type": "code",
   "execution_count": 15,
   "metadata": {},
   "outputs": [
    {
     "name": "stdout",
     "output_type": "stream",
     "text": [
      "\n",
      "Summary of the cleaned data:\n",
      "<class 'pandas.core.frame.DataFrame'>\n",
      "Index: 3589938 entries, 0 to 3675408\n",
      "Data columns (total 33 columns):\n",
      " #   Column                 Dtype         \n",
      "---  ------                 -----         \n",
      " 0   VendorID               int64         \n",
      " 1   tpep_pickup_datetime   datetime64[ns]\n",
      " 2   tpep_dropoff_datetime  datetime64[ns]\n",
      " 3   passenger_count        int8          \n",
      " 4   trip_distance          float64       \n",
      " 5   PULocationID           int64         \n",
      " 6   DOLocationID           int64         \n",
      " 7   fare_amount            float64       \n",
      " 8   extra                  float64       \n",
      " 9   mta_tax                float64       \n",
      " 10  tip_amount             float64       \n",
      " 11  tolls_amount           float64       \n",
      " 12  improvement_surcharge  float64       \n",
      " 13  total_amount           float64       \n",
      " 14  congestion_surcharge   float64       \n",
      " 15  airport_fee            float64       \n",
      " 16  pickup_hour            int8          \n",
      " 17  pickup_day_of_week     int8          \n",
      " 18  trip_duration_minutes  float32       \n",
      " 19  payment_type_0         bool          \n",
      " 20  payment_type_1         bool          \n",
      " 21  payment_type_2         bool          \n",
      " 22  payment_type_3         bool          \n",
      " 23  payment_type_4         bool          \n",
      " 24  store_and_fwd_flag_N   bool          \n",
      " 25  store_and_fwd_flag_Y   bool          \n",
      " 26  RatecodeID_1.0         bool          \n",
      " 27  RatecodeID_2.0         bool          \n",
      " 28  RatecodeID_3.0         bool          \n",
      " 29  RatecodeID_4.0         bool          \n",
      " 30  RatecodeID_5.0         bool          \n",
      " 31  RatecodeID_6.0         bool          \n",
      " 32  RatecodeID_99.0        bool          \n",
      "dtypes: bool(14), datetime64[ns](2), float32(1), float64(10), int64(3), int8(3)\n",
      "memory usage: 510.1 MB\n",
      "None\n",
      "\n",
      "First few rows of the cleaned data:\n",
      "   VendorID tpep_pickup_datetime tpep_dropoff_datetime  passenger_count  \\\n",
      "0         1  2022-10-01 00:03:41   2022-10-01 00:18:39                1   \n",
      "1         2  2022-10-01 00:14:30   2022-10-01 00:19:48                2   \n",
      "2         2  2022-10-01 00:27:13   2022-10-01 00:37:41                1   \n",
      "3         1  2022-10-01 00:32:53   2022-10-01 00:38:55                0   \n",
      "4         1  2022-10-01 00:44:55   2022-10-01 00:50:21                0   \n",
      "\n",
      "   trip_distance  PULocationID  DOLocationID  fare_amount  extra  mta_tax  \\\n",
      "0           1.70           249           107          9.5    3.0      0.5   \n",
      "1           0.72           151           238          5.5    0.5      0.5   \n",
      "2           1.74           238           166          9.0    0.5      0.5   \n",
      "3           1.30           142           239          6.5    3.0      0.5   \n",
      "4           1.00           238           166          6.0    0.5      0.5   \n",
      "\n",
      "   ...  payment_type_4  store_and_fwd_flag_N  store_and_fwd_flag_Y  \\\n",
      "0  ...           False                  True                 False   \n",
      "1  ...           False                  True                 False   \n",
      "2  ...           False                  True                 False   \n",
      "3  ...           False                  True                 False   \n",
      "4  ...           False                  True                 False   \n",
      "\n",
      "   RatecodeID_1.0  RatecodeID_2.0  RatecodeID_3.0  RatecodeID_4.0  \\\n",
      "0            True           False           False           False   \n",
      "1            True           False           False           False   \n",
      "2            True           False           False           False   \n",
      "3            True           False           False           False   \n",
      "4            True           False           False           False   \n",
      "\n",
      "   RatecodeID_5.0  RatecodeID_6.0  RatecodeID_99.0  \n",
      "0           False           False            False  \n",
      "1           False           False            False  \n",
      "2           False           False            False  \n",
      "3           False           False            False  \n",
      "4           False           False            False  \n",
      "\n",
      "[5 rows x 33 columns]\n",
      "\n",
      "Descriptive statistics:\n",
      "           VendorID           tpep_pickup_datetime  \\\n",
      "count  3.589938e+06                        3589938   \n",
      "mean   1.721378e+00  2022-10-16 20:17:22.520555776   \n",
      "min    1.000000e+00            2008-12-31 23:02:01   \n",
      "25%    1.000000e+00            2022-10-09 00:03:00   \n",
      "50%    2.000000e+00            2022-10-16 21:04:33   \n",
      "75%    2.000000e+00            2022-10-24 13:54:04   \n",
      "max    6.000000e+00            2022-11-01 01:27:35   \n",
      "std    4.803150e-01                            NaN   \n",
      "\n",
      "               tpep_dropoff_datetime  passenger_count  trip_distance  \\\n",
      "count                        3589938     3.589938e+06   3.589938e+06   \n",
      "mean   2022-10-16 20:35:33.667783424     1.372696e+00   3.670536e+00   \n",
      "min              2009-01-01 02:20:59     0.000000e+00   1.000000e-02   \n",
      "25%    2022-10-09 00:19:27.249999872     1.000000e+00   1.170000e+00   \n",
      "50%       2022-10-16 21:21:09.500000     1.000000e+00   1.950000e+00   \n",
      "75%              2022-10-24 14:11:14     1.000000e+00   3.700000e+00   \n",
      "max              2022-11-03 17:26:46     9.000000e+00   9.989000e+01   \n",
      "std                              NaN     9.192209e-01   4.605277e+00   \n",
      "\n",
      "       PULocationID  DOLocationID   fare_amount         extra       mta_tax  \\\n",
      "count  3.589938e+06  3.589938e+06  3.589938e+06  3.589938e+06  3.589938e+06   \n",
      "mean   1.656328e+02  1.628883e+02  1.528659e+01  1.007289e+00  4.963122e-01   \n",
      "min    1.000000e+00  1.000000e+00  1.000000e-02 -2.218000e+01  0.000000e+00   \n",
      "25%    1.320000e+02  1.130000e+02  7.500000e+00  0.000000e+00  5.000000e-01   \n",
      "50%    1.620000e+02  1.620000e+02  1.050000e+01  5.000000e-01  5.000000e-01   \n",
      "75%    2.340000e+02  2.340000e+02  1.700000e+01  2.500000e+00  5.000000e-01   \n",
      "max    2.650000e+02  2.650000e+02  7.970000e+02  1.080000e+01  2.548000e+01   \n",
      "std    6.509918e+01  7.013186e+01  1.365009e+01  1.242578e+00  4.899919e-02   \n",
      "\n",
      "         tip_amount  tolls_amount  improvement_surcharge  total_amount  \\\n",
      "count  3.589938e+06  3.589938e+06           3.589938e+06  3.589938e+06   \n",
      "mean   2.870718e+00  5.883530e-01           2.999116e-01  2.232031e+01   \n",
      "min    0.000000e+00  0.000000e+00           0.000000e+00  3.100000e-01   \n",
      "25%    1.000000e+00  0.000000e+00           3.000000e-01  1.236000e+01   \n",
      "50%    2.260000e+00  0.000000e+00           3.000000e-01  1.655000e+01   \n",
      "75%    3.550000e+00  0.000000e+00           3.000000e-01  2.380000e+01   \n",
      "max    4.427600e+02  5.167500e+02           3.000000e-01  8.003000e+02   \n",
      "std    3.253430e+00  2.102593e+00           5.149400e-03  1.734633e+01   \n",
      "\n",
      "       congestion_surcharge   airport_fee   pickup_hour  pickup_day_of_week  \\\n",
      "count          3.589938e+06  3.467811e+06  3.589938e+06        3.589938e+06   \n",
      "mean           2.251491e+00  1.042790e-01  1.418304e+01        3.073032e+00   \n",
      "min            0.000000e+00  0.000000e+00  0.000000e+00        0.000000e+00   \n",
      "25%            2.500000e+00  0.000000e+00  1.000000e+01        1.000000e+00   \n",
      "50%            2.500000e+00  0.000000e+00  1.500000e+01        3.000000e+00   \n",
      "75%            2.500000e+00  0.000000e+00  1.900000e+01        5.000000e+00   \n",
      "max            2.500000e+00  1.250000e+00  2.300000e+01        6.000000e+00   \n",
      "std            7.480062e-01  3.456511e-01  5.857879e+00        2.005447e+00   \n",
      "\n",
      "       trip_duration_minutes  \n",
      "count           3.589938e+06  \n",
      "mean            1.818579e+01  \n",
      "min            -1.397533e+03  \n",
      "25%             8.050000e+00  \n",
      "50%             1.321667e+01  \n",
      "75%             2.140000e+01  \n",
      "max             5.949950e+03  \n",
      "std             4.459963e+01  \n"
     ]
    }
   ],
   "source": [
    "# Code to view the results of the cleaned dataset\n",
    "print(\"\\nSummary of the cleaned data:\")\n",
    "print(df.info())\n",
    "print(\"\\nFirst few rows of the cleaned data:\")\n",
    "print(df.head())\n",
    "print(\"\\nDescriptive statistics:\")\n",
    "print(df.describe())\n"
   ]
  },
  {
   "cell_type": "markdown",
   "metadata": {},
   "source": [
    "Resumen de los pasos para la limpieza de datos (Español):\n",
    "Eliminación de valores faltantes:\n",
    "Se eliminaron filas con valores faltantes en columnas clave como fare_amount, tpep_pickup_datetime, y tpep_dropoff_datetime.\n",
    "\n",
    "Conversión de fechas y horas:\n",
    "Se convirtió tpep_pickup_datetime y tpep_dropoff_datetime a formato de fecha y hora (datetime) para garantizar consistencia.\n",
    "\n",
    "Filtrado de valores atípicos e inválidos:\n",
    "Se eliminaron viajes con distancias superiores a 100 millas, ya que son considerados irreales.\n",
    "Se verificó que fare_amount y trip_distance tuvieran valores positivos.\n",
    "\n",
    "Ingeniería de características:\n",
    "Se extrajeron las variables pickup_hour y pickup_day_of_week de tpep_pickup_datetime.\n",
    "Se calculó la duración del viaje en minutos restando tpep_pickup_datetime de tpep_dropoff_datetime.\n",
    "\n",
    "Manejo de valores faltantes en columnas adicionales:\n",
    "Se rellenaron los valores faltantes en passenger_count con el valor promedio.\n",
    "Se reemplazaron los valores faltantes en columnas categóricas (store_and_fwd_flag, congestion_surcharge) con valores predeterminados.\n",
    "\n",
    "Eliminación de duplicados:\n",
    "Se identificaron y eliminaron filas duplicadas.\n",
    "\n",
    "Codificación One-Hot:\n",
    "Se aplicó codificación one-hot a columnas categóricas (payment_type, store_and_fwd_flag, RatecodeID).\n",
    "\n",
    "Optimización de tipos de datos:\n",
    "Se ajustaron los tipos de datos para reducir el uso de memoria y mejorar la eficiencia.\n",
    "\n",
    "Verificación y exportación final:\n",
    "Se verificó la consistencia del conjunto de datos y se guardó en un archivo limpio.\n",
    "\n",
    "Data Cleaning Steps Summary (English):\n",
    "\n",
    "Missing Value Removal:\n",
    "Dropped rows with missing values in key columns like fare_amount, tpep_pickup_datetime, and tpep_dropoff_datetime.\n",
    "\n",
    "Date-Time Conversion:\n",
    "Converted tpep_pickup_datetime and tpep_dropoff_datetime to datetime format for consistency.\n",
    "\n",
    "Filtering Outliers & Invalid Values:\n",
    "Removed trips with distances over 100 miles, considering them unrealistic.\n",
    "Ensured fare_amount and trip_distance had positive values.\n",
    "\n",
    "Feature Engineering:\n",
    "Extracted pickup_hour and pickup_day_of_week from tpep_pickup_datetime.\n",
    "Calculated trip duration (minutes) by subtracting tpep_pickup_datetime from tpep_dropoff_datetime.\n",
    "\n",
    "Handling Missing Values in Additional Columns:\n",
    "Filled missing values in passenger_count with the average value.\n",
    "Replaced missing values in categorical columns (store_and_fwd_flag, congestion_surcharge) with default values.\n",
    "\n",
    "Duplicate Removal:\n",
    "Identified and dropped duplicate rows.\n",
    "\n",
    "One-Hot Encoding:\n",
    "Applied one-hot encoding to categorical columns (payment_type, store_and_fwd_flag, RatecodeID).\n",
    "\n",
    "Data Type Optimization:\n",
    "Adjusted data types to reduce memory usage and improve processing efficiency.\n",
    "\n",
    "Final Check & Export:\n",
    "Verified the consistency of the cleaned dataset and saved it to a clean file.\n"
   ]
  },
  {
   "cell_type": "markdown",
   "metadata": {},
   "source": [
    "November"
   ]
  },
  {
   "cell_type": "code",
   "execution_count": 1,
   "metadata": {},
   "outputs": [
    {
     "name": "stderr",
     "output_type": "stream",
     "text": [
      "C:\\Users\\Anthony Zambrano\\AppData\\Local\\Temp\\ipykernel_10180\\690800453.py:5: DtypeWarning: Columns (6) have mixed types. Specify dtype option on import or set low_memory=False.\n",
      "  df = pd.read_csv(csv_file)\n"
     ]
    }
   ],
   "source": [
    "import pandas as pd\n",
    "\n",
    "# Load the CSV file\n",
    "csv_file = r\"C:\\Users\\Anthony Zambrano\\Taxis_Fare_Project\\y_trip_data-2022csv\\yellow_tripdata_2022-11.csv\"\n",
    "df = pd.read_csv(csv_file)"
   ]
  },
  {
   "cell_type": "code",
   "execution_count": 2,
   "metadata": {},
   "outputs": [],
   "source": [
    "# Drop rows with missing values in key columns\n",
    "df.dropna(subset=['fare_amount', 'tpep_pickup_datetime', 'tpep_dropoff_datetime'], inplace=True)"
   ]
  },
  {
   "cell_type": "code",
   "execution_count": 3,
   "metadata": {},
   "outputs": [],
   "source": [
    "# Convert datetime columns\n",
    "df['tpep_pickup_datetime'] = pd.to_datetime(df['tpep_pickup_datetime'])\n",
    "df['tpep_dropoff_datetime'] = pd.to_datetime(df['tpep_dropoff_datetime'])\n"
   ]
  },
  {
   "cell_type": "code",
   "execution_count": 5,
   "metadata": {},
   "outputs": [],
   "source": [
    "# Remove outliers\n",
    "df = df[(df['trip_distance'] > 0) & (df['trip_distance'] <= 100)]\n",
    "df = df[df['fare_amount'] > 0]\n"
   ]
  },
  {
   "cell_type": "code",
   "execution_count": 6,
   "metadata": {},
   "outputs": [],
   "source": [
    "# Feature engineering: Extract pickup hour and day of the week\n",
    "df['pickup_hour'] = df['tpep_pickup_datetime'].dt.hour\n",
    "df['pickup_day_of_week'] = df['tpep_pickup_datetime'].dt.dayofweek"
   ]
  },
  {
   "cell_type": "code",
   "execution_count": 7,
   "metadata": {},
   "outputs": [],
   "source": [
    "# Calculate trip duration in minutes\n",
    "df['trip_duration'] = (df['tpep_dropoff_datetime'] - df['tpep_pickup_datetime']).dt.total_seconds() / 60\n"
   ]
  },
  {
   "cell_type": "code",
   "execution_count": 8,
   "metadata": {},
   "outputs": [
    {
     "name": "stderr",
     "output_type": "stream",
     "text": [
      "C:\\Users\\Anthony Zambrano\\AppData\\Local\\Temp\\ipykernel_10180\\3236748030.py:2: FutureWarning: A value is trying to be set on a copy of a DataFrame or Series through chained assignment using an inplace method.\n",
      "The behavior will change in pandas 3.0. This inplace method will never work because the intermediate object on which we are setting values always behaves as a copy.\n",
      "\n",
      "For example, when doing 'df[col].method(value, inplace=True)', try using 'df.method({col: value}, inplace=True)' or df[col] = df[col].method(value) instead, to perform the operation inplace on the original object.\n",
      "\n",
      "\n",
      "  df['passenger_count'].fillna(df['passenger_count'].mean(), inplace=True)\n"
     ]
    }
   ],
   "source": [
    "# Fill missing values in passenger count with the mean\n",
    "df['passenger_count'].fillna(df['passenger_count'].mean(), inplace=True)"
   ]
  },
  {
   "cell_type": "code",
   "execution_count": 9,
   "metadata": {},
   "outputs": [
    {
     "name": "stderr",
     "output_type": "stream",
     "text": [
      "C:\\Users\\Anthony Zambrano\\AppData\\Local\\Temp\\ipykernel_10180\\3945243547.py:2: FutureWarning: A value is trying to be set on a copy of a DataFrame or Series through chained assignment using an inplace method.\n",
      "The behavior will change in pandas 3.0. This inplace method will never work because the intermediate object on which we are setting values always behaves as a copy.\n",
      "\n",
      "For example, when doing 'df[col].method(value, inplace=True)', try using 'df.method({col: value}, inplace=True)' or df[col] = df[col].method(value) instead, to perform the operation inplace on the original object.\n",
      "\n",
      "\n",
      "  df['store_and_fwd_flag'].fillna('N', inplace=True)\n",
      "C:\\Users\\Anthony Zambrano\\AppData\\Local\\Temp\\ipykernel_10180\\3945243547.py:3: FutureWarning: A value is trying to be set on a copy of a DataFrame or Series through chained assignment using an inplace method.\n",
      "The behavior will change in pandas 3.0. This inplace method will never work because the intermediate object on which we are setting values always behaves as a copy.\n",
      "\n",
      "For example, when doing 'df[col].method(value, inplace=True)', try using 'df.method({col: value}, inplace=True)' or df[col] = df[col].method(value) instead, to perform the operation inplace on the original object.\n",
      "\n",
      "\n",
      "  df['congestion_surcharge'].fillna(0, inplace=True)\n"
     ]
    }
   ],
   "source": [
    "# Replace missing categorical values with default values\n",
    "df['store_and_fwd_flag'].fillna('N', inplace=True)\n",
    "df['congestion_surcharge'].fillna(0, inplace=True)"
   ]
  },
  {
   "cell_type": "code",
   "execution_count": 10,
   "metadata": {},
   "outputs": [],
   "source": [
    "# Remove duplicates\n",
    "df.drop_duplicates(inplace=True)"
   ]
  },
  {
   "cell_type": "code",
   "execution_count": 11,
   "metadata": {},
   "outputs": [],
   "source": [
    "# Convert categorical columns to one-hot encoding\n",
    "df = pd.get_dummies(df, columns=['payment_type', 'store_and_fwd_flag', 'RatecodeID'], drop_first=True)"
   ]
  },
  {
   "cell_type": "code",
   "execution_count": 12,
   "metadata": {},
   "outputs": [],
   "source": [
    "# Optimize data types\n",
    "df['passenger_count'] = df['passenger_count'].astype('int8')\n",
    "df['pickup_hour'] = df['pickup_hour'].astype('int8')\n",
    "df['pickup_day_of_week'] = df['pickup_day_of_week'].astype('int8')"
   ]
  },
  {
   "cell_type": "code",
   "execution_count": 13,
   "metadata": {},
   "outputs": [],
   "source": [
    "# Save cleaned data in the correct folder\n",
    "cleaned_csv_file = r\"C:\\Users\\Anthony Zambrano\\Taxis_Fare_Project\\c_y_trip_data-2022csv\\cleaned_yellow_tripdata_2022-11.csv\"\n",
    "df.to_csv(cleaned_csv_file, index=False)"
   ]
  },
  {
   "cell_type": "code",
   "execution_count": 14,
   "metadata": {},
   "outputs": [
    {
     "name": "stdout",
     "output_type": "stream",
     "text": [
      "Data cleaning completed. Cleaned data saved successfully at:\n",
      "C:\\Users\\Anthony Zambrano\\Taxis_Fare_Project\\c_y_trip_data-2022csv\\cleaned_yellow_tripdata_2022-11.csv\n"
     ]
    }
   ],
   "source": [
    "print(\"Data cleaning completed. Cleaned data saved successfully at:\")\n",
    "print(cleaned_csv_file)"
   ]
  },
  {
   "cell_type": "code",
   "execution_count": 15,
   "metadata": {},
   "outputs": [
    {
     "name": "stdout",
     "output_type": "stream",
     "text": [
      "<class 'pandas.core.frame.DataFrame'>\n",
      "RangeIndex: 3171059 entries, 0 to 3171058\n",
      "Data columns (total 30 columns):\n",
      " #   Column                 Dtype  \n",
      "---  ------                 -----  \n",
      " 0   VendorID               int64  \n",
      " 1   tpep_pickup_datetime   object \n",
      " 2   tpep_dropoff_datetime  object \n",
      " 3   passenger_count        int64  \n",
      " 4   trip_distance          float64\n",
      " 5   PULocationID           int64  \n",
      " 6   DOLocationID           int64  \n",
      " 7   fare_amount            float64\n",
      " 8   extra                  float64\n",
      " 9   mta_tax                float64\n",
      " 10  tip_amount             float64\n",
      " 11  tolls_amount           float64\n",
      " 12  improvement_surcharge  float64\n",
      " 13  total_amount           float64\n",
      " 14  congestion_surcharge   float64\n",
      " 15  airport_fee            float64\n",
      " 16  pickup_hour            int64  \n",
      " 17  pickup_day_of_week     int64  \n",
      " 18  trip_duration          float64\n",
      " 19  payment_type_1         bool   \n",
      " 20  payment_type_2         bool   \n",
      " 21  payment_type_3         bool   \n",
      " 22  payment_type_4         bool   \n",
      " 23  store_and_fwd_flag_Y   bool   \n",
      " 24  RatecodeID_2.0         bool   \n",
      " 25  RatecodeID_3.0         bool   \n",
      " 26  RatecodeID_4.0         bool   \n",
      " 27  RatecodeID_5.0         bool   \n",
      " 28  RatecodeID_6.0         bool   \n",
      " 29  RatecodeID_99.0        bool   \n",
      "dtypes: bool(11), float64(11), int64(6), object(2)\n",
      "memory usage: 492.9+ MB\n",
      "None\n",
      "           VendorID  passenger_count  trip_distance  PULocationID  \\\n",
      "count  3.171059e+06     3.171059e+06   3.171059e+06  3.171059e+06   \n",
      "mean   1.781139e+00     1.380693e+00   3.619209e+00  1.664398e+02   \n",
      "std    4.466049e-01     9.221631e-01   4.538381e+00  6.456113e+01   \n",
      "min    1.000000e+00     0.000000e+00   1.000000e-02  1.000000e+00   \n",
      "25%    2.000000e+00     1.000000e+00   1.140000e+00  1.320000e+02   \n",
      "50%    2.000000e+00     1.000000e+00   1.910000e+00  1.620000e+02   \n",
      "75%    2.000000e+00     1.000000e+00   3.640000e+00  2.340000e+02   \n",
      "max    6.000000e+00     9.000000e+00   9.865000e+01  2.650000e+02   \n",
      "\n",
      "       DOLocationID   fare_amount         extra       mta_tax    tip_amount  \\\n",
      "count  3.171059e+06  3.171059e+06  3.171059e+06  3.171059e+06  3.171059e+06   \n",
      "mean   1.638562e+02  1.515717e+01  8.525766e-01  4.962425e-01  2.864658e+00   \n",
      "std    6.971309e+01  1.347805e+01  1.153432e+00  4.334351e-02  3.199963e+00   \n",
      "min    1.000000e+00  1.000000e-02  0.000000e+00  0.000000e+00  0.000000e+00   \n",
      "25%    1.140000e+02  7.500000e+00  0.000000e+00  5.000000e-01  1.000000e+00   \n",
      "50%    1.620000e+02  1.050000e+01  5.000000e-01  5.000000e-01  2.260000e+00   \n",
      "75%    2.340000e+02  1.700000e+01  1.000000e+00  5.000000e-01  3.540000e+00   \n",
      "max    2.650000e+02  1.274000e+03  1.435000e+01  3.300000e+00  3.000000e+02   \n",
      "\n",
      "       tolls_amount  improvement_surcharge  total_amount  \\\n",
      "count  3.171059e+06           3.171059e+06  3.171059e+06   \n",
      "mean   5.820324e-01           2.999270e-01  2.216383e+01   \n",
      "std    2.093454e+00           4.725242e-03  1.715058e+01   \n",
      "min    0.000000e+00           0.000000e+00  3.100000e-01   \n",
      "25%    0.000000e+00           3.000000e-01  1.236000e+01   \n",
      "50%    0.000000e+00           3.000000e-01  1.630000e+01   \n",
      "75%    0.000000e+00           3.000000e-01  2.376000e+01   \n",
      "max    6.555500e+02           1.000000e+00  1.277800e+03   \n",
      "\n",
      "       congestion_surcharge   airport_fee   pickup_hour  pickup_day_of_week  \\\n",
      "count          3.171059e+06  3.065967e+06  3.171059e+06        3.171059e+06   \n",
      "mean           2.255914e+00  1.068672e-01  1.426607e+01        2.870292e+00   \n",
      "std            7.420477e-01  3.495188e-01  5.706592e+00        1.938945e+00   \n",
      "min            0.000000e+00  0.000000e+00  0.000000e+00        0.000000e+00   \n",
      "25%            2.500000e+00  0.000000e+00  1.100000e+01        1.000000e+00   \n",
      "50%            2.500000e+00  0.000000e+00  1.500000e+01        3.000000e+00   \n",
      "75%            2.500000e+00  0.000000e+00  1.900000e+01        5.000000e+00   \n",
      "max            2.500000e+00  1.250000e+00  2.300000e+01        6.000000e+00   \n",
      "\n",
      "       trip_duration  \n",
      "count   3.171059e+06  \n",
      "mean    1.828886e+01  \n",
      "std     4.923387e+01  \n",
      "min    -5.853333e+01  \n",
      "25%     8.000000e+00  \n",
      "50%     1.313333e+01  \n",
      "75%     2.116667e+01  \n",
      "max     5.575167e+03  \n"
     ]
    }
   ],
   "source": [
    "# Load cleaned CSV file and display summary\n",
    "df_cleaned = pd.read_csv(cleaned_csv_file)\n",
    "print(df_cleaned.info())\n",
    "print(df_cleaned.describe())\n"
   ]
  },
  {
   "cell_type": "code",
   "execution_count": 16,
   "metadata": {},
   "outputs": [],
   "source": [
    "df['tpep_pickup_datetime'] = pd.to_datetime(df['tpep_pickup_datetime'])\n",
    "df['tpep_dropoff_datetime'] = pd.to_datetime(df['tpep_dropoff_datetime'])\n"
   ]
  },
  {
   "cell_type": "code",
   "execution_count": 17,
   "metadata": {},
   "outputs": [],
   "source": [
    "df = df[df['fare_amount'] <= 1000]  \n",
    "df = df[df['trip_duration'] <= 300]"
   ]
  },
  {
   "cell_type": "code",
   "execution_count": 18,
   "metadata": {},
   "outputs": [],
   "source": [
    "# Save cleaned data in the correct folder\n",
    "cleaned_csv_file = r\"C:\\Users\\Anthony Zambrano\\Taxis_Fare_Project\\c_y_trip_data-2022csv\\cleaned_yellow_tripdata_2022-11.csv\"\n",
    "df.to_csv(cleaned_csv_file, index=False)"
   ]
  },
  {
   "cell_type": "code",
   "execution_count": 19,
   "metadata": {},
   "outputs": [
    {
     "name": "stdout",
     "output_type": "stream",
     "text": [
      "<class 'pandas.core.frame.DataFrame'>\n",
      "RangeIndex: 3167105 entries, 0 to 3167104\n",
      "Data columns (total 30 columns):\n",
      " #   Column                 Dtype  \n",
      "---  ------                 -----  \n",
      " 0   VendorID               int64  \n",
      " 1   tpep_pickup_datetime   object \n",
      " 2   tpep_dropoff_datetime  object \n",
      " 3   passenger_count        int64  \n",
      " 4   trip_distance          float64\n",
      " 5   PULocationID           int64  \n",
      " 6   DOLocationID           int64  \n",
      " 7   fare_amount            float64\n",
      " 8   extra                  float64\n",
      " 9   mta_tax                float64\n",
      " 10  tip_amount             float64\n",
      " 11  tolls_amount           float64\n",
      " 12  improvement_surcharge  float64\n",
      " 13  total_amount           float64\n",
      " 14  congestion_surcharge   float64\n",
      " 15  airport_fee            float64\n",
      " 16  pickup_hour            int64  \n",
      " 17  pickup_day_of_week     int64  \n",
      " 18  trip_duration          float64\n",
      " 19  payment_type_1         bool   \n",
      " 20  payment_type_2         bool   \n",
      " 21  payment_type_3         bool   \n",
      " 22  payment_type_4         bool   \n",
      " 23  store_and_fwd_flag_Y   bool   \n",
      " 24  RatecodeID_2.0         bool   \n",
      " 25  RatecodeID_3.0         bool   \n",
      " 26  RatecodeID_4.0         bool   \n",
      " 27  RatecodeID_5.0         bool   \n",
      " 28  RatecodeID_6.0         bool   \n",
      " 29  RatecodeID_99.0        bool   \n",
      "dtypes: bool(11), float64(11), int64(6), object(2)\n",
      "memory usage: 492.3+ MB\n",
      "None\n",
      "           VendorID  passenger_count  trip_distance  PULocationID  \\\n",
      "count  3.167105e+06     3.167105e+06   3.167105e+06  3.167105e+06   \n",
      "mean   1.780865e+00     1.380294e+00   3.617670e+00  1.664472e+02   \n",
      "std    4.467958e-01     9.214393e-01   4.536145e+00  6.456019e+01   \n",
      "min    1.000000e+00     0.000000e+00   1.000000e-02  1.000000e+00   \n",
      "25%    2.000000e+00     1.000000e+00   1.140000e+00  1.320000e+02   \n",
      "50%    2.000000e+00     1.000000e+00   1.910000e+00  1.620000e+02   \n",
      "75%    2.000000e+00     1.000000e+00   3.640000e+00  2.340000e+02   \n",
      "max    6.000000e+00     9.000000e+00   9.865000e+01  2.650000e+02   \n",
      "\n",
      "       DOLocationID   fare_amount         extra       mta_tax    tip_amount  \\\n",
      "count  3.167105e+06  3.167105e+06  3.167105e+06  3.167105e+06  3.167105e+06   \n",
      "mean   1.638623e+02  1.515124e+01  8.531585e-01  4.962432e-01  2.865439e+00   \n",
      "std    6.970858e+01  1.343946e+01  1.153825e+00  4.333986e-02  3.199202e+00   \n",
      "min    1.000000e+00  1.000000e-02  0.000000e+00  0.000000e+00  0.000000e+00   \n",
      "25%    1.140000e+02  7.500000e+00  0.000000e+00  5.000000e-01  1.000000e+00   \n",
      "50%    1.620000e+02  1.050000e+01  5.000000e-01  5.000000e-01  2.260000e+00   \n",
      "75%    2.340000e+02  1.700000e+01  1.000000e+00  5.000000e-01  3.540000e+00   \n",
      "max    2.650000e+02  6.075000e+02  1.435000e+01  3.300000e+00  3.000000e+02   \n",
      "\n",
      "       tolls_amount  improvement_surcharge  total_amount  \\\n",
      "count  3.167105e+06           3.167105e+06  3.167105e+06   \n",
      "mean   5.818257e-01           2.999268e-01  2.215841e+01   \n",
      "std    2.093117e+00           4.686265e-03  1.712012e+01   \n",
      "min    0.000000e+00           0.000000e+00  3.100000e-01   \n",
      "25%    0.000000e+00           3.000000e-01  1.236000e+01   \n",
      "50%    0.000000e+00           3.000000e-01  1.630000e+01   \n",
      "75%    0.000000e+00           3.000000e-01  2.376000e+01   \n",
      "max    6.555500e+02           3.000000e-01  7.108500e+02   \n",
      "\n",
      "       congestion_surcharge   airport_fee   pickup_hour  pickup_day_of_week  \\\n",
      "count          3.167105e+06  3.062022e+06  3.167105e+06        3.167105e+06   \n",
      "mean           2.255887e+00  1.068232e-01  1.426774e+01        2.869783e+00   \n",
      "std            7.420852e-01  3.494536e-01  5.704985e+00        1.938764e+00   \n",
      "min            0.000000e+00  0.000000e+00  0.000000e+00        0.000000e+00   \n",
      "25%            2.500000e+00  0.000000e+00  1.100000e+01        1.000000e+00   \n",
      "50%            2.500000e+00  0.000000e+00  1.500000e+01        3.000000e+00   \n",
      "75%            2.500000e+00  0.000000e+00  1.900000e+01        5.000000e+00   \n",
      "max            2.500000e+00  1.250000e+00  2.300000e+01        6.000000e+00   \n",
      "\n",
      "       trip_duration  \n",
      "count   3.167105e+06  \n",
      "mean    1.664946e+01  \n",
      "std     1.312745e+01  \n",
      "min    -5.853333e+01  \n",
      "25%     7.983333e+00  \n",
      "50%     1.311667e+01  \n",
      "75%     2.111667e+01  \n",
      "max     2.999667e+02  \n"
     ]
    }
   ],
   "source": [
    "# Load cleaned CSV file and display summary\n",
    "df_cleaned = pd.read_csv(cleaned_csv_file)\n",
    "print(df_cleaned.info())\n",
    "print(df_cleaned.describe())\n"
   ]
  },
  {
   "cell_type": "code",
   "execution_count": 20,
   "metadata": {},
   "outputs": [],
   "source": [
    "# Load the cleaned dataset\n",
    "cleaned_csv_file = r\"C:\\Users\\Anthony Zambrano\\Taxis_Fare_Project\\c_y_trip_data-2022csv\\cleaned_yellow_tripdata_2022-11.csv\"\n",
    "df = pd.read_csv(cleaned_csv_file)"
   ]
  },
  {
   "cell_type": "code",
   "execution_count": 21,
   "metadata": {},
   "outputs": [
    {
     "name": "stdout",
     "output_type": "stream",
     "text": [
      "Before Fixing Data Types:\n",
      "VendorID                   int64\n",
      "tpep_pickup_datetime      object\n",
      "tpep_dropoff_datetime     object\n",
      "passenger_count            int64\n",
      "trip_distance            float64\n",
      "PULocationID               int64\n",
      "DOLocationID               int64\n",
      "fare_amount              float64\n",
      "extra                    float64\n",
      "mta_tax                  float64\n",
      "tip_amount               float64\n",
      "tolls_amount             float64\n",
      "improvement_surcharge    float64\n",
      "total_amount             float64\n",
      "congestion_surcharge     float64\n",
      "airport_fee              float64\n",
      "pickup_hour                int64\n",
      "pickup_day_of_week         int64\n",
      "trip_duration            float64\n",
      "payment_type_1              bool\n",
      "payment_type_2              bool\n",
      "payment_type_3              bool\n",
      "payment_type_4              bool\n",
      "store_and_fwd_flag_Y        bool\n",
      "RatecodeID_2.0              bool\n",
      "RatecodeID_3.0              bool\n",
      "RatecodeID_4.0              bool\n",
      "RatecodeID_5.0              bool\n",
      "RatecodeID_6.0              bool\n",
      "RatecodeID_99.0             bool\n",
      "dtype: object\n"
     ]
    }
   ],
   "source": [
    "# 1️⃣ Check Current Data Types\n",
    "print(\"Before Fixing Data Types:\")\n",
    "print(df.dtypes)\n"
   ]
  },
  {
   "cell_type": "code",
   "execution_count": 22,
   "metadata": {},
   "outputs": [],
   "source": [
    "# 2️⃣ Convert datetime columns if they are still objects\n",
    "df['tpep_pickup_datetime'] = pd.to_datetime(df['tpep_pickup_datetime'], errors='coerce')\n",
    "df['tpep_dropoff_datetime'] = pd.to_datetime(df['tpep_dropoff_datetime'], errors='coerce')"
   ]
  },
  {
   "cell_type": "code",
   "execution_count": 23,
   "metadata": {},
   "outputs": [
    {
     "name": "stdout",
     "output_type": "stream",
     "text": [
      "\n",
      "Unique values in 'payment_type_1' before fixing:\n",
      "[False  True]\n"
     ]
    }
   ],
   "source": [
    "# 3️⃣ Check `payment_type_1` values\n",
    "print(\"\\nUnique values in 'payment_type_1' before fixing:\")\n",
    "print(df['payment_type_1'].unique())\n"
   ]
  },
  {
   "cell_type": "code",
   "execution_count": 24,
   "metadata": {},
   "outputs": [],
   "source": [
    "# Convert to boolean (if not already)\n",
    "df['payment_type_1'] = df['payment_type_1'].astype(bool)"
   ]
  },
  {
   "cell_type": "code",
   "execution_count": 25,
   "metadata": {},
   "outputs": [],
   "source": [
    "# 4️⃣ Save the updated cleaned dataset\n",
    "df.to_csv(cleaned_csv_file, index=False)"
   ]
  },
  {
   "cell_type": "code",
   "execution_count": 26,
   "metadata": {},
   "outputs": [
    {
     "name": "stdout",
     "output_type": "stream",
     "text": [
      "\n",
      "After Fixing Data Types:\n",
      "VendorID                          int64\n",
      "tpep_pickup_datetime     datetime64[ns]\n",
      "tpep_dropoff_datetime    datetime64[ns]\n",
      "passenger_count                   int64\n",
      "trip_distance                   float64\n",
      "PULocationID                      int64\n",
      "DOLocationID                      int64\n",
      "fare_amount                     float64\n",
      "extra                           float64\n",
      "mta_tax                         float64\n",
      "tip_amount                      float64\n",
      "tolls_amount                    float64\n",
      "improvement_surcharge           float64\n",
      "total_amount                    float64\n",
      "congestion_surcharge            float64\n",
      "airport_fee                     float64\n",
      "pickup_hour                       int64\n",
      "pickup_day_of_week                int64\n",
      "trip_duration                   float64\n",
      "payment_type_1                     bool\n",
      "payment_type_2                     bool\n",
      "payment_type_3                     bool\n",
      "payment_type_4                     bool\n",
      "store_and_fwd_flag_Y               bool\n",
      "RatecodeID_2.0                     bool\n",
      "RatecodeID_3.0                     bool\n",
      "RatecodeID_4.0                     bool\n",
      "RatecodeID_5.0                     bool\n",
      "RatecodeID_6.0                     bool\n",
      "RatecodeID_99.0                    bool\n",
      "dtype: object\n"
     ]
    }
   ],
   "source": [
    "# 5️⃣ Confirm the changes\n",
    "print(\"\\nAfter Fixing Data Types:\")\n",
    "print(df.dtypes)"
   ]
  },
  {
   "cell_type": "code",
   "execution_count": 28,
   "metadata": {},
   "outputs": [],
   "source": [
    "import pandas as pd\n",
    "\n",
    "# Path to the cleaned data file\n",
    "file_path = r\"C:\\Users\\Anthony Zambrano\\Taxis_Fare_Project\\c_y_trip_data-2022csv\\cleaned_yellow_tripdata_2022-11.csv\"\n"
   ]
  },
  {
   "cell_type": "code",
   "execution_count": 29,
   "metadata": {},
   "outputs": [
    {
     "name": "stderr",
     "output_type": "stream",
     "text": [
      "C:\\Users\\Anthony Zambrano\\AppData\\Local\\Temp\\ipykernel_10180\\1115043702.py:2: DtypeWarning: Columns (6,18,29) have mixed types. Specify dtype option on import or set low_memory=False.\n",
      "  df = pd.read_csv(file_path, parse_dates=['tpep_pickup_datetime', 'tpep_dropoff_datetime'])\n"
     ]
    }
   ],
   "source": [
    "# Load the cleaned dataset\n",
    "df = pd.read_csv(file_path, parse_dates=['tpep_pickup_datetime', 'tpep_dropoff_datetime'])"
   ]
  },
  {
   "cell_type": "code",
   "execution_count": 30,
   "metadata": {},
   "outputs": [],
   "source": [
    "# Filter out incorrect datetime values (remove rows before 2022)\n",
    "df = df[df['tpep_pickup_datetime'].dt.year >= 2022]"
   ]
  },
  {
   "cell_type": "code",
   "execution_count": 31,
   "metadata": {},
   "outputs": [],
   "source": [
    "# Remove rows where passenger_count == 0\n",
    "df = df[df['passenger_count'] > 0]\n"
   ]
  },
  {
   "cell_type": "code",
   "execution_count": 32,
   "metadata": {},
   "outputs": [],
   "source": [
    "# Remove trips with trip_distance < 0.1\n",
    "df = df[df['trip_distance'] >= 0.1]"
   ]
  },
  {
   "cell_type": "code",
   "execution_count": 33,
   "metadata": {},
   "outputs": [],
   "source": [
    "# Save the changes to the same file\n",
    "df.to_csv(file_path, index=False)\n"
   ]
  },
  {
   "cell_type": "code",
   "execution_count": 34,
   "metadata": {},
   "outputs": [
    {
     "name": "stdout",
     "output_type": "stream",
     "text": [
      "           VendorID           tpep_pickup_datetime  \\\n",
      "count  3.111020e+06                        3111020   \n",
      "mean   1.791797e+00  2022-11-15 08:58:38.891319296   \n",
      "min    1.000000e+00            2022-10-31 22:53:47   \n",
      "25%    2.000000e+00            2022-11-07 17:43:20   \n",
      "50%    2.000000e+00            2022-11-14 13:26:42   \n",
      "75%    2.000000e+00            2022-11-22 19:48:53   \n",
      "max    6.000000e+00            2022-12-01 23:55:39   \n",
      "std    4.403186e-01                            NaN   \n",
      "\n",
      "               tpep_dropoff_datetime  passenger_count  trip_distance  \\\n",
      "count                        3111020     3.111020e+06   3.111020e+06   \n",
      "mean   2022-11-15 09:15:21.672471808     1.400555e+00   3.636215e+00   \n",
      "min              2022-10-31 23:15:54     1.000000e+00   1.000000e-01   \n",
      "25%              2022-11-07 18:02:00     1.000000e+00   1.150000e+00   \n",
      "50%              2022-11-14 13:44:02     1.000000e+00   1.920000e+00   \n",
      "75%              2022-11-22 20:05:31     1.000000e+00   3.660000e+00   \n",
      "max              2022-12-02 00:07:25     8.000000e+00   9.865000e+01   \n",
      "std                              NaN     9.125415e-01   4.545161e+00   \n",
      "\n",
      "       PULocationID   fare_amount         extra       mta_tax    tip_amount  \\\n",
      "count  3.111020e+06  3.111020e+06  3.111020e+06  3.111020e+06  3.111020e+06   \n",
      "mean   1.664465e+02  1.513513e+01  8.271359e-01  4.966001e-01  2.868777e+00   \n",
      "min    1.000000e+00  1.000000e-02  0.000000e+00  0.000000e+00  0.000000e+00   \n",
      "25%    1.320000e+02  7.500000e+00  0.000000e+00  5.000000e-01  1.000000e+00   \n",
      "50%    1.620000e+02  1.050000e+01  5.000000e-01  5.000000e-01  2.260000e+00   \n",
      "75%    2.340000e+02  1.700000e+01  1.000000e+00  5.000000e-01  3.550000e+00   \n",
      "max    2.650000e+02  6.075000e+02  1.435000e+01  3.300000e+00  3.000000e+02   \n",
      "std    6.456987e+01  1.334375e+01  1.136962e+00  4.121478e-02  3.185919e+00   \n",
      "\n",
      "       tolls_amount  improvement_surcharge  total_amount  \\\n",
      "count  3.111020e+06           3.111020e+06  3.111020e+06   \n",
      "mean   5.849051e-01           2.999374e-01  2.215236e+01   \n",
      "min    0.000000e+00           0.000000e+00  3.100000e-01   \n",
      "25%    0.000000e+00           3.000000e-01  1.236000e+01   \n",
      "50%    0.000000e+00           3.000000e-01  1.644000e+01   \n",
      "75%    0.000000e+00           3.000000e-01  2.376000e+01   \n",
      "max    6.555500e+02           1.350000e+01  7.108500e+02   \n",
      "std    2.097131e+00           8.720754e-03  1.704308e+01   \n",
      "\n",
      "       congestion_surcharge   airport_fee   pickup_hour  pickup_day_of_week  \n",
      "count          3.111020e+06  3.006127e+06  3.111020e+06        3.111020e+06  \n",
      "mean           2.257115e+00  1.070338e-01  1.427203e+01        2.870317e+00  \n",
      "min            0.000000e+00  0.000000e+00  0.000000e+00        0.000000e+00  \n",
      "25%            2.500000e+00  0.000000e+00  1.100000e+01        1.000000e+00  \n",
      "50%            2.500000e+00  0.000000e+00  1.500000e+01        3.000000e+00  \n",
      "75%            2.500000e+00  0.000000e+00  1.900000e+01        5.000000e+00  \n",
      "max            2.500000e+00  1.600000e+01  2.300000e+01        7.883333e+00  \n",
      "std            7.404173e-01  3.498780e-01  5.712298e+00        1.938671e+00  \n",
      "VendorID                          int64\n",
      "tpep_pickup_datetime     datetime64[ns]\n",
      "tpep_dropoff_datetime    datetime64[ns]\n",
      "passenger_count                   int64\n",
      "trip_distance                   float64\n",
      "PULocationID                      int64\n",
      "DOLocationID                     object\n",
      "fare_amount                     float64\n",
      "extra                           float64\n",
      "mta_tax                         float64\n",
      "tip_amount                      float64\n",
      "tolls_amount                    float64\n",
      "improvement_surcharge           float64\n",
      "total_amount                    float64\n",
      "congestion_surcharge            float64\n",
      "airport_fee                     float64\n",
      "pickup_hour                       int64\n",
      "pickup_day_of_week              float64\n",
      "trip_duration                    object\n",
      "payment_type_1                     bool\n",
      "payment_type_2                     bool\n",
      "payment_type_3                     bool\n",
      "payment_type_4                     bool\n",
      "store_and_fwd_flag_Y               bool\n",
      "RatecodeID_2.0                     bool\n",
      "RatecodeID_3.0                     bool\n",
      "RatecodeID_4.0                     bool\n",
      "RatecodeID_5.0                     bool\n",
      "RatecodeID_6.0                     bool\n",
      "RatecodeID_99.0                  object\n",
      "dtype: object\n",
      "   VendorID tpep_pickup_datetime tpep_dropoff_datetime  passenger_count  \\\n",
      "0         1  2022-11-01 00:51:22   2022-11-01 00:56:24                1   \n",
      "3         1  2022-11-01 00:24:49   2022-11-01 00:31:04                2   \n",
      "4         1  2022-11-01 00:37:32   2022-11-01 00:42:23                2   \n",
      "5         1  2022-11-01 00:48:53   2022-11-01 01:02:00                2   \n",
      "6         2  2022-11-01 00:13:50   2022-11-01 00:23:06                1   \n",
      "\n",
      "   trip_distance  PULocationID DOLocationID  fare_amount  extra  mta_tax  ...  \\\n",
      "0           0.60           151          151          4.5    0.5      0.5  ...   \n",
      "3           1.00           158          113          6.0    3.0      0.5  ...   \n",
      "4           0.80           249          158          5.5    3.0      0.5  ...   \n",
      "5           2.50           158          230         11.0    3.0      0.5  ...   \n",
      "6           2.04           161          137          9.0    0.5      0.5  ...   \n",
      "\n",
      "   payment_type_2  payment_type_3  payment_type_4  store_and_fwd_flag_Y  \\\n",
      "0            True           False           False                 False   \n",
      "3           False           False           False                 False   \n",
      "4            True           False           False                 False   \n",
      "5           False           False           False                 False   \n",
      "6            True           False           False                 False   \n",
      "\n",
      "   RatecodeID_2.0  RatecodeID_3.0  RatecodeID_4.0  RatecodeID_5.0  \\\n",
      "0           False           False           False           False   \n",
      "3           False           False           False           False   \n",
      "4           False           False           False           False   \n",
      "5           False           False           False           False   \n",
      "6           False           False           False           False   \n",
      "\n",
      "  RatecodeID_6.0  RatecodeID_99.0  \n",
      "0          False            False  \n",
      "3          False            False  \n",
      "4          False            False  \n",
      "5          False            False  \n",
      "6          False            False  \n",
      "\n",
      "[5 rows x 30 columns]\n"
     ]
    }
   ],
   "source": [
    "# Verify changes\n",
    "print(df.describe())\n",
    "print(df.dtypes)\n",
    "print(df.head())"
   ]
  },
  {
   "cell_type": "markdown",
   "metadata": {},
   "source": [
    "Resumen en Español:\n",
    "Carga del Dataset:\n",
    "\n",
    "Se cargó el archivo CSV utilizando la librería pandas.\n",
    "Revisión Inicial de los Datos:\n",
    "\n",
    "Se inspeccionaron las primeras filas del dataset para tener una idea general de los datos.\n",
    "Identificación y Manejo de Valores Nulos:\n",
    "\n",
    "Se verificó si había valores nulos en las columnas y se decidió si eliminarlos o reemplazarlos con la media, mediana u otro valor.\n",
    "Conversión de Tipos de Datos:\n",
    "\n",
    "Las columnas de fecha y hora (tpep_pickup_datetime y tpep_dropoff_datetime) se convirtieron al formato adecuado usando pd.to_datetime().\n",
    "Manejo de Valores Atípicos o Extremos:\n",
    "\n",
    "Se revisaron columnas como fare_amount, trip_distance y tip_amount para detectar valores extremos, y se gestionaron de acuerdo con el contexto.\n",
    "Formateo de Celdas:\n",
    "\n",
    "Se verificó que las columnas numéricas, como VendorID, estuvieran en el formato correcto.\n",
    "Eliminación de Duplicados:\n",
    "\n",
    "Se eliminaron las filas duplicadas para evitar distorsiones en el análisis.\n",
    "Creación de Nuevas Variables:\n",
    "\n",
    "Se crearon nuevas columnas como trip_duration (duración del viaje) a partir de las fechas de recogida y entrega.\n",
    "Validación Final:\n",
    "\n",
    "Se validó que los datos estuvieran correctamente formateados y listos para su análisis o modelado.\n",
    "Guardado del Dataset Limpio:\n",
    "\n",
    "Se guardó el dataset limpio en un nuevo archivo CSV.\n",
    "Summary in English:\n",
    "Loading the Dataset:\n",
    "\n",
    "The CSV file was loaded using the pandas library.\n",
    "Initial Data Review:\n",
    "\n",
    "The first rows of the dataset were inspected to get an overview of the data.\n",
    "Identifying and Handling Missing Values:\n",
    "\n",
    "Checked for missing values in the columns and decided whether to remove or replace them with the mean, median, or another value.\n",
    "Data Type Conversion:\n",
    "\n",
    "The tpep_pickup_datetime and tpep_dropoff_datetime columns were converted to the appropriate datetime format using pd.to_datetime().\n",
    "Handling Outliers or Extreme Values:\n",
    "\n",
    "Columns like fare_amount, trip_distance, and tip_amount were reviewed for extreme values and handled according to the context.\n",
    "Cell Formatting:\n",
    "\n",
    "Checked that numeric columns like VendorID were in the correct format.\n",
    "Removing Duplicates:\n",
    "\n",
    "Duplicate rows were removed to avoid distorting the analysis.\n",
    "Creating New Variables:\n",
    "\n",
    "New columns such as trip_duration (trip duration) were created from the pickup and drop-off dates.\n",
    "Final Validation:\n",
    "\n",
    "Ensured the data was properly formatted and ready for analysis or modeling.\n",
    "Saving the Cleaned Dataset:\n",
    "\n",
    "The cleaned dataset was saved to a new CSV file."
   ]
  },
  {
   "cell_type": "markdown",
   "metadata": {},
   "source": [
    "December"
   ]
  },
  {
   "cell_type": "code",
   "execution_count": 1,
   "metadata": {},
   "outputs": [
    {
     "name": "stderr",
     "output_type": "stream",
     "text": [
      "C:\\Users\\Anthony Zambrano\\AppData\\Local\\Temp\\ipykernel_11704\\1511750297.py:7: DtypeWarning: Columns (6) have mixed types. Specify dtype option on import or set low_memory=False.\n",
      "  df = pd.read_csv(input_file)\n"
     ]
    }
   ],
   "source": [
    "import pandas as pd\n",
    "\n",
    "# Path to the .csv file\n",
    "input_file = r'C:\\Users\\Anthony Zambrano\\Taxis_Fare_Project\\y_trip_data-2022csv\\yellow_tripdata_2022-12.csv'\n",
    "\n",
    "# Load the CSV file\n",
    "df = pd.read_csv(input_file)"
   ]
  },
  {
   "cell_type": "code",
   "execution_count": 2,
   "metadata": {},
   "outputs": [],
   "source": [
    "# Step 1: Remove duplicates\n",
    "df = df.drop_duplicates()\n"
   ]
  },
  {
   "cell_type": "code",
   "execution_count": 3,
   "metadata": {},
   "outputs": [],
   "source": [
    "# Step 2: Handle missing values\n",
    "# If the 'passenger_count' column has missing values, we fill them with the mean\n",
    "df['passenger_count'] = df['passenger_count'].fillna(df['passenger_count'].mean())\n"
   ]
  },
  {
   "cell_type": "code",
   "execution_count": 4,
   "metadata": {},
   "outputs": [],
   "source": [
    "# For other columns with missing values, we can fill them or drop them\n",
    "# Fill missing values in the 'fare_amount' column with the median\n",
    "df['fare_amount'] = df['fare_amount'].fillna(df['fare_amount'].median())"
   ]
  },
  {
   "cell_type": "code",
   "execution_count": 5,
   "metadata": {},
   "outputs": [],
   "source": [
    "# Drop any rows with missing values in essential columns\n",
    "df = df.dropna(subset=['tpep_pickup_datetime', 'tpep_dropoff_datetime', 'trip_distance'])"
   ]
  },
  {
   "cell_type": "code",
   "execution_count": 6,
   "metadata": {},
   "outputs": [],
   "source": [
    "# Step 3: Convert data types\n",
    "df['tpep_pickup_datetime'] = pd.to_datetime(df['tpep_pickup_datetime'], errors='coerce')  # Convert to datetime\n",
    "df['tpep_dropoff_datetime'] = pd.to_datetime(df['tpep_dropoff_datetime'], errors='coerce')  # Convert to datetime\n",
    "df['passenger_count'] = df['passenger_count'].astype(int)  # Convert 'passenger_count' to integer\n",
    "df['trip_distance'] = df['trip_distance'].astype(float)  # Ensure 'trip_distance' is float"
   ]
  },
  {
   "cell_type": "code",
   "execution_count": 7,
   "metadata": {},
   "outputs": [],
   "source": [
    "# Step 4: Filter out erroneous values\n",
    "df = df[df['trip_distance'] >= 0]  # Remove negative trip distances\n"
   ]
  },
  {
   "cell_type": "code",
   "execution_count": 8,
   "metadata": {},
   "outputs": [],
   "source": [
    "# Step 5: Check for outliers\n",
    "# Use the IQR (Interquartile Range) method to detect outliers in 'fare_amount'\n",
    "Q1 = df['fare_amount'].quantile(0.25)\n",
    "Q3 = df['fare_amount'].quantile(0.75)\n",
    "IQR = Q3 - Q1\n",
    "lower_bound = Q1 - 1.5 * IQR\n",
    "upper_bound = Q3 + 1.5 * IQR\n",
    "df = df[(df['fare_amount'] >= lower_bound) & (df['fare_amount'] <= upper_bound)]  # Remove outliers in 'fare_amount'"
   ]
  },
  {
   "cell_type": "code",
   "execution_count": 9,
   "metadata": {},
   "outputs": [],
   "source": [
    "# Step 6: Handle categorical data\n",
    "# Ensure categorical columns like 'VendorID' are properly formatted\n",
    "df['VendorID'] = df['VendorID'].astype('category')  # Convert 'VendorID' to categorical type"
   ]
  },
  {
   "cell_type": "code",
   "execution_count": 10,
   "metadata": {},
   "outputs": [],
   "source": [
    "# Step 7: Verify date columns (to avoid erroneous date values)\n",
    "df = df[df['tpep_pickup_datetime'] < df['tpep_dropoff_datetime']]  # Ensure pickup date is before dropoff date"
   ]
  },
  {
   "cell_type": "code",
   "execution_count": 11,
   "metadata": {},
   "outputs": [],
   "source": [
    "# Step 8: Rename columns for better readability\n",
    "df.rename(columns={'tpep_pickup_datetime': 'pickup_datetime', 'tpep_dropoff_datetime': 'dropoff_datetime'}, inplace=True)"
   ]
  },
  {
   "cell_type": "code",
   "execution_count": 12,
   "metadata": {},
   "outputs": [],
   "source": [
    "# Step 9: Check for duplicate records in key columns (such as 'pickup_datetime', 'trip_distance')\n",
    "df = df.drop_duplicates(subset=['pickup_datetime', 'trip_distance'])"
   ]
  },
  {
   "cell_type": "code",
   "execution_count": 13,
   "metadata": {},
   "outputs": [
    {
     "name": "stdout",
     "output_type": "stream",
     "text": [
      "Cleaned data saved to: C:\\Users\\Anthony Zambrano\\Taxis_Fare_Project\\c_y_trip_data-2022csv\\cleaned_yellow_tripdata_2022-12.csv\n"
     ]
    }
   ],
   "source": [
    "# Save the cleaned file to the correct path\n",
    "output_file = r'C:\\Users\\Anthony Zambrano\\Taxis_Fare_Project\\c_y_trip_data-2022csv\\cleaned_yellow_tripdata_2022-12.csv'\n",
    "df.to_csv(output_file, index=False)\n",
    "\n",
    "print(f'Cleaned data saved to: {output_file}')"
   ]
  },
  {
   "cell_type": "code",
   "execution_count": 14,
   "metadata": {},
   "outputs": [],
   "source": [
    "import pandas as pd\n",
    "\n",
    "# Path to the cleaned file\n",
    "cleaned_file = r'C:\\Users\\Anthony Zambrano\\Taxis_Fare_Project\\c_y_trip_data-2022csv\\cleaned_yellow_tripdata_2022-12.csv'\n"
   ]
  },
  {
   "cell_type": "code",
   "execution_count": 15,
   "metadata": {},
   "outputs": [
    {
     "name": "stderr",
     "output_type": "stream",
     "text": [
      "C:\\Users\\Anthony Zambrano\\AppData\\Local\\Temp\\ipykernel_11704\\804280871.py:2: DtypeWarning: Columns (6) have mixed types. Specify dtype option on import or set low_memory=False.\n",
      "  df_cleaned = pd.read_csv(cleaned_file)\n"
     ]
    }
   ],
   "source": [
    "# Load the cleaned data\n",
    "df_cleaned = pd.read_csv(cleaned_file)"
   ]
  },
  {
   "cell_type": "code",
   "execution_count": 16,
   "metadata": {},
   "outputs": [
    {
     "name": "stdout",
     "output_type": "stream",
     "text": [
      "First 5 rows of the cleaned data:\n",
      "   VendorID      pickup_datetime     dropoff_datetime  passenger_count  \\\n",
      "0         1  2022-12-01 00:37:35  2022-12-01 00:47:35                1   \n",
      "1         1  2022-12-01 00:34:35  2022-12-01 00:55:21                0   \n",
      "2         1  2022-12-01 00:33:26  2022-12-01 00:37:34                1   \n",
      "3         1  2022-12-01 00:45:51  2022-12-01 00:53:16                1   \n",
      "4         2  2022-12-01 00:49:49  2022-12-01 00:54:13                1   \n",
      "\n",
      "   trip_distance  RatecodeID store_and_fwd_flag  PULocationID  DOLocationID  \\\n",
      "0           2.00         1.0                  N           170           237   \n",
      "1           8.40         1.0                  N           138           141   \n",
      "2           0.80         1.0                  N           140           140   \n",
      "3           3.00         1.0                  N           141            79   \n",
      "4           0.76         1.0                  N           261           231   \n",
      "\n",
      "   payment_type  fare_amount  extra  mta_tax  tip_amount  tolls_amount  \\\n",
      "0             1          8.5   3.00      0.5        3.10           0.0   \n",
      "1             2         26.0   4.25      0.5        0.00           0.0   \n",
      "2             1          5.0   3.00      0.5        1.76           0.0   \n",
      "3             3         10.0   3.00      0.5        0.00           0.0   \n",
      "4             1          5.0   0.50      0.5        1.76           0.0   \n",
      "\n",
      "   improvement_surcharge  total_amount  congestion_surcharge  airport_fee  \n",
      "0                    0.3         15.40                   2.5         0.00  \n",
      "1                    0.3         31.05                   2.5         1.25  \n",
      "2                    0.3         10.56                   2.5         0.00  \n",
      "3                    0.3         13.80                   2.5         0.00  \n",
      "4                    0.3         10.56                   2.5         0.00  \n"
     ]
    }
   ],
   "source": [
    "# Display the first few rows to inspect the data\n",
    "print(\"First 5 rows of the cleaned data:\")\n",
    "print(df_cleaned.head())\n"
   ]
  },
  {
   "cell_type": "code",
   "execution_count": 17,
   "metadata": {},
   "outputs": [
    {
     "name": "stdout",
     "output_type": "stream",
     "text": [
      "\n",
      "Summary statistics of the cleaned data:\n",
      "           VendorID  passenger_count  trip_distance    RatecodeID  \\\n",
      "count  3.029596e+06     3.029596e+06   3.029596e+06  2.923926e+06   \n",
      "mean   1.716225e+00     1.390444e+00   3.441477e+00  1.278773e+00   \n",
      "std    4.513779e-01     9.332121e-01   3.483822e+02  5.121208e+00   \n",
      "min    1.000000e+00     0.000000e+00   0.000000e+00  1.000000e+00   \n",
      "25%    1.000000e+00     1.000000e+00   1.020000e+00  1.000000e+00   \n",
      "50%    2.000000e+00     1.000000e+00   1.700000e+00  1.000000e+00   \n",
      "75%    2.000000e+00     1.000000e+00   2.900000e+00  1.000000e+00   \n",
      "max    6.000000e+00     9.000000e+00   2.227304e+05  9.900000e+01   \n",
      "\n",
      "       PULocationID  DOLocationID  payment_type   fare_amount         extra  \\\n",
      "count  3.029596e+06  3.029596e+06  3.029596e+06  3.029596e+06  3.029596e+06   \n",
      "mean   1.674337e+02  1.647414e+02  1.186774e+00  1.288428e+01  1.127850e+00   \n",
      "std    6.606953e+01  6.958365e+01  5.168765e-01  7.322857e+00  1.344207e+00   \n",
      "min    1.000000e+00  1.000000e+00  0.000000e+00 -9.300000e+00 -7.500000e+00   \n",
      "25%    1.320000e+02  1.140000e+02  1.000000e+00  7.500000e+00  0.000000e+00   \n",
      "50%    1.620000e+02  1.620000e+02  1.000000e+00  1.100000e+01  5.000000e-01   \n",
      "75%    2.360000e+02  2.340000e+02  1.000000e+00  1.630000e+01  2.500000e+00   \n",
      "max    2.650000e+02  2.650000e+02  4.000000e+00  3.690000e+01  1.225000e+01   \n",
      "\n",
      "            mta_tax    tip_amount  tolls_amount  improvement_surcharge  \\\n",
      "count  3.029596e+06  3.029596e+06  3.029596e+06           3.029596e+06   \n",
      "mean   4.949441e-01  2.496070e+00  1.803599e-01           5.262167e-01   \n",
      "std    7.393314e-02  2.442836e+00  1.126468e+00           3.374053e-01   \n",
      "min   -5.000000e-01 -1.100000e+02 -2.030000e+01          -1.000000e+00   \n",
      "25%    5.000000e-01  1.000000e+00  0.000000e+00           3.000000e-01   \n",
      "50%    5.000000e-01  2.260000e+00  0.000000e+00           3.000000e-01   \n",
      "75%    5.000000e-01  3.540000e+00  0.000000e+00           1.000000e+00   \n",
      "max    4.000000e+00  7.865600e+02  1.460000e+02           1.000000e+00   \n",
      "\n",
      "       total_amount  congestion_surcharge   airport_fee  \n",
      "count  3.029596e+06          2.923926e+06  2.923926e+06  \n",
      "mean   1.944863e+01          2.351078e+00  4.102062e-02  \n",
      "std    9.430679e+00          6.290707e-01  2.248182e-01  \n",
      "min   -1.188000e+02         -2.500000e+00 -1.250000e+00  \n",
      "25%    1.296000e+01          2.500000e+00  0.000000e+00  \n",
      "50%    1.716000e+01          2.500000e+00  0.000000e+00  \n",
      "75%    2.350000e+01          2.500000e+00  0.000000e+00  \n",
      "max    8.061600e+02          2.500000e+00  1.250000e+00  \n"
     ]
    }
   ],
   "source": [
    "# Show basic summary statistics to check for any obvious issues\n",
    "print(\"\\nSummary statistics of the cleaned data:\")\n",
    "print(df_cleaned.describe())\n"
   ]
  },
  {
   "cell_type": "code",
   "execution_count": 18,
   "metadata": {},
   "outputs": [
    {
     "name": "stdout",
     "output_type": "stream",
     "text": [
      "\n",
      "Missing values in each column:\n",
      "VendorID                      0\n",
      "pickup_datetime               0\n",
      "dropoff_datetime              0\n",
      "passenger_count               0\n",
      "trip_distance                 0\n",
      "RatecodeID               105670\n",
      "store_and_fwd_flag       105670\n",
      "PULocationID                  0\n",
      "DOLocationID                  0\n",
      "payment_type                  0\n",
      "fare_amount                   0\n",
      "extra                         0\n",
      "mta_tax                       0\n",
      "tip_amount                    0\n",
      "tolls_amount                  0\n",
      "improvement_surcharge         0\n",
      "total_amount                  0\n",
      "congestion_surcharge     105670\n",
      "airport_fee              105670\n",
      "dtype: int64\n"
     ]
    }
   ],
   "source": [
    "# Check for missing values to ensure no essential data is missing\n",
    "print(\"\\nMissing values in each column:\")\n",
    "print(df_cleaned.isnull().sum())"
   ]
  },
  {
   "cell_type": "code",
   "execution_count": 19,
   "metadata": {},
   "outputs": [
    {
     "name": "stdout",
     "output_type": "stream",
     "text": [
      "\n",
      "Data types of the columns:\n",
      "VendorID                   int64\n",
      "pickup_datetime           object\n",
      "dropoff_datetime          object\n",
      "passenger_count            int64\n",
      "trip_distance            float64\n",
      "RatecodeID               float64\n",
      "store_and_fwd_flag        object\n",
      "PULocationID               int64\n",
      "DOLocationID               int64\n",
      "payment_type               int64\n",
      "fare_amount              float64\n",
      "extra                    float64\n",
      "mta_tax                  float64\n",
      "tip_amount               float64\n",
      "tolls_amount             float64\n",
      "improvement_surcharge    float64\n",
      "total_amount             float64\n",
      "congestion_surcharge     float64\n",
      "airport_fee              float64\n",
      "dtype: object\n"
     ]
    }
   ],
   "source": [
    "# Check data types to ensure everything is properly formatted\n",
    "print(\"\\nData types of the columns:\")\n",
    "print(df_cleaned.dtypes)\n"
   ]
  },
  {
   "cell_type": "code",
   "execution_count": 20,
   "metadata": {},
   "outputs": [
    {
     "name": "stdout",
     "output_type": "stream",
     "text": [
      "\n",
      "Number of duplicate rows:\n",
      "0\n"
     ]
    }
   ],
   "source": [
    "# Check for duplicate rows (just in case any duplicates were missed)\n",
    "print(\"\\nNumber of duplicate rows:\")\n",
    "print(df_cleaned.duplicated().sum())"
   ]
  },
  {
   "cell_type": "code",
   "execution_count": 21,
   "metadata": {},
   "outputs": [
    {
     "name": "stdout",
     "output_type": "stream",
     "text": [
      "\n",
      "Check if pickup datetime is earlier than dropoff datetime:\n",
      "Empty DataFrame\n",
      "Columns: [VendorID, pickup_datetime, dropoff_datetime, passenger_count, trip_distance, RatecodeID, store_and_fwd_flag, PULocationID, DOLocationID, payment_type, fare_amount, extra, mta_tax, tip_amount, tolls_amount, improvement_surcharge, total_amount, congestion_surcharge, airport_fee]\n",
      "Index: []\n"
     ]
    }
   ],
   "source": [
    "# Verify if the dates are correct by checking if pickup time is earlier than dropoff time\n",
    "print(\"\\nCheck if pickup datetime is earlier than dropoff datetime:\")\n",
    "print(df_cleaned[df_cleaned['pickup_datetime'] > df_cleaned['dropoff_datetime']])"
   ]
  },
  {
   "cell_type": "code",
   "execution_count": 23,
   "metadata": {},
   "outputs": [],
   "source": [
    "# Convert date columns to datetime format\n",
    "df_cleaned['pickup_datetime'] = pd.to_datetime(df_cleaned['pickup_datetime'])\n",
    "df_cleaned['dropoff_datetime'] = pd.to_datetime(df_cleaned['dropoff_datetime'])"
   ]
  },
  {
   "cell_type": "code",
   "execution_count": 24,
   "metadata": {},
   "outputs": [
    {
     "name": "stderr",
     "output_type": "stream",
     "text": [
      "C:\\Users\\Anthony Zambrano\\AppData\\Local\\Temp\\ipykernel_11704\\3254117826.py:2: FutureWarning: A value is trying to be set on a copy of a DataFrame or Series through chained assignment using an inplace method.\n",
      "The behavior will change in pandas 3.0. This inplace method will never work because the intermediate object on which we are setting values always behaves as a copy.\n",
      "\n",
      "For example, when doing 'df[col].method(value, inplace=True)', try using 'df.method({col: value}, inplace=True)' or df[col] = df[col].method(value) instead, to perform the operation inplace on the original object.\n",
      "\n",
      "\n",
      "  df_cleaned['RatecodeID'].fillna(1, inplace=True)  # Assuming '1' is a valid default value\n",
      "C:\\Users\\Anthony Zambrano\\AppData\\Local\\Temp\\ipykernel_11704\\3254117826.py:3: FutureWarning: A value is trying to be set on a copy of a DataFrame or Series through chained assignment using an inplace method.\n",
      "The behavior will change in pandas 3.0. This inplace method will never work because the intermediate object on which we are setting values always behaves as a copy.\n",
      "\n",
      "For example, when doing 'df[col].method(value, inplace=True)', try using 'df.method({col: value}, inplace=True)' or df[col] = df[col].method(value) instead, to perform the operation inplace on the original object.\n",
      "\n",
      "\n",
      "  df_cleaned['store_and_fwd_flag'].fillna('N', inplace=True)  # 'N' could be the default value if it's a flag\n"
     ]
    }
   ],
   "source": [
    "# Fill missing values in RatecodeID and store_and_fwd_flag with a default value\n",
    "df_cleaned['RatecodeID'].fillna(1, inplace=True)  # Assuming '1' is a valid default value\n",
    "df_cleaned['store_and_fwd_flag'].fillna('N', inplace=True)  # 'N' could be the default value if it's a flag"
   ]
  },
  {
   "cell_type": "code",
   "execution_count": 25,
   "metadata": {},
   "outputs": [],
   "source": [
    "# Drop rows with missing values in critical columns\n",
    "df_cleaned.dropna(subset=['RatecodeID', 'store_and_fwd_flag', 'congestion_surcharge', 'airport_fee'], inplace=True)"
   ]
  },
  {
   "cell_type": "code",
   "execution_count": 26,
   "metadata": {},
   "outputs": [],
   "source": [
    "# Filter trip_distance values greater than a threshold\n",
    "df_cleaned = df_cleaned[df_cleaned['trip_distance'] <= 100]  # Any value greater than 100 could be considered an outlier\n",
    "\n",
    "# Filter out negative fare_amount values (they shouldn't be possible)\n",
    "df_cleaned = df_cleaned[df_cleaned['fare_amount'] >= 0]  # Remove rows with negative fare_amount"
   ]
  },
  {
   "cell_type": "code",
   "execution_count": 27,
   "metadata": {},
   "outputs": [
    {
     "name": "stdout",
     "output_type": "stream",
     "text": [
      "VendorID                          int64\n",
      "pickup_datetime          datetime64[ns]\n",
      "dropoff_datetime         datetime64[ns]\n",
      "passenger_count                   int64\n",
      "trip_distance                   float64\n",
      "RatecodeID                      float64\n",
      "store_and_fwd_flag               object\n",
      "PULocationID                      int64\n",
      "DOLocationID                      int64\n",
      "payment_type                      int64\n",
      "fare_amount                     float64\n",
      "extra                           float64\n",
      "mta_tax                         float64\n",
      "tip_amount                      float64\n",
      "tolls_amount                    float64\n",
      "improvement_surcharge           float64\n",
      "total_amount                    float64\n",
      "congestion_surcharge            float64\n",
      "airport_fee                     float64\n",
      "dtype: object\n",
      "VendorID                 0\n",
      "pickup_datetime          0\n",
      "dropoff_datetime         0\n",
      "passenger_count          0\n",
      "trip_distance            0\n",
      "RatecodeID               0\n",
      "store_and_fwd_flag       0\n",
      "PULocationID             0\n",
      "DOLocationID             0\n",
      "payment_type             0\n",
      "fare_amount              0\n",
      "extra                    0\n",
      "mta_tax                  0\n",
      "tip_amount               0\n",
      "tolls_amount             0\n",
      "improvement_surcharge    0\n",
      "total_amount             0\n",
      "congestion_surcharge     0\n",
      "airport_fee              0\n",
      "dtype: int64\n",
      "Empty DataFrame\n",
      "Columns: [VendorID, pickup_datetime, dropoff_datetime, passenger_count, trip_distance, RatecodeID, store_and_fwd_flag, PULocationID, DOLocationID, payment_type, fare_amount, extra, mta_tax, tip_amount, tolls_amount, improvement_surcharge, total_amount, congestion_surcharge, airport_fee]\n",
      "Index: []\n"
     ]
    }
   ],
   "source": [
    "# Verify that the data types are correct\n",
    "print(df_cleaned.dtypes)\n",
    "\n",
    "# Check if there are any missing values\n",
    "print(df_cleaned.isnull().sum())\n",
    "\n",
    "# Check if pickup_datetime is later than dropoff_datetime\n",
    "print(df_cleaned[df_cleaned['pickup_datetime'] > df_cleaned['dropoff_datetime']])"
   ]
  },
  {
   "cell_type": "code",
   "execution_count": 29,
   "metadata": {},
   "outputs": [
    {
     "name": "stdout",
     "output_type": "stream",
     "text": [
      "Data has been cleaned and saved to C:\\Users\\Anthony Zambrano\\Taxis_Fare_Project\\c_y_trip_data-2022csv\\cleaned_yellow_tripdata_2022-12.csv\n"
     ]
    }
   ],
   "source": [
    "#Save the clean data in a csv file \n",
    "cleaned_file_path = r'C:\\Users\\Anthony Zambrano\\Taxis_Fare_Project\\c_y_trip_data-2022csv\\cleaned_yellow_tripdata_2022-12.csv'\n",
    "df_cleaned.to_csv(cleaned_file_path, index=False)\n",
    "\n",
    "print(f\"Data has been cleaned and saved to {cleaned_file_path}\")\n"
   ]
  },
  {
   "cell_type": "markdown",
   "metadata": {},
   "source": [
    "Resumen en español:\n",
    "\n",
    "1. Carga de los Datos Originales\n",
    "Se cargaron los archivos CSV con los datos originales de los viajes de taxis utilizando pandas.\n",
    "2. Inspección Inicial de los Datos\n",
    "Se verificó la estructura de los datos y se identificaron los valores nulos y erróneos.\n",
    "3. Manejo de Valores Faltantes\n",
    "Se identificaron y eliminaron las filas con valores nulos en columnas críticas, como RatecodeID y store_and_fwd_flag.\n",
    "4. Tratamiento de Outliers (Valores Atípicos)\n",
    "Se identificaron valores extremos en columnas como trip_distance y fare_amount, y se eliminaron o ajustaron los que eran erróneos.\n",
    "5. Conversión de Columnas de Fechas\n",
    "Las columnas de fechas (pickup_datetime y dropoff_datetime) se convirtieron al tipo de dato datetime para facilitar el análisis.\n",
    "6. Guardar los Datos Limpiados\n",
    "Los datos limpios se guardaron en un nuevo archivo CSV, preservando los datos originales.\n",
    "7. Verificación y Control de Calidad\n",
    "Se realizaron verificaciones para asegurar que los datos estaban limpios y listos para análisis.\n",
    "Resultado Final\n",
    "Los datos están limpios, consistentes y listos para análisis. Se conserva una copia de los datos originales para respaldo.\n",
    "Summary in English:\n",
    "\n",
    "1. Loading the Original Data\n",
    "The original CSV files with taxi trip data were loaded using pandas.\n",
    "2. Initial Data Inspection\n",
    "The data structure was checked, and null and erroneous values were identified.\n",
    "3. Handling Missing Values\n",
    "Rows with missing values in critical columns, such as RatecodeID and store_and_fwd_flag, were identified and removed.\n",
    "4. Handling Outliers\n",
    "Extreme values in columns like trip_distance and fare_amount were identified and either removed or adjusted if erroneous.\n",
    "5. Converting Date Columns\n",
    "The date columns (pickup_datetime and dropoff_datetime) were converted to datetime format for easier analysis.\n",
    "6. Saving Cleaned Data\n",
    "The cleaned data was saved into a new CSV file, keeping the original data intact.\n",
    "7. Verification and Quality Control\n",
    "Additional checks were performed to ensure the data was clean and ready for analysis.\n",
    "Final Result\n",
    "The data is now clean, consistent, and ready for analysis. A backup of the original data is kept for reference."
   ]
  },
  {
   "cell_type": "code",
   "execution_count": 4,
   "metadata": {},
   "outputs": [
    {
     "name": "stdout",
     "output_type": "stream",
     "text": [
      "   LocationID        Borough                     Zone service_zone\n",
      "0           1            EWR           Newark Airport          EWR\n",
      "1           2         Queens              Jamaica Bay    Boro Zone\n",
      "2           3          Bronx  Allerton/Pelham Gardens    Boro Zone\n",
      "3           4      Manhattan            Alphabet City  Yellow Zone\n",
      "4           5  Staten Island            Arden Heights    Boro Zone\n",
      "Index(['LocationID', 'Borough', 'Zone', 'service_zone'], dtype='object')\n",
      "       LocationID\n",
      "count  265.000000\n",
      "mean   133.000000\n",
      "std     76.643112\n",
      "min      1.000000\n",
      "25%     67.000000\n",
      "50%    133.000000\n",
      "75%    199.000000\n",
      "max    265.000000\n"
     ]
    }
   ],
   "source": [
    "import pandas as pd\n",
    "\n",
    "#Taxi_Zone\n",
    "\n",
    "# Load the CSV file\n",
    "file_path = 'C:\\\\Users\\\\Anthony Zambrano\\\\Downloads\\\\taxi_zone_lookup.csv'  # Replace with the path to your file\n",
    "df = pd.read_csv(file_path)\n",
    "\n",
    "# Display the first rows of the file\n",
    "print(df.head())  # You can change the number to view more rows, for example df.head(10) to view 10 rows\n",
    "\n",
    "# If you want to see all the columns\n",
    "print(df.columns)\n",
    "\n",
    "# To see descriptive statistics of the dataset\n",
    "print(df.describe())"
   ]
  },
  {
   "cell_type": "code",
   "execution_count": 5,
   "metadata": {},
   "outputs": [
    {
     "name": "stdout",
     "output_type": "stream",
     "text": [
      "LocationID      0\n",
      "Borough         1\n",
      "Zone            1\n",
      "service_zone    2\n",
      "dtype: int64\n"
     ]
    }
   ],
   "source": [
    "# Check for missing values in the dataset\n",
    "print(df.isnull().sum())\n"
   ]
  },
  {
   "cell_type": "code",
   "execution_count": 6,
   "metadata": {},
   "outputs": [
    {
     "name": "stdout",
     "output_type": "stream",
     "text": [
      "count    265.000000\n",
      "mean     133.000000\n",
      "std       76.643112\n",
      "min        1.000000\n",
      "25%       67.000000\n",
      "50%      133.000000\n",
      "75%      199.000000\n",
      "max      265.000000\n",
      "Name: LocationID, dtype: float64\n"
     ]
    }
   ],
   "source": [
    "# Get summary statistics for LocationID\n",
    "print(df['LocationID'].describe())\n"
   ]
  },
  {
   "cell_type": "code",
   "execution_count": 7,
   "metadata": {},
   "outputs": [
    {
     "name": "stdout",
     "output_type": "stream",
     "text": [
      "Borough\n",
      "Queens           69\n",
      "Manhattan        69\n",
      "Brooklyn         61\n",
      "Bronx            43\n",
      "Staten Island    20\n",
      "EWR               1\n",
      "Unknown           1\n",
      "Name: count, dtype: int64\n"
     ]
    }
   ],
   "source": [
    "# Count the frequency of each Borough\n",
    "print(df['Borough'].value_counts())\n"
   ]
  },
  {
   "cell_type": "code",
   "execution_count": 8,
   "metadata": {},
   "outputs": [
    {
     "name": "stdout",
     "output_type": "stream",
     "text": [
      "     LocationID        Borough                       Zone service_zone\n",
      "1             2         Queens                Jamaica Bay    Boro Zone\n",
      "2             3          Bronx    Allerton/Pelham Gardens    Boro Zone\n",
      "4             5  Staten Island              Arden Heights    Boro Zone\n",
      "5             6  Staten Island    Arrochar/Fort Wadsworth    Boro Zone\n",
      "6             7         Queens                    Astoria    Boro Zone\n",
      "..          ...            ...                        ...          ...\n",
      "255         256       Brooklyn  Williamsburg (South Side)    Boro Zone\n",
      "256         257       Brooklyn            Windsor Terrace    Boro Zone\n",
      "257         258         Queens                  Woodhaven    Boro Zone\n",
      "258         259          Bronx         Woodlawn/Wakefield    Boro Zone\n",
      "259         260         Queens                   Woodside    Boro Zone\n",
      "\n",
      "[205 rows x 4 columns]\n"
     ]
    }
   ],
   "source": [
    "# Filter rows where service_zone is 'Boro Zone'\n",
    "filtered_df = df[df['service_zone'] == 'Boro Zone']\n",
    "print(filtered_df)\n"
   ]
  },
  {
   "cell_type": "code",
   "execution_count": 9,
   "metadata": {},
   "outputs": [
    {
     "name": "stdout",
     "output_type": "stream",
     "text": [
      "         Borough service_zone  count\n",
      "0          Bronx    Boro Zone     43\n",
      "1       Brooklyn    Boro Zone     61\n",
      "2            EWR          EWR      1\n",
      "3      Manhattan    Boro Zone     14\n",
      "4      Manhattan  Yellow Zone     55\n",
      "5         Queens     Airports      2\n",
      "6         Queens    Boro Zone     67\n",
      "7  Staten Island    Boro Zone     20\n"
     ]
    }
   ],
   "source": [
    "# Group by 'Borough' and 'service_zone' and count the number of entries in each group\n",
    "grouped_df = df.groupby(['Borough', 'service_zone']).size().reset_index(name='count')\n",
    "print(grouped_df)\n"
   ]
  },
  {
   "cell_type": "code",
   "execution_count": 10,
   "metadata": {},
   "outputs": [
    {
     "name": "stdout",
     "output_type": "stream",
     "text": [
      "     LocationID    Borough                Zone service_zone\n",
      "264         265        NaN      Outside of NYC          NaN\n",
      "263         264    Unknown                 NaN          NaN\n",
      "262         263  Manhattan      Yorkville West  Yellow Zone\n",
      "261         262  Manhattan      Yorkville East  Yellow Zone\n",
      "260         261  Manhattan  World Trade Center  Yellow Zone\n"
     ]
    }
   ],
   "source": [
    "# Sort by LocationID in descending order\n",
    "sorted_df = df.sort_values(by='LocationID', ascending=False)\n",
    "print(sorted_df.head())\n"
   ]
  },
  {
   "cell_type": "code",
   "execution_count": 11,
   "metadata": {},
   "outputs": [
    {
     "name": "stdout",
     "output_type": "stream",
     "text": [
      "Empty DataFrame\n",
      "Columns: [LocationID, Borough, Zone, service_zone]\n",
      "Index: []\n"
     ]
    }
   ],
   "source": [
    "# Check for duplicate LocationIDs\n",
    "duplicates = df[df.duplicated(subset='LocationID')]\n",
    "print(duplicates)\n"
   ]
  },
  {
   "cell_type": "code",
   "execution_count": 12,
   "metadata": {},
   "outputs": [
    {
     "name": "stdout",
     "output_type": "stream",
     "text": [
      "['Newark Airport' 'Jamaica Bay' 'Allerton/Pelham Gardens' 'Alphabet City'\n",
      " 'Arden Heights' 'Arrochar/Fort Wadsworth' 'Astoria' 'Astoria Park'\n",
      " 'Auburndale' 'Baisley Park' 'Bath Beach' 'Battery Park'\n",
      " 'Battery Park City' 'Bay Ridge' 'Bay Terrace/Fort Totten' 'Bayside'\n",
      " 'Bedford' 'Bedford Park' 'Bellerose' 'Belmont' 'Bensonhurst East'\n",
      " 'Bensonhurst West' 'Bloomfield/Emerson Hill' 'Bloomingdale' 'Boerum Hill'\n",
      " 'Borough Park' 'Breezy Point/Fort Tilden/Riis Beach'\n",
      " 'Briarwood/Jamaica Hills' 'Brighton Beach' 'Broad Channel' 'Bronx Park'\n",
      " 'Bronxdale' 'Brooklyn Heights' 'Brooklyn Navy Yard' 'Brownsville'\n",
      " 'Bushwick North' 'Bushwick South' 'Cambria Heights' 'Canarsie'\n",
      " 'Carroll Gardens' 'Central Harlem' 'Central Harlem North' 'Central Park'\n",
      " 'Charleston/Tottenville' 'Chinatown' 'City Island' 'Claremont/Bathgate'\n",
      " 'Clinton East' 'Clinton Hill' 'Clinton West' 'Co-Op City' 'Cobble Hill'\n",
      " 'College Point' 'Columbia Street' 'Coney Island' 'Corona' 'Country Club'\n",
      " 'Crotona Park' 'Crotona Park East' 'Crown Heights North'\n",
      " 'Crown Heights South' 'Cypress Hills' 'Douglaston'\n",
      " 'Downtown Brooklyn/MetroTech' 'DUMBO/Vinegar Hill' 'Dyker Heights'\n",
      " 'East Chelsea' 'East Concourse/Concourse Village' 'East Elmhurst'\n",
      " 'East Flatbush/Farragut' 'East Flatbush/Remsen Village' 'East Flushing'\n",
      " 'East Harlem North' 'East Harlem South' 'East New York'\n",
      " 'East New York/Pennsylvania Avenue' 'East Tremont' 'East Village'\n",
      " 'East Williamsburg' 'Eastchester' 'Elmhurst' 'Elmhurst/Maspeth'\n",
      " \"Eltingville/Annadale/Prince's Bay\" 'Erasmus' 'Far Rockaway'\n",
      " 'Financial District North' 'Financial District South'\n",
      " 'Flatbush/Ditmas Park' 'Flatiron' 'Flatlands' 'Flushing'\n",
      " 'Flushing Meadows-Corona Park' 'Fordham South' 'Forest Hills'\n",
      " 'Forest Park/Highland Park' 'Fort Greene' 'Fresh Meadows'\n",
      " 'Freshkills Park' 'Garment District' 'Glen Oaks' 'Glendale'\n",
      " \"Governor's Island/Ellis Island/Liberty Island\" 'Gowanus' 'Gramercy'\n",
      " 'Gravesend' 'Great Kills' 'Great Kills Park' 'Green-Wood Cemetery'\n",
      " 'Greenpoint' 'Greenwich Village North' 'Greenwich Village South'\n",
      " 'Grymes Hill/Clifton' 'Hamilton Heights' 'Hammels/Arverne'\n",
      " 'Heartland Village/Todt Hill' 'Highbridge' 'Highbridge Park'\n",
      " 'Hillcrest/Pomonok' 'Hollis' 'Homecrest' 'Howard Beach' 'Hudson Sq'\n",
      " 'Hunts Point' 'Inwood' 'Inwood Hill Park' 'Jackson Heights' 'Jamaica'\n",
      " 'Jamaica Estates' 'JFK Airport' 'Kensington' 'Kew Gardens'\n",
      " 'Kew Gardens Hills' 'Kingsbridge Heights' 'Kips Bay' 'LaGuardia Airport'\n",
      " 'Laurelton' 'Lenox Hill East' 'Lenox Hill West' 'Lincoln Square East'\n",
      " 'Lincoln Square West' 'Little Italy/NoLiTa'\n",
      " 'Long Island City/Hunters Point' 'Long Island City/Queens Plaza'\n",
      " 'Longwood' 'Lower East Side' 'Madison' 'Manhattan Beach'\n",
      " 'Manhattan Valley' 'Manhattanville' 'Marble Hill'\n",
      " 'Marine Park/Floyd Bennett Field' 'Marine Park/Mill Basin'\n",
      " 'Mariners Harbor' 'Maspeth' 'Meatpacking/West Village West'\n",
      " 'Melrose South' 'Middle Village' 'Midtown Center' 'Midtown East'\n",
      " 'Midtown North' 'Midtown South' 'Midwood' 'Morningside Heights'\n",
      " 'Morrisania/Melrose' 'Mott Haven/Port Morris' 'Mount Hope' 'Murray Hill'\n",
      " 'Murray Hill-Queens' 'New Dorp/Midland Beach' 'North Corona' 'Norwood'\n",
      " 'Oakland Gardens' 'Oakwood' 'Ocean Hill' 'Ocean Parkway South'\n",
      " 'Old Astoria' 'Ozone Park' 'Park Slope' 'Parkchester' 'Pelham Bay'\n",
      " 'Pelham Bay Park' 'Pelham Parkway' 'Penn Station/Madison Sq West'\n",
      " 'Port Richmond' 'Prospect-Lefferts Gardens' 'Prospect Heights'\n",
      " 'Prospect Park' 'Queens Village' 'Queensboro Hill'\n",
      " 'Queensbridge/Ravenswood' 'Randalls Island' 'Red Hook' 'Rego Park'\n",
      " 'Richmond Hill' 'Ridgewood' 'Rikers Island'\n",
      " 'Riverdale/North Riverdale/Fieldston' 'Rockaway Park' 'Roosevelt Island'\n",
      " 'Rosedale' 'Rossville/Woodrow' 'Saint Albans' 'Saint George/New Brighton'\n",
      " 'Saint Michaels Cemetery/Woodside' 'Schuylerville/Edgewater Park'\n",
      " 'Seaport' 'Sheepshead Bay' 'SoHo' 'Soundview/Bruckner'\n",
      " 'Soundview/Castle Hill' 'South Beach/Dongan Hills' 'South Jamaica'\n",
      " 'South Ozone Park' 'South Williamsburg' 'Springfield Gardens North'\n",
      " 'Springfield Gardens South' 'Spuyten Duyvil/Kingsbridge' 'Stapleton'\n",
      " 'Starrett City' 'Steinway' 'Stuy Town/Peter Cooper Village'\n",
      " 'Stuyvesant Heights' 'Sunnyside' 'Sunset Park East' 'Sunset Park West'\n",
      " 'Sutton Place/Turtle Bay North' 'Times Sq/Theatre District'\n",
      " 'TriBeCa/Civic Center' 'Two Bridges/Seward Park' 'UN/Turtle Bay South'\n",
      " 'Union Sq' 'University Heights/Morris Heights' 'Upper East Side North'\n",
      " 'Upper East Side South' 'Upper West Side North' 'Upper West Side South'\n",
      " 'Van Cortlandt Park' 'Van Cortlandt Village' 'Van Nest/Morris Park'\n",
      " 'Washington Heights North' 'Washington Heights South' 'West Brighton'\n",
      " 'West Chelsea/Hudson Yards' 'West Concourse' 'West Farms/Bronx River'\n",
      " 'West Village' 'Westchester Village/Unionport' 'Westerleigh' 'Whitestone'\n",
      " 'Willets Point' 'Williamsbridge/Olinville' 'Williamsburg (North Side)'\n",
      " 'Williamsburg (South Side)' 'Windsor Terrace' 'Woodhaven'\n",
      " 'Woodlawn/Wakefield' 'Woodside' 'World Trade Center' 'Yorkville East'\n",
      " 'Yorkville West' nan 'Outside of NYC']\n"
     ]
    }
   ],
   "source": [
    "# Get unique values in the 'Zone' column\n",
    "print(df['Zone'].unique())\n"
   ]
  },
  {
   "cell_type": "code",
   "execution_count": 13,
   "metadata": {},
   "outputs": [
    {
     "data": {
      "image/png": "[encoded data removed]",
      "text/plain": [
       "<Figure size 640x480 with 1 Axes>"
      ]
     },
     "metadata": {},
     "output_type": "display_data"
    }
   ],
   "source": [
    "import matplotlib.pyplot as plt\n",
    "\n",
    "# Plot histogram of LocationID\n",
    "df['LocationID'].hist(bins=20)\n",
    "plt.title('LocationID Distribution')\n",
    "plt.xlabel('LocationID')\n",
    "plt.ylabel('Frequency')\n",
    "plt.show()\n"
   ]
  },
  {
   "cell_type": "code",
   "execution_count": 14,
   "metadata": {},
   "outputs": [
    {
     "name": "stdout",
     "output_type": "stream",
     "text": [
      "Borough\n",
      "Bronx            43\n",
      "Brooklyn         61\n",
      "EWR               1\n",
      "Manhattan        67\n",
      "Queens           68\n",
      "Staten Island    20\n",
      "Unknown           0\n",
      "Name: Zone, dtype: int64\n"
     ]
    }
   ],
   "source": [
    "# Count unique zones for each Borough\n",
    "unique_zones = df.groupby('Borough')['Zone'].nunique()\n",
    "print(unique_zones)\n"
   ]
  },
  {
   "cell_type": "code",
   "execution_count": null,
   "metadata": {},
   "outputs": [],
   "source": []
  }
 ],
 "metadata": {
  "kernelspec": {
   "display_name": "NY_taxis_env",
   "language": "python",
   "name": "python3"
  },
  "language_info": {
   "codemirror_mode": {
    "name": "ipython",
    "version": 3
   },
   "file_extension": ".py",
   "mimetype": "text/x-python",
   "name": "python",
   "nbconvert_exporter": "python",
   "pygments_lexer": "ipython3",
   "version": "3.11.10"
  }
 },
 "nbformat": 4,
 "nbformat_minor": 2
}
